{
 "cells": [
  {
   "cell_type": "code",
   "execution_count": 5,
   "metadata": {},
   "outputs": [],
   "source": [
    "import functions.add_path\n",
    "\n",
    "import functions.plotnine_theme\n",
    "import pandas as pd\n",
    "import numpy as np\n",
    "\n",
    "import matplotlib.pyplot as plt\n",
    "from plotnine import *\n",
    "from plotnine.data import *\n",
    "\n",
    "import functions.et_condition_df as condition_df\n",
    "import functions.et_make_df as  make_df\n",
    "import be_load"
   ]
  },
  {
   "cell_type": "code",
   "execution_count": 6,
   "metadata": {},
   "outputs": [
    {
     "name": "stdout",
     "output_type": "stream",
     "text": [
      "/net/store/nbp/users/behinger/projects/etcomp/lib/pupil/pupil_src/shared_modules/calibration_routines/optimization_calibration\n"
     ]
    }
   ],
   "source": [
    "import os\n",
    "print(os.getcwd())\n",
    "if os.getcwd()[-4:] != 'code':\n",
    "    try:\n",
    "        os.chdir('./code')\n",
    "    except:\n",
    "        os.chdir('/net/store/nbp/users/behinger/projects/etcomp/code')\n"
   ]
  },
  {
   "cell_type": "code",
   "execution_count": 7,
   "metadata": {},
   "outputs": [],
   "source": [
    "import functions.et_import as et_import\n",
    "import scipy\n",
    "import scipy.stats\n",
    "import numpy as np\n"
   ]
  },
  {
   "cell_type": "code",
   "execution_count": 13,
   "metadata": {},
   "outputs": [],
   "source": [
    "def pl_fix_timelag(pl):\n",
    "    t_cam = np.asarray([p['recent_frame_timestamp'] for p in pl['notifications'] if p['subject']=='trigger'])# camera time\n",
    "    t_msg = np.asarray([p['timestamp'] for p in pl['notifications'] if p['subject']=='trigger']) # msg time\n",
    "    #slope, intercept, r_value, p_value, std_err  = scipy.stats.linregress(t_msg,t_cam) # predict camera time based on msg time\n",
    "    slope,intercept,low,high = scipy.stats.theilslopes(t_cam,t_msg)\n",
    "    t_fixed_msg = slope*t_msg + intercept\n",
    "    print(\"lag found (at t=0) of :%.16fms, slope of %.16f\"%(intercept,slope))\n",
    "    return(t_fixed_msg)"
   ]
  },
  {
   "cell_type": "code",
   "execution_count": 14,
   "metadata": {},
   "outputs": [
    {
     "name": "stdout",
     "output_type": "stream",
     "text": [
      "lag found (at t=0) of :15.0431047803722322ms, slope of 0.9999555986612232\n"
     ]
    },
    {
     "data": {
      "image/png": "[encoded data removed]",
      "text/plain": [
       "<Figure size 432x288 with 1 Axes>"
      ]
     },
     "metadata": {},
     "output_type": "display_data"
    }
   ],
   "source": [
    "# Load all subjects and plot them (5 / 15 show drift!)\n",
    "for ix,subject in enumerate([3]):\n",
    "    try:\n",
    "        pl = et_import.raw_pl_data(subject=\"VP%i\"%(subject))\n",
    "        t_msg = np.asarray([p['timestamp'] for p in pl['notifications'] if p['subject']=='trigger']) # msg time\n",
    "        t_cam = np.asarray([p['recent_frame_timestamp'] for p in pl['notifications'] if p['subject']=='trigger'])\n",
    "        newtime = pl_fix_timelag(pl)\n",
    "        plt.figure(ix)\n",
    "        plt.plot(t_msg-t_cam,'b')\n",
    "        plt.plot(newtime-t_cam,'r')\n",
    "    except:\n",
    "        print('subject %i not successful'%(subject))\n",
    "    "
   ]
  },
  {
   "cell_type": "code",
   "execution_count": 8,
   "metadata": {},
   "outputs": [],
   "source": [
    "#Load one subject to fix drift, write function, apply to all msgs\n",
    "subject=\n",
    "pl = et_import.raw_pl_data(subject=\"VP%i\"%(subject))"
   ]
  },
  {
   "cell_type": "code",
   "execution_count": 22,
   "metadata": {},
   "outputs": [],
   "source": []
  },
  {
   "cell_type": "code",
   "execution_count": 23,
   "metadata": {},
   "outputs": [],
   "source": []
  },
  {
   "cell_type": "code",
   "execution_count": 26,
   "metadata": {},
   "outputs": [],
   "source": []
  },
  {
   "cell_type": "code",
   "execution_count": null,
   "metadata": {},
   "outputs": [],
   "source": []
  }
 ],
 "metadata": {
  "kernelspec": {
   "display_name": "Python 3",
   "language": "python",
   "name": "python3"
  },
  "language_info": {
   "codemirror_mode": {
    "name": "ipython",
    "version": 3
   },
   "file_extension": ".py",
   "mimetype": "text/x-python",
   "name": "python",
   "nbconvert_exporter": "python",
   "pygments_lexer": "ipython3",
   "version": "3.5.2"
  }
 },
 "nbformat": 4,
 "nbformat_minor": 2
}
