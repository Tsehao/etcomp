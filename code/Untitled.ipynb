{
 "cells": [
  {
   "cell_type": "code",
   "execution_count": 1,
   "metadata": {},
   "outputs": [
    {
     "ename": "NameError",
     "evalue": "name 'os' is not defined",
     "output_type": "error",
     "traceback": [
      "\u001b[0;31m---------------------------------------------------------------------------\u001b[0m",
      "\u001b[0;31mNameError\u001b[0m                                 Traceback (most recent call last)",
      "\u001b[0;32m<ipython-input-1-cbdf2fb81efc>\u001b[0m in \u001b[0;36m<module>\u001b[0;34m\u001b[0m\n\u001b[1;32m      5\u001b[0m \u001b[0mpath\u001b[0m\u001b[0;34m=\u001b[0m\u001b[0;34m'/net/store/nbp/projects/IntoTheWild/Daten/Eyetracking/Wild/VP21/2018_05_24/001'\u001b[0m\u001b[0;34m\u001b[0m\u001b[0m\n\u001b[1;32m      6\u001b[0m \u001b[0mfilename\u001b[0m \u001b[0;34m=\u001b[0m \u001b[0;34m\"pldata\"\u001b[0m\u001b[0;34m\u001b[0m\u001b[0m\n\u001b[0;32m----> 7\u001b[0;31m \u001b[0mcompleteName\u001b[0m \u001b[0;34m=\u001b[0m \u001b[0mos\u001b[0m\u001b[0;34m.\u001b[0m\u001b[0mpath\u001b[0m\u001b[0;34m.\u001b[0m\u001b[0mjoin\u001b[0m\u001b[0;34m(\u001b[0m\u001b[0mvideo_file_path\u001b[0m\u001b[0;34m,\u001b[0m \u001b[0mname_of_file\u001b[0m\u001b[0;34m)\u001b[0m\u001b[0;34m\u001b[0m\u001b[0m\n\u001b[0m\u001b[1;32m      8\u001b[0m \u001b[0;31m#f = open(completeName,'w')\u001b[0m\u001b[0;34m\u001b[0m\u001b[0;34m\u001b[0m\u001b[0m\n\u001b[1;32m      9\u001b[0m \u001b[0;31m#f.write(str(pupil_positions))\u001b[0m\u001b[0;34m\u001b[0m\u001b[0;34m\u001b[0m\u001b[0m\n",
      "\u001b[0;31mNameError\u001b[0m: name 'os' is not defined"
     ]
    }
   ],
   "source": [
    "#f=open(\"pupil.txt\", \"a+\")\n",
    "#writefile pupil.py\n",
    "#f = open('pldata', 'w')\n",
    "#f.write(\"\\n\".join(pupil_positions))\n",
    "path='/net/store/nbp/projects/IntoTheWild/Daten/Eyetracking/Wild/VP21/2018_05_24/001'\n",
    "filename = \"pldata\"\n",
    "completeName = os.path.join(video_file_path, name_of_file)   \n",
    "#f = open(completeName,'w')\n",
    "#f.write(str(pupil_positions))\n",
    "#f.close()\n",
    "\n",
    "\n",
    "#import pickle\n",
    "#dict = {'Python' : '.py', 'C++' : '.cpp', 'Java' : '.java'}\n",
    "#f = open(completeName+\".pkl\",\"wb\")\n",
    "#pickle.dump(pupil_positions,f)\n",
    "#f.close()\n",
    "\n",
    "#import json\n",
    "#json = json.dumps(pupil_positions)\n",
    "#f = open(\"pupil_positions.json\",\"w\")\n",
    "#f.write(json)\n",
    "#f.close()\n",
    "#pldata['pupil_position'] = pupil_position\n",
    "name = path + '/' + filename + '.json'\n",
    "name\n",
    "with open(name, 'w') as outfile:\n",
    "    json.dump(pupil_positions, outfile)\n",
    "\n",
    "import json\n",
    "\n",
    "def writeToJSONFile(path, fileName, data):\n",
    "    filePathNameWExt = './' + path + '/' + filename + '.json'\n",
    "    with open(filePathNameWExt, 'w') as fp:\n",
    "        json.dump(data, fp)\n",
    "\n",
    "\n",
    "# Example\n",
    "pldata = {}\n",
    "pldata['pupil_posiitons'] = 'pupil_positions'\n",
    "\n",
    "writeToJSONFile('./','file-name',pldata)\n",
    "print(\"hi\")\n",
    "\n",
    "\n",
    "import csv\n",
    "path='/net/store/nbp/projects/IntoTheWild/Daten/Eyetracking/Wild/VP21/2018_05_24/001'\n",
    "filename = \"pldata\"\n",
    "completeName = os.path.join(video_file_path, name_of_file)\n",
    "w = csv.writer(open(completeName+\".csv\", \"w\"))\n",
    "for key, val in pupil_positions.items():\n",
    "w.writerow([key, val])\n",
    "\n"
   ]
  }
 ],
 "metadata": {
  "kernelspec": {
   "display_name": "Python 3",
   "language": "python",
   "name": "python3"
  },
  "language_info": {
   "codemirror_mode": {
    "name": "ipython",
    "version": 3
   },
   "file_extension": ".py",
   "mimetype": "text/x-python",
   "name": "python",
   "nbconvert_exporter": "python",
   "pygments_lexer": "ipython3",
   "version": "3.5.2"
  }
 },
 "nbformat": 4,
 "nbformat_minor": 2
}
