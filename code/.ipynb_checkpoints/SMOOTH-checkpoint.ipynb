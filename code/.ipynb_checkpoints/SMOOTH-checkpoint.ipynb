{
 "cells": [
  {
   "cell_type": "code",
   "execution_count": 1,
   "metadata": {},
   "outputs": [],
   "source": [
    "%load_ext autoreload\n",
    "%autoreload 2"
   ]
  },
  {
   "cell_type": "code",
   "execution_count": 2,
   "metadata": {},
   "outputs": [
    {
     "name": "stderr",
     "output_type": "stream",
     "text": [
      "/home/student/b/behinger/.local/lib/python3.5/site-packages/h5py/__init__.py:36: FutureWarning: Conversion of the second argument of issubdtype from `float` to `np.floating` is deprecated. In future, it will be treated as `np.float64 == np.dtype(float).type`.\n",
      "  from ._conv import register_converters as _register_converters\n"
     ]
    },
    {
     "name": "stdout",
     "output_type": "stream",
     "text": [
      "reached exception:pyaudio\n",
      "reached exception:optimization_calibration\n",
      "reached exception:glfw.GLFW_PRESS\n",
      "reached exception:glfw.GLFW_KEY_SPACE\n",
      "reached exception:glfw.GLFW_KEY_F\n",
      "reached exception:glfw.glfwSetKeyCallback\n",
      "reached exception:fingertip_calibration\n",
      "reached exception:glfw.GLFW_PRESS\n",
      "reached exception:natural_features_calibration\n",
      "reached exception:optimization_calibration\n",
      "reached exception:optimization_calibration\n",
      "reached exception:glfw.GLFW_PRESS\n",
      "reached exception:glfw.GLFW_KEY_SPACE\n",
      "reached exception:glfw.GLFW_KEY_F\n",
      "reached exception:glfw.glfwSetKeyCallback\n",
      "reached exception:fingertip_calibration\n",
      "reached exception:glfw.GLFW_PRESS\n",
      "reached exception:natural_features_calibration\n",
      "reached exception:optimization_calibration\n"
     ]
    }
   ],
   "source": [
    "import functions.add_path\n",
    "\n",
    "import functions.plotnine_theme\n",
    "import pandas as pd\n",
    "import numpy as np\n",
    "\n",
    "import matplotlib.pyplot as plt\n",
    "from plotnine import *\n",
    "from plotnine.data import *\n",
    "\n",
    "import functions.et_condition_df as condition_df\n",
    "import functions.et_make_df as  make_df\n",
    "import be_load"
   ]
  },
  {
   "cell_type": "code",
   "execution_count": 3,
   "metadata": {},
   "outputs": [
    {
     "name": "stdout",
     "output_type": "stream",
     "text": [
      "/net/store/nbp/users/behinger/projects/etcomp/lib/pupil/pupil_src/shared_modules/calibration_routines/optimization_calibration\n"
     ]
    }
   ],
   "source": [
    "import os\n",
    "print(os.getcwd())\n",
    "if os.getcwd()[-4:] != 'code':\n",
    "    try:\n",
    "        os.chdir('./code')\n",
    "    except:\n",
    "        os.chdir('/net/store/nbp/users/behinger/projects/etcomp/code')\n"
   ]
  },
  {
   "cell_type": "code",
   "execution_count": 4,
   "metadata": {},
   "outputs": [
    {
     "name": "stdout",
     "output_type": "stream",
     "text": [
      "loading subject VP1 with et el\n",
      "loading subject VP1 with et pl\n",
      "loading subject VP2 with et el\n",
      "loading subject VP2 with et pl\n",
      "loading subject VP3 with et el\n",
      "loading subject VP3 with et pl\n",
      "loading subject VP4 with et el\n",
      "loading subject VP4 with et pl\n",
      "loading subject VP11 with et el\n",
      "loading subject VP11 with et pl\n",
      "loading subject VP12 with et el\n",
      "loading subject VP12 with et pl\n",
      "loading subject VP14 with et el\n",
      "loading subject VP14 with et pl\n",
      "loading subject VP15 with et el\n",
      "loading subject VP15 with et pl\n",
      "loading subject VP19 with et el\n",
      "loading subject VP19 with et pl\n",
      "loading subject VP20 with et el\n",
      "File b'/net/store/nbp/projects/etcomp/VP20/preprocessed/hmm_el_cleaned_samples.csv' does not exist\n",
      "warning subject VP20 et el not found\n",
      "loading subject VP20 with et pl\n",
      "loading subject VP22 with et el\n",
      "loading subject VP22 with et pl\n",
      "loading subject VP23 with et el\n",
      "loading subject VP23 with et pl\n",
      "loading subject VP24 with et el\n",
      "loading subject VP24 with et pl\n",
      "loading subject VP25 with et el\n",
      "loading subject VP25 with et pl\n",
      "loading subject VP26 with et el\n",
      "loading subject VP26 with et pl\n"
     ]
    }
   ],
   "source": [
    "(etsamples,etmsgs,etevents) = be_load.load_data()"
   ]
  },
  {
   "cell_type": "code",
   "execution_count": 5,
   "metadata": {},
   "outputs": [
    {
     "name": "stderr",
     "output_type": "stream",
     "text": [
      "Eyetracker: el    Subject: VP1 \n",
      "Eyetracker: pl    Subject: VP1 \n",
      "Eyetracker: el    Subject: VP2 \n",
      "Eyetracker: pl    Subject: VP2 \n",
      "Eyetracker: el    Subject: VP3 \n",
      "Eyetracker: pl    Subject: VP3 \n",
      "Eyetracker: el    Subject: VP4 \n",
      "Eyetracker: pl    Subject: VP4 \n",
      "Eyetracker: el    Subject: VP11 \n",
      "Eyetracker: pl    Subject: VP11 \n",
      "Eyetracker: el    Subject: VP12 \n",
      "Eyetracker: pl    Subject: VP12 \n",
      "Eyetracker: el    Subject: VP14 \n",
      "Eyetracker: pl    Subject: VP14 \n",
      "Eyetracker: el    Subject: VP15 \n",
      "Eyetracker: pl    Subject: VP15 \n",
      "Eyetracker: el    Subject: VP19 \n",
      "Eyetracker: pl    Subject: VP19 \n",
      "Eyetracker: el    Subject: VP20 \n",
      "empty subject:VP20,et:el\n",
      "Eyetracker: pl    Subject: VP20 \n",
      "Eyetracker: el    Subject: VP22 \n",
      "Eyetracker: pl    Subject: VP22 \n",
      "Eyetracker: el    Subject: VP23 \n",
      "Eyetracker: pl    Subject: VP23 \n",
      "Eyetracker: el    Subject: VP24 \n",
      "Eyetracker: pl    Subject: VP24 \n",
      "Eyetracker: el    Subject: VP25 \n",
      "Eyetracker: pl    Subject: VP25 \n",
      "Eyetracker: el    Subject: VP26 \n",
      "Eyetracker: pl    Subject: VP26 \n"
     ]
    }
   ],
   "source": [
    "#%% Do Smooth Pursuit Analysis\n",
    "smooth = condition_df.get_condition_df(data=(etsamples,etmsgs,etevents),condition=\"SMOOTHPURSUIT\")"
   ]
  },
  {
   "cell_type": "code",
   "execution_count": null,
   "metadata": {},
   "outputs": [],
   "source": [
    "smooth_smooth  = smooth.query(\"type=='smoothpursuit' & condition=='SMOOTH' & exp_event=='trialstart'\")\n",
    "smooth_saccade = smooth.query(\"type=='saccade'       & condition=='SMOOTH' & exp_event=='trialstart'\")"
   ]
  },
  {
   "cell_type": "markdown",
   "metadata": {},
   "source": [
    "# HMM algorithm init times"
   ]
  },
  {
   "cell_type": "code",
   "execution_count": null,
   "metadata": {},
   "outputs": [],
   "source": [
    "# Smooth Pursuit Init Times\n",
    "smooth_smooth_first = smooth_smooth.groupby([\"subject\",\"block\",\"trial\"],as_index=False).first()\n",
    "smooth_smooth_first.loc[:,'onsettime'] = smooth_smooth_first.start_time-smooth_smooth_first.msg_time"
   ]
  },
  {
   "cell_type": "code",
   "execution_count": null,
   "metadata": {},
   "outputs": [],
   "source": [
    "ggplot(smooth_smooth_first,aes(x=\"et\",y=\"onsettime\",color=\"et\"))+stat_summary()+stat_summary()"
   ]
  },
  {
   "cell_type": "markdown",
   "metadata": {},
   "source": [
    "At first glance this looks promising. But if we look closer (next plot) we see that its all based on a lie"
   ]
  },
  {
   "cell_type": "code",
   "execution_count": null,
   "metadata": {},
   "outputs": [],
   "source": [
    "select = \"subject=='VP2'\"\n",
    "\n",
    "start = smooth_smooth.query(select+\"&block==1\").msg_time.iloc[0]\n",
    "\n",
    "dur = 10#s\n",
    "tmpdata = etsamples.query(select+\"&smpl_time>%i & smpl_time <%i\"%(start,start+dur))"
   ]
  },
  {
   "cell_type": "code",
   "execution_count": null,
   "metadata": {},
   "outputs": [],
   "source": [
    "(ggplot(tmpdata,aes(x='smpl_time',y='gx',color=\"type\"))+\n",
    " geom_point()+\n",
    "#annotate(\"vline\",aes(xintercept=\"msg_time\"),data=smooth_smooth.query(select+\"&block==1&msg_time<=%i\"%(start+dur)),)+\n",
    " facet_wrap(\"~eyetracker\"))"
   ]
  },
  {
   "cell_type": "markdown",
   "metadata": {},
   "source": [
    "It became clear that the hmm algorithm is not good enough. The reason is that many fixations are detected as smooith pursuit events"
   ]
  },
  {
   "cell_type": "markdown",
   "metadata": {},
   "source": [
    "# Piecewise Bayesian Regression\n",
    "We have to do multiple steps:\n",
    "- cut the data into epochs\n",
    "- Rotate the data in the line of the smooth pursuit trajectory (and take only the main direction)\n",
    "- Fit the Bayesiaan Piecewise Regression model\n",
    "- Analyse the parameters"
   ]
  },
  {
   "cell_type": "code",
   "execution_count": 6,
   "metadata": {},
   "outputs": [],
   "source": [
    "def makeRot(theta):\n",
    "    theta = np.radians(theta)\n",
    "    c, s = np.cos(theta), np.sin(theta)\n",
    "    R = np.array(((c,-s), (s, c)))\n",
    "    return(R)\n",
    "def rotate(gx,gy,theta):\n",
    "    R = makeRot(theta).T\n",
    "    out = np.dot(R,[gx,gy])\n",
    "    return(out)\n",
    "def rotateRow(row):\n",
    "    #print(row[['angle','gx','gy']])\n",
    "    theta = row.iloc[0].angle\n",
    "    assert(len(row.angle.unique())==1)\n",
    "    #print(theta)\n",
    "    #print(row.gx)\n",
    "    rot = rotate(row.gx.values,row.gy.values,theta)\n",
    "    #print(rot[0])\n",
    "    #print(len(rot[0]))\n",
    "    #print(row.shape)\n",
    "    row.loc[:,'rotated'] = rot[0]\n",
    "    return(row)\n",
    "    "
   ]
  },
  {
   "cell_type": "code",
   "execution_count": null,
   "metadata": {},
   "outputs": [],
   "source": [
    "rotate(0,1,90)"
   ]
  },
  {
   "cell_type": "code",
   "execution_count": null,
   "metadata": {},
   "outputs": [],
   "source": [
    "epochs = make_df.make_epochs(etsamples.query(\"eyetracker=='el'&subject=='VP11'\"),etmsgs.query(\"subject=='VP11'&eyetracker=='el'&exp_event=='trialstart'&condition=='SMOOTH'\"),td=[-0.1,1])"
   ]
  },
  {
   "cell_type": "code",
   "execution_count": null,
   "metadata": {},
   "outputs": [],
   "source": [
    "rotateRow(epochs.iloc[[0,1,2]])"
   ]
  },
  {
   "cell_type": "code",
   "execution_count": null,
   "metadata": {},
   "outputs": [],
   "source": [
    "epochs=  epochs.groupby(\"angle\",group_keys=False).apply(rotateRow)"
   ]
  },
  {
   "cell_type": "code",
   "execution_count": null,
   "metadata": {},
   "outputs": [],
   "source": [
    "epochs.rotated.unique()"
   ]
  },
  {
   "cell_type": "code",
   "execution_count": null,
   "metadata": {},
   "outputs": [],
   "source": [
    "(ggplot(epochs,aes(x='td',y='rotated',color='vel'))+geom_point())"
   ]
  },
  {
   "cell_type": "code",
   "execution_count": null,
   "metadata": {},
   "outputs": [],
   "source": [
    "epochs.columns"
   ]
  },
  {
   "cell_type": "code",
   "execution_count": null,
   "metadata": {},
   "outputs": [],
   "source": [
    "d = epochs.query(\"trial==6&block==2&td<0.6\")\n",
    "datafit={'ntime': d.shape[0],\n",
    "'etdata': d.rotated.values,\n",
    "'time':d.td.values,\n",
    "'tauprior':.185}"
   ]
  },
  {
   "cell_type": "code",
   "execution_count": null,
   "metadata": {},
   "outputs": [],
   "source": [
    "plt.plot(datafit['time'],datafit['etdata'])"
   ]
  },
  {
   "cell_type": "code",
   "execution_count": 7,
   "metadata": {},
   "outputs": [],
   "source": [
    "import pystan\n",
    "sm = pystan.StanModel(file=\"changepoint.stan\")"
   ]
  },
  {
   "cell_type": "code",
   "execution_count": null,
   "metadata": {},
   "outputs": [],
   "source": [
    "import functions.et_helper as helper\n",
    "helper.tic()\n",
    "fit = sm.sampling(data=datafit, iter=800,warmup=300, chains=2)\n",
    "helper.toc()\n",
    "fit"
   ]
  },
  {
   "cell_type": "code",
   "execution_count": null,
   "metadata": {},
   "outputs": [],
   "source": [
    "def predict(row,time):\n",
    "    w = 1. / (1. + np.exp(-(150*(time-row.tau))))\n",
    "    act =  row.offset +  w *  (row.slope * (time-row.tau))\n",
    "    return(act)\n",
    "\n",
    "def stanpredict(fit,niter=None):\n",
    "    post = pd.DataFrame(fit.extract())\n",
    "    time = fit.data['time']\n",
    "    post = post.sample(n=niter,axis=0)\n",
    "    return(post.apply(lambda row: predict(row,time),axis=1))\n",
    "\n",
    "plt.plot(datafit['time'],datafit['etdata'])\n",
    "[plt.plot(datafit['time'],p) for p in stanpredict(fit,niter=50)]"
   ]
  },
  {
   "cell_type": "code",
   "execution_count": 12,
   "metadata": {},
   "outputs": [],
   "source": [
    "def fitTrial(d,sm):\n",
    "    import pystan\n",
    "    \n",
    "    # setup data\n",
    "    datafit={'ntime': d.shape[0],\n",
    "    'etdata': d.rotated.values,\n",
    "    'time':d.td.values,\n",
    "    'tauprior':.185}\n",
    "    \n",
    "    fit = sm.sampling(data=datafit, iter=1500,warmup=300, chains=1)\n",
    "    return(pd.Series({'taumean':np.mean(fit.extract()['tau']),'taustd':np.std(fit.extract()['tau']),'summary':fit.summary()}))"
   ]
  },
  {
   "cell_type": "code",
   "execution_count": 11,
   "metadata": {},
   "outputs": [],
   "source": [
    "# compile the model once only\n",
    "import pystan\n",
    "sm = pystan.StanModel(file=\"changepoint.stan\")  "
   ]
  },
  {
   "cell_type": "code",
   "execution_count": 13,
   "metadata": {},
   "outputs": [
    {
     "name": "stdout",
     "output_type": "stream",
     "text": [
      "eyetracker=='el'&subject=='VP1'\n",
      "msg 0 from 90\n",
      "msg 50 from 90\n"
     ]
    },
    {
     "name": "stderr",
     "output_type": "stream",
     "text": [
      "/net/store/nbp/users/behinger/projects/etcomp/local/etcompvenv/lib/python3.5/site-packages/pystan/misc.py:399: FutureWarning: Conversion of the second argument of issubdtype from `float` to `np.floating` is deprecated. In future, it will be treated as `np.float64 == np.dtype(float).type`.\n",
      "  elif np.issubdtype(np.asarray(v).dtype, float):\n"
     ]
    },
    {
     "name": "stdout",
     "output_type": "stream",
     "text": [
      "Elapsed time: 61.446604 seconds.\n",
      "\n",
      "eyetracker=='pl'&subject=='VP1'\n",
      "msg 0 from 90\n",
      "msg 50 from 90\n",
      "Elapsed time: 30.759539 seconds.\n",
      "\n",
      "eyetracker=='el'&subject=='VP2'\n",
      "msg 0 from 120\n",
      "msg 50 from 120\n",
      "msg 100 from 120\n",
      "Elapsed time: 81.384779 seconds.\n",
      "\n",
      "eyetracker=='pl'&subject=='VP2'\n",
      "msg 0 from 120\n",
      "msg 50 from 120\n",
      "msg 100 from 120\n",
      "Elapsed time: 40.640209 seconds.\n",
      "\n",
      "eyetracker=='el'&subject=='VP3'\n",
      "msg 0 from 120\n",
      "msg 50 from 120\n",
      "msg 100 from 120\n",
      "Elapsed time: 79.378659 seconds.\n",
      "\n",
      "eyetracker=='pl'&subject=='VP3'\n",
      "msg 0 from 120\n",
      "msg 50 from 120\n",
      "msg 100 from 120\n",
      "Elapsed time: 53.710702 seconds.\n",
      "\n",
      "eyetracker=='el'&subject=='VP4'\n",
      "msg 0 from 120\n",
      "msg 50 from 120\n",
      "msg 100 from 120\n",
      "Elapsed time: 78.046071 seconds.\n",
      "\n",
      "eyetracker=='pl'&subject=='VP4'\n",
      "msg 0 from 120\n",
      "msg 50 from 120\n",
      "msg 100 from 120\n",
      "Elapsed time: 47.862063 seconds.\n",
      "\n",
      "eyetracker=='el'&subject=='VP11'\n",
      "msg 0 from 120\n",
      "msg 50 from 120\n",
      "msg 100 from 120\n",
      "Elapsed time: 79.247374 seconds.\n",
      "\n",
      "eyetracker=='pl'&subject=='VP11'\n",
      "msg 0 from 120\n",
      "msg 50 from 120\n",
      "msg 100 from 120\n",
      "Elapsed time: 41.937784 seconds.\n",
      "\n",
      "eyetracker=='el'&subject=='VP12'\n",
      "msg 0 from 120\n",
      "msg 50 from 120\n",
      "msg 100 from 120\n",
      "Elapsed time: 80.234804 seconds.\n",
      "\n",
      "eyetracker=='pl'&subject=='VP12'\n",
      "msg 0 from 120\n",
      "msg 50 from 120\n",
      "msg 100 from 120\n",
      "Elapsed time: 41.962069 seconds.\n",
      "\n",
      "eyetracker=='el'&subject=='VP14'\n",
      "msg 0 from 120\n",
      "msg 50 from 120\n",
      "msg 100 from 120\n",
      "Elapsed time: 77.132205 seconds.\n",
      "\n",
      "eyetracker=='pl'&subject=='VP14'\n",
      "msg 0 from 120\n",
      "msg 50 from 120\n",
      "msg 100 from 120\n",
      "Elapsed time: 41.216922 seconds.\n",
      "\n",
      "eyetracker=='el'&subject=='VP15'\n",
      "msg 0 from 120\n",
      "msg 50 from 120\n",
      "msg 100 from 120\n",
      "Elapsed time: 79.808393 seconds.\n",
      "\n",
      "eyetracker=='pl'&subject=='VP15'\n",
      "msg 0 from 120\n",
      "msg 50 from 120\n",
      "msg 100 from 120\n",
      "Elapsed time: 41.832083 seconds.\n",
      "\n",
      "eyetracker=='el'&subject=='VP19'\n",
      "msg 0 from 120\n",
      "msg 50 from 120\n",
      "msg 100 from 120\n",
      "Elapsed time: 78.955148 seconds.\n",
      "\n",
      "eyetracker=='pl'&subject=='VP19'\n",
      "msg 0 from 120\n",
      "msg 50 from 120\n",
      "msg 100 from 120\n",
      "Elapsed time: 41.616044 seconds.\n",
      "\n",
      "eyetracker=='el'&subject=='VP20'\n"
     ]
    },
    {
     "ename": "KeyError",
     "evalue": "'angle'",
     "output_type": "error",
     "traceback": [
      "\u001b[0;31m---------------------------------------------------------------------------\u001b[0m",
      "\u001b[0;31mKeyError\u001b[0m                                  Traceback (most recent call last)",
      "\u001b[0;32m<ipython-input-13-2587038c14fa>\u001b[0m in \u001b[0;36m<module>\u001b[0;34m()\u001b[0m\n\u001b[1;32m      7\u001b[0m         \u001b[0mprint\u001b[0m\u001b[0;34m(\u001b[0m\u001b[0mselect\u001b[0m\u001b[0;34m)\u001b[0m\u001b[0;34m\u001b[0m\u001b[0m\n\u001b[1;32m      8\u001b[0m         \u001b[0mepochs\u001b[0m \u001b[0;34m=\u001b[0m \u001b[0mmake_df\u001b[0m\u001b[0;34m.\u001b[0m\u001b[0mmake_epochs\u001b[0m\u001b[0;34m(\u001b[0m\u001b[0metsamples\u001b[0m\u001b[0;34m.\u001b[0m\u001b[0mquery\u001b[0m\u001b[0;34m(\u001b[0m\u001b[0mselect\u001b[0m\u001b[0;34m)\u001b[0m\u001b[0;34m,\u001b[0m\u001b[0metmsgs\u001b[0m\u001b[0;34m.\u001b[0m\u001b[0mquery\u001b[0m\u001b[0;34m(\u001b[0m\u001b[0mselect\u001b[0m\u001b[0;34m+\u001b[0m\u001b[0;34m\"&exp_event=='trialstart'&condition=='SMOOTH'\"\u001b[0m\u001b[0;34m)\u001b[0m\u001b[0;34m,\u001b[0m\u001b[0mtd\u001b[0m\u001b[0;34m=\u001b[0m\u001b[0;34m[\u001b[0m\u001b[0;34m-\u001b[0m\u001b[0;36m0\u001b[0m\u001b[0;34m,\u001b[0m\u001b[0;36m0.6\u001b[0m\u001b[0;34m]\u001b[0m\u001b[0;34m)\u001b[0m\u001b[0;34m\u001b[0m\u001b[0m\n\u001b[0;32m----> 9\u001b[0;31m         \u001b[0mepochs\u001b[0m\u001b[0;34m=\u001b[0m  \u001b[0mepochs\u001b[0m\u001b[0;34m.\u001b[0m\u001b[0mgroupby\u001b[0m\u001b[0;34m(\u001b[0m\u001b[0;34m\"angle\"\u001b[0m\u001b[0;34m,\u001b[0m\u001b[0mgroup_keys\u001b[0m\u001b[0;34m=\u001b[0m\u001b[0;32mFalse\u001b[0m\u001b[0;34m)\u001b[0m\u001b[0;34m.\u001b[0m\u001b[0mapply\u001b[0m\u001b[0;34m(\u001b[0m\u001b[0mrotateRow\u001b[0m\u001b[0;34m)\u001b[0m\u001b[0;34m\u001b[0m\u001b[0m\n\u001b[0m\u001b[1;32m     10\u001b[0m         \u001b[0mtmp\u001b[0m \u001b[0;34m=\u001b[0m \u001b[0mepochs\u001b[0m\u001b[0;34m.\u001b[0m\u001b[0mgroupby\u001b[0m\u001b[0;34m(\u001b[0m\u001b[0;34m[\u001b[0m\u001b[0;34m\"trial\"\u001b[0m\u001b[0;34m,\u001b[0m\u001b[0;34m\"block\"\u001b[0m\u001b[0;34m]\u001b[0m\u001b[0;34m)\u001b[0m\u001b[0;34m.\u001b[0m\u001b[0mapply\u001b[0m\u001b[0;34m(\u001b[0m\u001b[0;32mlambda\u001b[0m \u001b[0mrow\u001b[0m\u001b[0;34m:\u001b[0m \u001b[0mfitTrial\u001b[0m\u001b[0;34m(\u001b[0m\u001b[0mrow\u001b[0m\u001b[0;34m,\u001b[0m\u001b[0msm\u001b[0m\u001b[0;34m)\u001b[0m\u001b[0;34m)\u001b[0m\u001b[0;34m\u001b[0m\u001b[0m\n\u001b[1;32m     11\u001b[0m         \u001b[0msmoothresult\u001b[0m \u001b[0;34m=\u001b[0m \u001b[0mpd\u001b[0m\u001b[0;34m.\u001b[0m\u001b[0mconcat\u001b[0m\u001b[0;34m(\u001b[0m\u001b[0;34m[\u001b[0m\u001b[0msmoothresult\u001b[0m\u001b[0;34m,\u001b[0m\u001b[0mtmp\u001b[0m\u001b[0;34m.\u001b[0m\u001b[0mreset_index\u001b[0m\u001b[0;34m(\u001b[0m\u001b[0;34m)\u001b[0m\u001b[0;34m.\u001b[0m\u001b[0massign\u001b[0m\u001b[0;34m(\u001b[0m\u001b[0meyetracker\u001b[0m\u001b[0;34m=\u001b[0m\u001b[0met\u001b[0m\u001b[0;34m,\u001b[0m\u001b[0msubject\u001b[0m\u001b[0;34m=\u001b[0m\u001b[0msubject\u001b[0m\u001b[0;34m)\u001b[0m\u001b[0;34m]\u001b[0m\u001b[0;34m,\u001b[0m\u001b[0mignore_index\u001b[0m\u001b[0;34m=\u001b[0m\u001b[0;32mTrue\u001b[0m\u001b[0;34m,\u001b[0m\u001b[0msort\u001b[0m\u001b[0;34m=\u001b[0m\u001b[0;32mFalse\u001b[0m\u001b[0;34m)\u001b[0m\u001b[0;34m\u001b[0m\u001b[0m\n",
      "\u001b[0;32m/net/store/nbp/users/behinger/projects/etcomp/local/etcompvenv/lib/python3.5/site-packages/pandas/core/generic.py\u001b[0m in \u001b[0;36mgroupby\u001b[0;34m(self, by, axis, level, as_index, sort, group_keys, squeeze, observed, **kwargs)\u001b[0m\n\u001b[1;32m   6661\u001b[0m         return groupby(self, by=by, axis=axis, level=level, as_index=as_index,\n\u001b[1;32m   6662\u001b[0m                        \u001b[0msort\u001b[0m\u001b[0;34m=\u001b[0m\u001b[0msort\u001b[0m\u001b[0;34m,\u001b[0m \u001b[0mgroup_keys\u001b[0m\u001b[0;34m=\u001b[0m\u001b[0mgroup_keys\u001b[0m\u001b[0;34m,\u001b[0m \u001b[0msqueeze\u001b[0m\u001b[0;34m=\u001b[0m\u001b[0msqueeze\u001b[0m\u001b[0;34m,\u001b[0m\u001b[0;34m\u001b[0m\u001b[0m\n\u001b[0;32m-> 6663\u001b[0;31m                        observed=observed, **kwargs)\n\u001b[0m\u001b[1;32m   6664\u001b[0m \u001b[0;34m\u001b[0m\u001b[0m\n\u001b[1;32m   6665\u001b[0m     def asfreq(self, freq, method=None, how=None, normalize=False,\n",
      "\u001b[0;32m/net/store/nbp/users/behinger/projects/etcomp/local/etcompvenv/lib/python3.5/site-packages/pandas/core/groupby/groupby.py\u001b[0m in \u001b[0;36mgroupby\u001b[0;34m(obj, by, **kwds)\u001b[0m\n\u001b[1;32m   2150\u001b[0m         \u001b[0;32mraise\u001b[0m \u001b[0mTypeError\u001b[0m\u001b[0;34m(\u001b[0m\u001b[0;34m'invalid type: %s'\u001b[0m \u001b[0;34m%\u001b[0m \u001b[0mtype\u001b[0m\u001b[0;34m(\u001b[0m\u001b[0mobj\u001b[0m\u001b[0;34m)\u001b[0m\u001b[0;34m)\u001b[0m\u001b[0;34m\u001b[0m\u001b[0m\n\u001b[1;32m   2151\u001b[0m \u001b[0;34m\u001b[0m\u001b[0m\n\u001b[0;32m-> 2152\u001b[0;31m     \u001b[0;32mreturn\u001b[0m \u001b[0mklass\u001b[0m\u001b[0;34m(\u001b[0m\u001b[0mobj\u001b[0m\u001b[0;34m,\u001b[0m \u001b[0mby\u001b[0m\u001b[0;34m,\u001b[0m \u001b[0;34m**\u001b[0m\u001b[0mkwds\u001b[0m\u001b[0;34m)\u001b[0m\u001b[0;34m\u001b[0m\u001b[0m\n\u001b[0m\u001b[1;32m   2153\u001b[0m \u001b[0;34m\u001b[0m\u001b[0m\n\u001b[1;32m   2154\u001b[0m \u001b[0;34m\u001b[0m\u001b[0m\n",
      "\u001b[0;32m/net/store/nbp/users/behinger/projects/etcomp/local/etcompvenv/lib/python3.5/site-packages/pandas/core/groupby/groupby.py\u001b[0m in \u001b[0;36m__init__\u001b[0;34m(self, obj, keys, axis, level, grouper, exclusions, selection, as_index, sort, group_keys, squeeze, observed, **kwargs)\u001b[0m\n\u001b[1;32m    597\u001b[0m                                                     \u001b[0msort\u001b[0m\u001b[0;34m=\u001b[0m\u001b[0msort\u001b[0m\u001b[0;34m,\u001b[0m\u001b[0;34m\u001b[0m\u001b[0m\n\u001b[1;32m    598\u001b[0m                                                     \u001b[0mobserved\u001b[0m\u001b[0;34m=\u001b[0m\u001b[0mobserved\u001b[0m\u001b[0;34m,\u001b[0m\u001b[0;34m\u001b[0m\u001b[0m\n\u001b[0;32m--> 599\u001b[0;31m                                                     mutated=self.mutated)\n\u001b[0m\u001b[1;32m    600\u001b[0m \u001b[0;34m\u001b[0m\u001b[0m\n\u001b[1;32m    601\u001b[0m         \u001b[0mself\u001b[0m\u001b[0;34m.\u001b[0m\u001b[0mobj\u001b[0m \u001b[0;34m=\u001b[0m \u001b[0mobj\u001b[0m\u001b[0;34m\u001b[0m\u001b[0m\n",
      "\u001b[0;32m/net/store/nbp/users/behinger/projects/etcomp/local/etcompvenv/lib/python3.5/site-packages/pandas/core/groupby/groupby.py\u001b[0m in \u001b[0;36m_get_grouper\u001b[0;34m(obj, key, axis, level, sort, observed, mutated, validate)\u001b[0m\n\u001b[1;32m   3289\u001b[0m                 \u001b[0min_axis\u001b[0m\u001b[0;34m,\u001b[0m \u001b[0mname\u001b[0m\u001b[0;34m,\u001b[0m \u001b[0mlevel\u001b[0m\u001b[0;34m,\u001b[0m \u001b[0mgpr\u001b[0m \u001b[0;34m=\u001b[0m \u001b[0;32mFalse\u001b[0m\u001b[0;34m,\u001b[0m \u001b[0;32mNone\u001b[0m\u001b[0;34m,\u001b[0m \u001b[0mgpr\u001b[0m\u001b[0;34m,\u001b[0m \u001b[0;32mNone\u001b[0m\u001b[0;34m\u001b[0m\u001b[0m\n\u001b[1;32m   3290\u001b[0m             \u001b[0;32melse\u001b[0m\u001b[0;34m:\u001b[0m\u001b[0;34m\u001b[0m\u001b[0m\n\u001b[0;32m-> 3291\u001b[0;31m                 \u001b[0;32mraise\u001b[0m \u001b[0mKeyError\u001b[0m\u001b[0;34m(\u001b[0m\u001b[0mgpr\u001b[0m\u001b[0;34m)\u001b[0m\u001b[0;34m\u001b[0m\u001b[0m\n\u001b[0m\u001b[1;32m   3292\u001b[0m         \u001b[0;32melif\u001b[0m \u001b[0misinstance\u001b[0m\u001b[0;34m(\u001b[0m\u001b[0mgpr\u001b[0m\u001b[0;34m,\u001b[0m \u001b[0mGrouper\u001b[0m\u001b[0;34m)\u001b[0m \u001b[0;32mand\u001b[0m \u001b[0mgpr\u001b[0m\u001b[0;34m.\u001b[0m\u001b[0mkey\u001b[0m \u001b[0;32mis\u001b[0m \u001b[0;32mnot\u001b[0m \u001b[0;32mNone\u001b[0m\u001b[0;34m:\u001b[0m\u001b[0;34m\u001b[0m\u001b[0m\n\u001b[1;32m   3293\u001b[0m             \u001b[0;31m# Add key to exclusions\u001b[0m\u001b[0;34m\u001b[0m\u001b[0;34m\u001b[0m\u001b[0m\n",
      "\u001b[0;31mKeyError\u001b[0m: 'angle'"
     ]
    }
   ],
   "source": [
    "import functions.et_helper as helper\n",
    "smoothresult = pd.DataFrame()\n",
    "for subject in etsamples.subject.unique():\n",
    "    for et in etsamples.eyetracker.unique():\n",
    "        helper.tic()\n",
    "        select = \"eyetracker=='%s'&subject=='%s'\"%(et,subject)\n",
    "        print(select)\n",
    "        epochs = make_df.make_epochs(etsamples.query(select),etmsgs.query(select+\"&exp_event=='trialstart'&condition=='SMOOTH'\"),td=[-0,0.6])\n",
    "        epochs=  epochs.groupby(\"angle\",group_keys=False).apply(rotateRow)\n",
    "        tmp = epochs.groupby([\"trial\",\"block\"]).apply(lambda row: fitTrial(row,sm))\n",
    "        smoothresult = pd.concat([smoothresult,tmp.reset_index().assign(eyetracker=et,subject=subject)],ignore_index=True,sort=False)\n",
    "        helper.toc()"
   ]
  },
  {
   "cell_type": "code",
   "execution_count": null,
   "metadata": {},
   "outputs": [],
   "source": [
    "smoothresult = pd.concat([smoothresult,tmp.reset_index().assign(eyetracker=et,subject=subject)],ignore_index=True,sort=False)"
   ]
  },
  {
   "cell_type": "code",
   "execution_count": 18,
   "metadata": {},
   "outputs": [
    {
     "data": {
      "image/png": "[encoded data removed]",
      "text/plain": [
       "<Figure size 640x480 with 9 Axes>"
      ]
     },
     "metadata": {},
     "output_type": "display_data"
    },
    {
     "data": {
      "text/plain": [
       "<ggplot: (8752608432111)>"
      ]
     },
     "execution_count": 18,
     "metadata": {},
     "output_type": "execute_result"
    }
   ],
   "source": [
    "ggplot(smoothresult,aes(x=\"eyetracker\",y=\"taumean\"))+stat_summary()+facet_wrap(\"~subject\")"
   ]
  },
  {
   "cell_type": "code",
   "execution_count": null,
   "metadata": {},
   "outputs": [],
   "source": [
    "et = 'el'\n",
    "subject = 'VP11'"
   ]
  },
  {
   "cell_type": "code",
   "execution_count": null,
   "metadata": {},
   "outputs": [],
   "source": [
    "select = \"eyetracker=='%s'&subject=='%s'\"%(et,subject)\n",
    "epochs = make_df.make_epochs(etsamples.query(select),etmsgs.query(select+\"&exp_event=='trialstart'&condition=='SMOOTH'\"),td=[-0,0.6])\n",
    "epochs=  epochs.groupby(\"angle\",group_keys=False).apply(rotateRow)"
   ]
  },
  {
   "cell_type": "code",
   "execution_count": null,
   "metadata": {},
   "outputs": [],
   "source": [
    "tmp = epochs.query(\"trial<2 & block<3\").groupby([\"trial\",\"block\"]).apply(lambda row: fitTrial(row,sm))"
   ]
  },
  {
   "cell_type": "code",
   "execution_count": null,
   "metadata": {},
   "outputs": [],
   "source": [
    "tmp"
   ]
  },
  {
   "cell_type": "code",
   "execution_count": null,
   "metadata": {},
   "outputs": [],
   "source": [
    "#%% Do Smooth Pursuit Analysis\n",
    "smooth = condition_df.get_condition_df(data=(etsamples,etmsgs,etevents),condition=\"SMOOTHPURSUIT\")"
   ]
  },
  {
   "cell_type": "code",
   "execution_count": null,
   "metadata": {},
   "outputs": [],
   "source": [
    "smooth_saccade_agg = smooth_saccade.groupby([\"subject\",\"et\",\"block\",\"trial\",\"angle\",\"vel\"],as_index=False).agg({'amplitude':np.mean})\n",
    "ggplot(smooth_saccade_agg,aes(x=\"vel\",y=\"amplitude\",color=\"et\"))+stat_summary()+ylab('Number of Catchup Saccades')"
   ]
  },
  {
   "cell_type": "code",
   "execution_count": null,
   "metadata": {},
   "outputs": [],
   "source": [
    "smooth_smooth  = smooth.query(\"type=='smoothpursuit' & condition=='SMOOTH' & exp_event=='trialstart'\")\n",
    "smooth_saccade = smooth.query(\"type=='saccade'       & condition=='SMOOTH' & exp_event=='trialstart'\")"
   ]
  },
  {
   "cell_type": "code",
   "execution_count": null,
   "metadata": {},
   "outputs": [],
   "source": [
    "ggplot(smooth_saccade_agg,aes(x=\"amplitude\",group=\"subject\"))+geom_density()+facet_grid(\"et~.\")"
   ]
  },
  {
   "cell_type": "code",
   "execution_count": null,
   "metadata": {},
   "outputs": [],
   "source": [
    "# Smooth Pursuit Init Times\n",
    "smooth_smooth_first = smooth_smooth.groupby([\"subject\",\"block\",\"trial\"],as_index=False).first()\n",
    "smooth_smooth_first.loc[:,'onsettime'] = smooth_smooth_first.start_time-smooth_smooth_first.msg_time"
   ]
  },
  {
   "cell_type": "code",
   "execution_count": null,
   "metadata": {},
   "outputs": [],
   "source": []
  },
  {
   "cell_type": "code",
   "execution_count": null,
   "metadata": {},
   "outputs": [],
   "source": [
    "ggplot(smooth_smooth_first,aes(x=\"et\",y=\"onsettime\",color=\"et\"))+stat_summary()"
   ]
  },
  {
   "cell_type": "code",
   "execution_count": null,
   "metadata": {},
   "outputs": [],
   "source": [
    "smooth_saccade_agg = smooth_saccade.groupby([\"subject\",\"et\",\"block\",\"trial\",\"angle\",\"vel\"],as_index=False).agg({'amplitude':np.mean})\n",
    "ggplot(smooth_saccade_agg,aes(x=\"vel\",y=\"amplitude\",color=\"et\"))+stat_summary()+ylab('Number of Catchup Saccades')"
   ]
  },
  {
   "cell_type": "code",
   "execution_count": null,
   "metadata": {},
   "outputs": [],
   "source": [
    "select = \"subject=='VP2'\"\n",
    "\n",
    "start = smooth_smooth.query(select+\"&block==1\").msg_time.iloc[0]"
   ]
  },
  {
   "cell_type": "code",
   "execution_count": null,
   "metadata": {},
   "outputs": [],
   "source": [
    "ggplot(smooth_smooth_first,aes(x=\"et\",y=\"onsettime\",color=\"et\"))+geom_point()+facet_wrap(\"~subject\")"
   ]
  }
 ],
 "metadata": {
  "kernelspec": {
   "display_name": "Python 3",
   "language": "python",
   "name": "python3"
  },
  "language_info": {
   "codemirror_mode": {
    "name": "ipython",
    "version": 3
   },
   "file_extension": ".py",
   "mimetype": "text/x-python",
   "name": "python",
   "nbconvert_exporter": "python",
   "pygments_lexer": "ipython3",
   "version": "3.5.2"
  }
 },
 "nbformat": 4,
 "nbformat_minor": 2
}
