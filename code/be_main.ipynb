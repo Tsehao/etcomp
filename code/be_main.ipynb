{
 "cells": [
  {
   "cell_type": "markdown",
   "metadata": {},
   "source": [
    "# Prelude"
   ]
  },
  {
   "cell_type": "markdown",
   "metadata": {},
   "source": [
    "## Import Packages"
   ]
  },
  {
   "cell_type": "code",
   "execution_count": 3,
   "metadata": {},
   "outputs": [],
   "source": [
    "%load_ext autoreload\n",
    "%autoreload 2\n",
    "%matplotlib ipympl"
   ]
  },
  {
   "cell_type": "code",
   "execution_count": 4,
   "metadata": {},
   "outputs": [],
   "source": [
    "import functions.init_logger\n",
    "import logging\n",
    "logger = logging.getLogger(__name__)\n",
    "logger.setLevel(logging.CRITICAL)"
   ]
  },
  {
   "cell_type": "code",
   "execution_count": 5,
   "metadata": {},
   "outputs": [
    {
     "name": "stderr",
     "output_type": "stream",
     "text": [
      "/net/store/nbp/users/behinger/projects/etcomp/local/etcompvenv/lib/python3.5/importlib/_bootstrap.py:222: RuntimeWarning: numpy.dtype size changed, may indicate binary incompatibility. Expected 96, got 88\n",
      "  return f(*args, **kwds)\n",
      "/net/store/nbp/users/behinger/projects/etcomp/local/etcompvenv/lib/python3.5/importlib/_bootstrap.py:222: RuntimeWarning: numpy.dtype size changed, may indicate binary incompatibility. Expected 96, got 88\n",
      "  return f(*args, **kwds)\n",
      "/net/store/nbp/users/behinger/projects/etcomp/local/etcompvenv/lib/python3.5/importlib/_bootstrap.py:222: RuntimeWarning: numpy.dtype size changed, may indicate binary incompatibility. Expected 96, got 88\n",
      "  return f(*args, **kwds)\n",
      "/net/store/nbp/users/behinger/projects/etcomp/local/etcompvenv/lib/python3.5/importlib/_bootstrap.py:222: RuntimeWarning: numpy.dtype size changed, may indicate binary incompatibility. Expected 96, got 88\n",
      "  return f(*args, **kwds)\n",
      "/net/store/nbp/users/behinger/projects/etcomp/local/etcompvenv/lib/python3.5/importlib/_bootstrap.py:222: RuntimeWarning: numpy.dtype size changed, may indicate binary incompatibility. Expected 96, got 88\n",
      "  return f(*args, **kwds)\n",
      "/net/store/nbp/users/behinger/projects/etcomp/local/etcompvenv/lib/python3.5/importlib/_bootstrap.py:222: RuntimeWarning: numpy.dtype size changed, may indicate binary incompatibility. Expected 96, got 88\n",
      "  return f(*args, **kwds)\n",
      "/net/store/nbp/users/behinger/projects/etcomp/local/etcompvenv/lib/python3.5/importlib/_bootstrap.py:222: RuntimeWarning: numpy.dtype size changed, may indicate binary incompatibility. Expected 96, got 88\n",
      "  return f(*args, **kwds)\n",
      "/home/student/b/behinger/.local/lib/python3.5/site-packages/h5py/__init__.py:36: FutureWarning: Conversion of the second argument of issubdtype from `float` to `np.floating` is deprecated. In future, it will be treated as `np.float64 == np.dtype(float).type`.\n",
      "  from ._conv import register_converters as _register_converters\n"
     ]
    },
    {
     "name": "stdout",
     "output_type": "stream",
     "text": [
      "2018-08-28 12:28:44 - OpenGL.acceleratesupport                                          - INFO     - No OpenGL_accelerate module loaded: No module named 'OpenGL_accelerate'\n",
      "reached exception:pyaudio\n",
      "2018-08-28 12:28:45 - lib.pupil.pupil_src.shared_modules.calibration_routines.optimization_calibration.build - INFO     - Building extension modules...\n",
      "reached exception:optimization_calibration\n",
      "reached exception:glfw.GLFW_PRESS\n",
      "reached exception:glfw.GLFW_KEY_SPACE\n",
      "reached exception:glfw.GLFW_KEY_F\n",
      "reached exception:glfw.glfwSetKeyCallback\n",
      "reached exception:fingertip_calibration\n",
      "reached exception:glfw.GLFW_PRESS\n",
      "reached exception:natural_features_calibration\n",
      "2018-08-28 12:28:46 - lib.pupil.pupil_src.shared_modules.calibration_routines.optimization_calibration.build - INFO     - Building extension modules...\n",
      "reached exception:optimization_calibration\n",
      "2018-08-28 12:28:47 - calibration_routines.optimization_calibration.build               - INFO     - Building extension modules...\n",
      "reached exception:optimization_calibration\n",
      "reached exception:glfw.GLFW_PRESS\n",
      "reached exception:glfw.GLFW_KEY_SPACE\n",
      "reached exception:glfw.GLFW_KEY_F\n",
      "reached exception:glfw.glfwSetKeyCallback\n",
      "reached exception:fingertip_calibration\n",
      "reached exception:glfw.GLFW_PRESS\n",
      "reached exception:natural_features_calibration\n",
      "2018-08-28 12:28:47 - calibration_routines.optimization_calibration.build               - INFO     - Building extension modules...\n",
      "reached exception:optimization_calibration\n"
     ]
    }
   ],
   "source": [
    "import functions.add_path\n",
    "import functions.et_condition_df as condition_df\n",
    "\n",
    "import functions.plotnine_theme\n",
    "import pandas as pd\n",
    "import numpy as np\n",
    "\n",
    "import matplotlib.pyplot as plt\n",
    "plt.rcParams['figure.figsize'] = [15, 10]\n",
    "from plotnine import *\n",
    "from plotnine.data import *\n",
    "\n",
    "\n",
    "import be_load"
   ]
  },
  {
   "cell_type": "code",
   "execution_count": 6,
   "metadata": {},
   "outputs": [
    {
     "name": "stdout",
     "output_type": "stream",
     "text": [
      "/net/store/nbp/users/behinger/projects/etcomp/lib/pupil/pupil_src/shared_modules/calibration_routines/optimization_calibration\n"
     ]
    }
   ],
   "source": [
    "import os\n",
    "print(os.getcwd())\n",
    "if os.getcwd()[-4:] != 'code':\n",
    "    try:\n",
    "        os.chdir('./code')\n",
    "    except:\n",
    "        os.chdir('/net/store/nbp/users/behinger/projects/etcomp/code')\n"
   ]
  },
  {
   "cell_type": "code",
   "execution_count": 7,
   "metadata": {},
   "outputs": [],
   "source": [
    "import BLINK\n",
    "import SMOOTH\n",
    "import LARGE_GRID\n",
    "import LARGE_and_SMALL_GRID\n",
    "import FREEVIEW\n",
    "import LUM\n",
    "import MICROSACC\n",
    "import CALIBRATION"
   ]
  },
  {
   "cell_type": "markdown",
   "metadata": {},
   "source": [
    "## Load Data"
   ]
  },
  {
   "cell_type": "code",
   "execution_count": 8,
   "metadata": {},
   "outputs": [
    {
     "name": "stdout",
     "output_type": "stream",
     "text": [
      "warning: removing DC offset of time-points (to semi align eyetrackers t=0)\n",
      "loading subject VP1 with et el\n",
      "loading subject VP1 with et pl\n",
      "loading subject VP2 with et el\n",
      "loading subject VP2 with et pl\n",
      "loading subject VP3 with et el\n",
      "loading subject VP3 with et pl\n",
      "loading subject VP4 with et el\n",
      "loading subject VP4 with et pl\n",
      "loading subject VP11 with et el\n",
      "loading subject VP11 with et pl\n",
      "loading subject VP12 with et el\n",
      "loading subject VP12 with et pl\n",
      "loading subject VP14 with et el\n",
      "loading subject VP14 with et pl\n",
      "loading subject VP15 with et el\n",
      "loading subject VP15 with et pl\n",
      "loading subject VP19 with et el\n",
      "loading subject VP19 with et pl\n",
      "loading subject VP20 with et el\n",
      "loading subject VP20 with et pl\n",
      "loading subject VP22 with et el\n",
      "loading subject VP22 with et pl\n",
      "loading subject VP23 with et el\n",
      "loading subject VP23 with et pl\n",
      "loading subject VP24 with et el\n",
      "loading subject VP24 with et pl\n",
      "loading subject VP25 with et el\n",
      "loading subject VP25 with et pl\n",
      "loading subject VP26 with et el\n",
      "loading subject VP26 with et pl\n",
      "loading subject results with et el\n",
      "File b'/net/store/nbp/projects/etcomp/results/preprocessed/hmm_el_cleaned_samples.csv' does not exist\n",
      "warning subject results et el not found\n",
      "loading subject results with et pl\n",
      "File b'/net/store/nbp/projects/etcomp/results/preprocessed/hmm_pl_cleaned_samples.csv' does not exist\n",
      "warning subject results et pl not found\n",
      "fixing subject VP1\n",
      "fixing subject VP2\n",
      "fixing subject VP3\n",
      "fixing subject VP4\n",
      "fixing subject VP11\n",
      "fixing subject VP12\n",
      "fixing subject VP14\n",
      "fixing subject VP15\n",
      "fixing subject VP19\n",
      "fixing subject VP20\n",
      "fixing subject VP22\n",
      "fixing subject VP23\n",
      "fixing subject VP24\n",
      "fixing subject VP25\n",
      "fixing subject VP26\n"
     ]
    }
   ],
   "source": [
    "(etsamples,etmsgs,etevents) = be_load.load_data()"
   ]
  },
  {
   "cell_type": "code",
   "execution_count": 9,
   "metadata": {},
   "outputs": [
    {
     "name": "stdout",
     "output_type": "stream",
     "text": [
      "['VP1' 'VP2' 'VP3' 'VP4' 'VP11' 'VP12' 'VP14' 'VP15' 'VP19' 'VP20' 'VP22'\n",
      " 'VP23' 'VP24' 'VP25' 'VP26']\n",
      "There are 15 subjects\n"
     ]
    }
   ],
   "source": [
    "print(etsamples.subject.unique())\n",
    "print(\"There are %i subjects\"%(etsamples.subject.unique().shape))"
   ]
  },
  {
   "cell_type": "markdown",
   "metadata": {},
   "source": [
    "# Large Grid"
   ]
  },
  {
   "cell_type": "markdown",
   "metadata": {},
   "source": [
    "## Load Data"
   ]
  },
  {
   "cell_type": "code",
   "execution_count": 10,
   "metadata": {},
   "outputs": [
    {
     "name": "stdout",
     "output_type": "stream",
     "text": [
      "warning: removing DC offset of time-points (to semi align eyetrackers t=0)\n",
      "loading subject VP1 with et el\n",
      "loading subject VP1 with et pl\n",
      "loading subject VP2 with et el\n",
      "loading subject VP2 with et pl\n",
      "loading subject VP3 with et el\n",
      "loading subject VP3 with et pl\n",
      "loading subject VP4 with et el\n",
      "loading subject VP4 with et pl\n",
      "loading subject VP11 with et el\n",
      "loading subject VP11 with et pl\n",
      "loading subject VP12 with et el\n",
      "loading subject VP12 with et pl\n",
      "loading subject VP14 with et el\n",
      "loading subject VP14 with et pl\n",
      "loading subject VP15 with et el\n",
      "loading subject VP15 with et pl\n",
      "loading subject VP19 with et el\n",
      "loading subject VP19 with et pl\n",
      "loading subject VP20 with et el\n",
      "loading subject VP20 with et pl\n",
      "loading subject VP22 with et el\n",
      "loading subject VP22 with et pl\n",
      "loading subject VP23 with et el\n",
      "loading subject VP23 with et pl\n",
      "loading subject VP24 with et el\n",
      "loading subject VP24 with et pl\n",
      "loading subject VP25 with et el\n",
      "loading subject VP25 with et pl\n",
      "loading subject VP26 with et el\n",
      "loading subject VP26 with et pl\n",
      "loading subject results with et el\n",
      "File b'/net/store/nbp/projects/etcomp/results/preprocessed/hmmnosmooth_el_cleaned_samples.csv' does not exist\n",
      "warning subject results et el not found\n",
      "loading subject results with et pl\n",
      "File b'/net/store/nbp/projects/etcomp/results/preprocessed/hmmnosmooth_pl_cleaned_samples.csv' does not exist\n",
      "warning subject results et pl not found\n",
      "fixing subject VP1\n",
      "fixing subject VP2\n",
      "fixing subject VP3\n",
      "fixing subject VP4\n",
      "fixing subject VP11\n",
      "fixing subject VP12\n",
      "fixing subject VP14\n",
      "fixing subject VP15\n",
      "fixing subject VP19\n",
      "fixing subject VP20\n",
      "fixing subject VP22\n",
      "fixing subject VP23\n",
      "fixing subject VP24\n",
      "fixing subject VP25\n",
      "fixing subject VP26\n",
      "2018-08-28 12:34:08 - functions.et_condition_df                                         - DEBUG    - Data already loaded, just applying transformations\n",
      "2018-08-28 12:34:09 - functions.et_condition_df                                         - CRITICAL - Eyetracker: el    Subject: VP1 \n",
      "2018-08-28 12:34:10 - functions.et_condition_df                                         - CRITICAL - Eyetracker: pl    Subject: VP1 \n",
      "2018-08-28 12:34:11 - functions.et_condition_df                                         - CRITICAL - Eyetracker: el    Subject: VP2 \n",
      "2018-08-28 12:34:12 - functions.et_condition_df                                         - CRITICAL - Eyetracker: pl    Subject: VP2 \n",
      "2018-08-28 12:34:13 - functions.et_condition_df                                         - CRITICAL - Eyetracker: el    Subject: VP3 \n",
      "2018-08-28 12:34:14 - functions.et_condition_df                                         - CRITICAL - Eyetracker: pl    Subject: VP3 \n",
      "2018-08-28 12:34:14 - functions.et_condition_df                                         - CRITICAL - Eyetracker: el    Subject: VP4 \n",
      "2018-08-28 12:34:15 - functions.et_condition_df                                         - CRITICAL - Eyetracker: pl    Subject: VP4 \n",
      "2018-08-28 12:34:16 - functions.et_condition_df                                         - CRITICAL - Eyetracker: el    Subject: VP11 \n",
      "2018-08-28 12:34:17 - functions.et_condition_df                                         - CRITICAL - Eyetracker: pl    Subject: VP11 \n",
      "2018-08-28 12:34:18 - functions.et_condition_df                                         - CRITICAL - Eyetracker: el    Subject: VP12 \n",
      "2018-08-28 12:34:19 - functions.et_condition_df                                         - CRITICAL - Eyetracker: pl    Subject: VP12 \n",
      "2018-08-28 12:34:20 - functions.et_condition_df                                         - CRITICAL - Eyetracker: el    Subject: VP14 \n",
      "2018-08-28 12:34:21 - functions.et_condition_df                                         - CRITICAL - Eyetracker: pl    Subject: VP14 \n",
      "2018-08-28 12:34:22 - functions.et_condition_df                                         - CRITICAL - Eyetracker: el    Subject: VP15 \n",
      "2018-08-28 12:34:22 - functions.et_condition_df                                         - CRITICAL - Eyetracker: pl    Subject: VP15 \n",
      "2018-08-28 12:34:23 - functions.et_condition_df                                         - CRITICAL - Eyetracker: el    Subject: VP19 \n",
      "2018-08-28 12:34:24 - functions.et_condition_df                                         - CRITICAL - Eyetracker: pl    Subject: VP19 \n",
      "2018-08-28 12:34:25 - functions.et_condition_df                                         - CRITICAL - Eyetracker: el    Subject: VP20 \n",
      "2018-08-28 12:34:26 - functions.et_condition_df                                         - CRITICAL - Eyetracker: pl    Subject: VP20 \n",
      "2018-08-28 12:34:27 - functions.et_condition_df                                         - CRITICAL - Eyetracker: el    Subject: VP22 \n",
      "2018-08-28 12:34:28 - functions.et_condition_df                                         - CRITICAL - Eyetracker: pl    Subject: VP22 \n",
      "2018-08-28 12:34:29 - functions.et_condition_df                                         - CRITICAL - Eyetracker: el    Subject: VP23 \n",
      "2018-08-28 12:34:30 - functions.et_condition_df                                         - CRITICAL - Eyetracker: pl    Subject: VP23 \n",
      "2018-08-28 12:34:31 - functions.et_condition_df                                         - CRITICAL - Eyetracker: el    Subject: VP24 \n",
      "2018-08-28 12:34:32 - functions.et_condition_df                                         - CRITICAL - Eyetracker: pl    Subject: VP24 \n",
      "2018-08-28 12:34:32 - functions.et_condition_df                                         - CRITICAL - Eyetracker: el    Subject: VP25 \n",
      "2018-08-28 12:34:33 - functions.et_condition_df                                         - CRITICAL - Eyetracker: pl    Subject: VP25 \n",
      "2018-08-28 12:34:34 - functions.et_condition_df                                         - CRITICAL - Eyetracker: el    Subject: VP26 \n",
      "2018-08-28 12:34:35 - functions.et_condition_df                                         - CRITICAL - Eyetracker: pl    Subject: VP26 \n"
     ]
    }
   ],
   "source": [
    "(etsamples_grid,etmsgs_grid,etevents_grid) = be_load.load_data(algorithm='hmmnosmooth_')\n",
    "raw_large_grid_df = condition_df.get_condition_df(data=(etsamples_grid,etmsgs_grid,etevents_grid),condition='LARGE_GRID')"
   ]
  },
  {
   "cell_type": "markdown",
   "metadata": {},
   "source": [
    "## Methods"
   ]
  },
  {
   "cell_type": "markdown",
   "metadata": {},
   "source": [
    "#### Single Trial view"
   ]
  },
  {
   "cell_type": "code",
   "execution_count": 11,
   "metadata": {},
   "outputs": [
    {
     "data": {
      "text/html": [
       "<div>\n",
       "<style scoped>\n",
       "    .dataframe tbody tr th:only-of-type {\n",
       "        vertical-align: middle;\n",
       "    }\n",
       "\n",
       "    .dataframe tbody tr th {\n",
       "        vertical-align: top;\n",
       "    }\n",
       "\n",
       "    .dataframe thead th {\n",
       "        text-align: right;\n",
       "    }\n",
       "</style>\n",
       "<table border=\"1\" class=\"dataframe\">\n",
       "  <thead>\n",
       "    <tr style=\"text-align: right;\">\n",
       "      <th></th>\n",
       "      <th>block</th>\n",
       "      <th>element</th>\n",
       "      <th>type</th>\n",
       "      <th>end_time</th>\n",
       "      <th>mean_gx</th>\n",
       "      <th>duration</th>\n",
       "      <th>start_time</th>\n",
       "      <th>rms</th>\n",
       "      <th>mean_gy</th>\n",
       "      <th>condition</th>\n",
       "      <th>exp_event</th>\n",
       "      <th>grid_size</th>\n",
       "      <th>msg_time</th>\n",
       "      <th>posx</th>\n",
       "      <th>posy</th>\n",
       "      <th>hori_accuracy</th>\n",
       "      <th>vert_accuracy</th>\n",
       "      <th>accuracy</th>\n",
       "      <th>et</th>\n",
       "      <th>eyetracker</th>\n",
       "      <th>subject</th>\n",
       "    </tr>\n",
       "  </thead>\n",
       "  <tbody>\n",
       "    <tr>\n",
       "      <th>1</th>\n",
       "      <td>1.0</td>\n",
       "      <td>2.0</td>\n",
       "      <td>fixation</td>\n",
       "      <td>65.249</td>\n",
       "      <td>-25.405435</td>\n",
       "      <td>0.698</td>\n",
       "      <td>64.551</td>\n",
       "      <td>0.024929</td>\n",
       "      <td>-5.751802</td>\n",
       "      <td>GRID</td>\n",
       "      <td>element</td>\n",
       "      <td>49.0</td>\n",
       "      <td>62.95</td>\n",
       "      <td>-24.751435</td>\n",
       "      <td>-5.162292</td>\n",
       "      <td>0.654</td>\n",
       "      <td>0.589509</td>\n",
       "      <td>0.7001</td>\n",
       "      <td>EyeLink</td>\n",
       "      <td>el</td>\n",
       "      <td>VP1</td>\n",
       "    </tr>\n",
       "  </tbody>\n",
       "</table>\n",
       "</div>"
      ],
      "text/plain": [
       "  block  element      type  end_time    mean_gx  duration  start_time  \\\n",
       "1   1.0      2.0  fixation    65.249 -25.405435     0.698      64.551   \n",
       "\n",
       "        rms   mean_gy condition exp_event  grid_size  msg_time       posx  \\\n",
       "1  0.024929 -5.751802      GRID   element       49.0     62.95 -24.751435   \n",
       "\n",
       "       posy  hori_accuracy  vert_accuracy  accuracy       et eyetracker  \\\n",
       "1 -5.162292          0.654       0.589509    0.7001  EyeLink         el   \n",
       "\n",
       "  subject  \n",
       "1     VP1  "
      ]
     },
     "execution_count": 11,
     "metadata": {},
     "output_type": "execute_result"
    }
   ],
   "source": [
    "raw_large_grid_df.iloc[1:2]"
   ]
  },
  {
   "cell_type": "code",
   "execution_count": 49,
   "metadata": {},
   "outputs": [
    {
     "name": "stderr",
     "output_type": "stream",
     "text": [
      "/net/store/nbp/users/behinger/projects/etcomp/local/etcompvenv/lib/python3.5/site-packages/pandas/core/indexing.py:362: SettingWithCopyWarning: \n",
      "A value is trying to be set on a copy of a slice from a DataFrame.\n",
      "Try using .loc[row_indexer,col_indexer] = value instead\n",
      "\n",
      "See the caveats in the documentation: http://pandas.pydata.org/pandas-docs/stable/indexing.html#indexing-view-versus-copy\n",
      "  self.obj[key] = _infer_fill_value(value)\n",
      "/net/store/nbp/users/behinger/projects/etcomp/local/etcompvenv/lib/python3.5/site-packages/pandas/core/indexing.py:543: SettingWithCopyWarning: \n",
      "A value is trying to be set on a copy of a slice from a DataFrame.\n",
      "Try using .loc[row_indexer,col_indexer] = value instead\n",
      "\n",
      "See the caveats in the documentation: http://pandas.pydata.org/pandas-docs/stable/indexing.html#indexing-view-versus-copy\n",
      "  self.obj[item] = s\n",
      "/net/store/nbp/users/behinger/projects/etcomp/local/etcompvenv/lib/python3.5/site-packages/matplotlib/pyplot.py:522: RuntimeWarning: More than 20 figures have been opened. Figures created through the pyplot interface (`matplotlib.pyplot.figure`) are retained until explicitly closed and may consume too much memory. (To control this warning, see the rcParam `figure.max_open_warning`).\n",
      "  max_open_warning, RuntimeWarning)\n"
     ]
    },
    {
     "data": {
      "application/vnd.jupyter.widget-view+json": {
       "model_id": "f1753ed114a94b9fa8ea914c14094e30",
       "version_major": 2,
       "version_minor": 0
      },
      "text/plain": [
       "FigureCanvasNbAgg()"
      ]
     },
     "metadata": {},
     "output_type": "display_data"
    },
    {
     "data": {
      "text/plain": [
       "<ggplot: (-9223363306854150908)>"
      ]
     },
     "execution_count": 49,
     "metadata": {},
     "output_type": "execute_result"
    }
   ],
   "source": [
    "from functions import et_helper\n",
    "et_helper.plot_around_event(etsamples_grid,etmsgs_grid,etevents_grid,raw_large_grid_df.query(\"eyetracker=='pl'&subject=='VP4'&block==1\").iloc[5],plusminus=(-2,5))"
   ]
  },
  {
   "cell_type": "code",
   "execution_count": 50,
   "metadata": {},
   "outputs": [
    {
     "name": "stderr",
     "output_type": "stream",
     "text": [
      "/net/store/nbp/users/behinger/projects/etcomp/local/etcompvenv/lib/python3.5/site-packages/pandas/core/indexing.py:362: SettingWithCopyWarning: \n",
      "A value is trying to be set on a copy of a slice from a DataFrame.\n",
      "Try using .loc[row_indexer,col_indexer] = value instead\n",
      "\n",
      "See the caveats in the documentation: http://pandas.pydata.org/pandas-docs/stable/indexing.html#indexing-view-versus-copy\n",
      "  self.obj[key] = _infer_fill_value(value)\n",
      "/net/store/nbp/users/behinger/projects/etcomp/local/etcompvenv/lib/python3.5/site-packages/pandas/core/indexing.py:543: SettingWithCopyWarning: \n",
      "A value is trying to be set on a copy of a slice from a DataFrame.\n",
      "Try using .loc[row_indexer,col_indexer] = value instead\n",
      "\n",
      "See the caveats in the documentation: http://pandas.pydata.org/pandas-docs/stable/indexing.html#indexing-view-versus-copy\n",
      "  self.obj[item] = s\n",
      "/net/store/nbp/users/behinger/projects/etcomp/local/etcompvenv/lib/python3.5/site-packages/matplotlib/pyplot.py:522: RuntimeWarning: More than 20 figures have been opened. Figures created through the pyplot interface (`matplotlib.pyplot.figure`) are retained until explicitly closed and may consume too much memory. (To control this warning, see the rcParam `figure.max_open_warning`).\n",
      "  max_open_warning, RuntimeWarning)\n"
     ]
    },
    {
     "data": {
      "application/vnd.jupyter.widget-view+json": {
       "model_id": "e82cce9940c247138d2e9d4efb281029",
       "version_major": 2,
       "version_minor": 0
      },
      "text/plain": [
       "FigureCanvasNbAgg()"
      ]
     },
     "metadata": {},
     "output_type": "display_data"
    },
    {
     "data": {
      "text/plain": [
       "<ggplot: (8730000451462)>"
      ]
     },
     "execution_count": 50,
     "metadata": {},
     "output_type": "execute_result"
    }
   ],
   "source": [
    "et_helper.plot_around_event(etsamples_grid,etmsgs_grid,etevents_grid,raw_large_grid_df.query(\"eyetracker=='el'&subject=='VP4'&block==1\").iloc[9],plusminus=(-2,5))"
   ]
  },
  {
   "cell_type": "markdown",
   "metadata": {},
   "source": [
    "## Results"
   ]
  },
  {
   "cell_type": "markdown",
   "metadata": {},
   "source": [
    "#### Accuracy Table"
   ]
  },
  {
   "cell_type": "code",
   "execution_count": 14,
   "metadata": {},
   "outputs": [
    {
     "data": {
      "text/html": [
       "<div>\n",
       "<style scoped>\n",
       "    .dataframe tbody tr th:only-of-type {\n",
       "        vertical-align: middle;\n",
       "    }\n",
       "\n",
       "    .dataframe tbody tr th {\n",
       "        vertical-align: top;\n",
       "    }\n",
       "\n",
       "    .dataframe thead th {\n",
       "        text-align: right;\n",
       "    }\n",
       "</style>\n",
       "<table border=\"1\" class=\"dataframe\">\n",
       "  <thead>\n",
       "    <tr style=\"text-align: right;\">\n",
       "      <th></th>\n",
       "      <th>mean</th>\n",
       "      <th>median</th>\n",
       "      <th>horizontal_mean</th>\n",
       "      <th>vertical_mean</th>\n",
       "      <th>subject_min_accuracy</th>\n",
       "      <th>subject_max_accuracy</th>\n",
       "      <th>mean_rms</th>\n",
       "    </tr>\n",
       "  </thead>\n",
       "  <tbody>\n",
       "    <tr>\n",
       "      <th>EyeLink</th>\n",
       "      <td>1.25722</td>\n",
       "      <td>1.00374</td>\n",
       "      <td>0.90134</td>\n",
       "      <td>0.928133</td>\n",
       "      <td>0.621138</td>\n",
       "      <td>3.32787</td>\n",
       "      <td>0.105255</td>\n",
       "    </tr>\n",
       "    <tr>\n",
       "      <th>Pupil Labs</th>\n",
       "      <td>1.62341</td>\n",
       "      <td>1.32028</td>\n",
       "      <td>1.14565</td>\n",
       "      <td>1.29937</td>\n",
       "      <td>0.914179</td>\n",
       "      <td>4.06802</td>\n",
       "      <td>0.079189</td>\n",
       "    </tr>\n",
       "  </tbody>\n",
       "</table>\n",
       "</div>"
      ],
      "text/plain": [
       "               mean   median horizontal_mean vertical_mean  \\\n",
       "EyeLink     1.25722  1.00374         0.90134      0.928133   \n",
       "Pupil Labs  1.62341  1.32028         1.14565       1.29937   \n",
       "\n",
       "           subject_min_accuracy subject_max_accuracy  mean_rms  \n",
       "EyeLink                0.621138              3.32787  0.105255  \n",
       "Pupil Labs             0.914179              4.06802  0.079189  "
      ]
     },
     "execution_count": 14,
     "metadata": {},
     "output_type": "execute_result"
    }
   ],
   "source": [
    "LARGE_GRID.make_table_accuracy(raw_large_grid_df)"
   ]
  },
  {
   "cell_type": "code",
   "execution_count": 46,
   "metadata": {},
   "outputs": [
    {
     "data": {
      "text/plain": [
       "0      0.0002\n",
       "1      0.0264\n",
       "2     -0.0742\n",
       "3      0.0288\n",
       "4     -0.4222\n",
       "5     -0.0094\n",
       "6     -0.0020\n",
       "7     -0.2222\n",
       "8     -0.0144\n",
       "9      0.5004\n",
       "10    -0.4204\n",
       "11     0.0066\n",
       "12    -0.2282\n",
       "13    -0.1920\n",
       "14    -0.2872\n",
       "15    -0.3086\n",
       "16    -0.7162\n",
       "17     0.2030\n",
       "18    -0.3274\n",
       "19    -0.0108\n",
       "20    -0.0086\n",
       "21    -0.0486\n",
       "22    -0.2532\n",
       "23    -0.8442\n",
       "24    -0.1218\n",
       "25     0.0130\n",
       "26     0.0076\n",
       "27    -0.5648\n",
       "28     0.0198\n",
       "29     0.1550\n",
       "        ...  \n",
       "269   -0.8878\n",
       "270   -0.1502\n",
       "271   -0.0004\n",
       "272    0.0046\n",
       "273   -0.9298\n",
       "274    0.0002\n",
       "275   -0.7962\n",
       "276   -0.3778\n",
       "277    0.0004\n",
       "278   -0.3420\n",
       "279    0.0014\n",
       "280   -0.8290\n",
       "281   -0.7922\n",
       "282   -0.0008\n",
       "283   -0.3702\n",
       "284   -0.1306\n",
       "285   -0.2446\n",
       "286    0.0034\n",
       "287   -0.0092\n",
       "288   -0.0136\n",
       "289   -0.7462\n",
       "290    0.1562\n",
       "291    0.0092\n",
       "292   -0.5860\n",
       "293   -0.5112\n",
       "294    0.0064\n",
       "295   -0.0118\n",
       "296   -0.2284\n",
       "297   -0.7196\n",
       "298    0.1674\n",
       "Name: duration, Length: 299, dtype: float64"
      ]
     },
     "execution_count": 46,
     "metadata": {},
     "output_type": "execute_result"
    }
   ],
   "source": [
    "raw_large_grid_df.query(\"subject=='VP4'&eyetracker=='pl'\").duration-raw_large_grid_df.query(\"subject=='VP4'&eyetracker=='el'\").duration"
   ]
  },
  {
   "cell_type": "code",
   "execution_count": 38,
   "metadata": {},
   "outputs": [
    {
     "data": {
      "application/vnd.jupyter.widget-view+json": {
       "model_id": "bddc433043334497aa074b5f1b39a207",
       "version_major": 2,
       "version_minor": 0
      },
      "text/plain": [
       "FigureCanvasNbAgg()"
      ]
     },
     "metadata": {},
     "output_type": "display_data"
    },
    {
     "data": {
      "text/plain": [
       "<ggplot: (8730000905059)>"
      ]
     },
     "execution_count": 38,
     "metadata": {},
     "output_type": "execute_result"
    }
   ],
   "source": [
    "ggplot(raw_large_grid_df.query(\"subject=='VP4'\"),aes(x=\"duration\"))+geom_histogram(binwidth=0.1)+coord_cartesian(xlim=(0,3))+facet_grid(\"~eyetracker\")"
   ]
  },
  {
   "cell_type": "code",
   "execution_count": 34,
   "metadata": {},
   "outputs": [
    {
     "data": {
      "text/html": [
       "<div>\n",
       "<style scoped>\n",
       "    .dataframe tbody tr th:only-of-type {\n",
       "        vertical-align: middle;\n",
       "    }\n",
       "\n",
       "    .dataframe tbody tr th {\n",
       "        vertical-align: top;\n",
       "    }\n",
       "\n",
       "    .dataframe thead th {\n",
       "        text-align: right;\n",
       "    }\n",
       "</style>\n",
       "<table border=\"1\" class=\"dataframe\">\n",
       "  <thead>\n",
       "    <tr style=\"text-align: right;\">\n",
       "      <th></th>\n",
       "      <th>duration</th>\n",
       "    </tr>\n",
       "    <tr>\n",
       "      <th>eyetracker</th>\n",
       "      <th></th>\n",
       "    </tr>\n",
       "  </thead>\n",
       "  <tbody>\n",
       "    <tr>\n",
       "      <th>el</th>\n",
       "      <td>0.886733</td>\n",
       "    </tr>\n",
       "    <tr>\n",
       "      <th>pl</th>\n",
       "      <td>0.610363</td>\n",
       "    </tr>\n",
       "  </tbody>\n",
       "</table>\n",
       "</div>"
      ],
      "text/plain": [
       "            duration\n",
       "eyetracker          \n",
       "el          0.886733\n",
       "pl          0.610363"
      ]
     },
     "execution_count": 34,
     "metadata": {},
     "output_type": "execute_result"
    }
   ],
   "source": [
    "raw_large_grid_df.groupby([\"subject\",\"eyetracker\"],as_index=False).duration.agg(\"median\").groupby(\"eyetracker\").agg(\"mean\")"
   ]
  },
  {
   "cell_type": "markdown",
   "metadata": {},
   "source": [
    "#### Accuracy Plots"
   ]
  },
  {
   "cell_type": "markdown",
   "metadata": {},
   "source": [
    "1. Take mean accuracy over grid-elements\n",
    "2. Take **median** block accuracy for each subject"
   ]
  },
  {
   "cell_type": "code",
   "execution_count": 13,
   "metadata": {},
   "outputs": [
    {
     "data": {
      "application/vnd.jupyter.widget-view+json": {
       "model_id": "33e354e5f0b94146afee12013133a69f",
       "version_major": 2,
       "version_minor": 0
      },
      "text/plain": [
       "FigureCanvasNbAgg()"
      ]
     },
     "metadata": {},
     "output_type": "display_data"
    },
    {
     "data": {
      "text/plain": [
       "<ggplot: (8782286901999)>"
      ]
     },
     "execution_count": 13,
     "metadata": {},
     "output_type": "execute_result"
    }
   ],
   "source": [
    "LARGE_GRID.plot_accuracy_be(raw_large_grid_df)+ggtitle(\"Median-Block of Mean-Element Accuracy\")"
   ]
  },
  {
   "cell_type": "markdown",
   "metadata": {},
   "source": [
    "1. Take mean accuracy over grid-elements\n",
    "2. Take **mean** block accuracy for each subject"
   ]
  },
  {
   "cell_type": "code",
   "execution_count": 14,
   "metadata": {},
   "outputs": [
    {
     "data": {
      "application/vnd.jupyter.widget-view+json": {
       "model_id": "ce1f0acc0ff0465f8192d81164279410",
       "version_major": 2,
       "version_minor": 0
      },
      "text/plain": [
       "FigureCanvasNbAgg()"
      ]
     },
     "metadata": {},
     "output_type": "display_data"
    }
   ],
   "source": [
    "LARGE_GRID.plot_accuracy(raw_large_grid_df)"
   ]
  },
  {
   "cell_type": "markdown",
   "metadata": {},
   "source": [
    "#### Single Subject Grid"
   ]
  },
  {
   "cell_type": "code",
   "execution_count": 15,
   "metadata": {},
   "outputs": [
    {
     "data": {
      "application/vnd.jupyter.widget-view+json": {
       "model_id": "644fda52ed564887af3233b994db3358",
       "version_major": 2,
       "version_minor": 0
      },
      "text/plain": [
       "FigureCanvasNbAgg()"
      ]
     },
     "metadata": {},
     "output_type": "display_data"
    },
    {
     "data": {
      "application/vnd.jupyter.widget-view+json": {
       "model_id": "25ac6805a42d4cd982fe0cd3200cae49",
       "version_major": 2,
       "version_minor": 0
      },
      "text/plain": [
       "FigureCanvasNbAgg()"
      ]
     },
     "metadata": {},
     "output_type": "display_data"
    }
   ],
   "source": [
    "LARGE_GRID.display_fixations(raw_large_grid_df, option='offset',input_subject=\"VP1\",input_block=1)"
   ]
  },
  {
   "cell_type": "markdown",
   "metadata": {},
   "source": [
    "#### Grid element centered plot"
   ]
  },
  {
   "cell_type": "code",
   "execution_count": 16,
   "metadata": {},
   "outputs": [
    {
     "data": {
      "application/vnd.jupyter.widget-view+json": {
       "model_id": "1d049fd6d57d4b49b5e5b842a46fa5f9",
       "version_major": 2,
       "version_minor": 0
      },
      "text/plain": [
       "FigureCanvasNbAgg()"
      ]
     },
     "metadata": {},
     "output_type": "display_data"
    },
    {
     "name": "stderr",
     "output_type": "stream",
     "text": [
      "/net/store/nbp/users/behinger/projects/etcomp/local/etcompvenv/lib/python3.5/site-packages/plotnine/layer.py:452: UserWarning: geom_point : Removed 124 rows containing missing values.\n",
      "  self.data = self.geom.handle_na(self.data)\n"
     ]
    },
    {
     "data": {
      "text/plain": [
       "<ggplot: (-9223363254568068359)>"
      ]
     },
     "execution_count": 16,
     "metadata": {},
     "output_type": "execute_result"
    }
   ],
   "source": [
    "LARGE_GRID.display_fixation_centered(raw_large_grid_df)+xlim((-10,10))+ylim((-10,10))"
   ]
  },
  {
   "cell_type": "code",
   "execution_count": 17,
   "metadata": {},
   "outputs": [],
   "source": [
    "tmpdata = raw_large_grid_df.groupby(['eyetracker','subject','posx', 'posy'],as_index=False).mean()"
   ]
  },
  {
   "cell_type": "markdown",
   "metadata": {},
   "source": [
    "#### Position vs Accuracy"
   ]
  },
  {
   "cell_type": "code",
   "execution_count": 18,
   "metadata": {},
   "outputs": [
    {
     "data": {
      "application/vnd.jupyter.widget-view+json": {
       "model_id": "40ce37d3f3144262b4440d3a04a610ac",
       "version_major": 2,
       "version_minor": 0
      },
      "text/plain": [
       "FigureCanvasNbAgg()"
      ]
     },
     "metadata": {},
     "output_type": "display_data"
    },
    {
     "data": {
      "text/plain": [
       "<ggplot: (8782286591159)>"
      ]
     },
     "execution_count": 18,
     "metadata": {},
     "output_type": "execute_result"
    }
   ],
   "source": [
    "(ggplot(raw_large_grid_df.groupby(['eyetracker','posx','posy'],as_index=False).mean(),aes(x=\"posx\",y=\"posy\",size=\"accuracy\"))+geom_point()+facet_wrap(\"~eyetracker\"))+coord_fixed()"
   ]
  },
  {
   "cell_type": "code",
   "execution_count": 19,
   "metadata": {},
   "outputs": [
    {
     "data": {
      "application/vnd.jupyter.widget-view+json": {
       "model_id": "b0670843b7984765b5dfede36603989b",
       "version_major": 2,
       "version_minor": 0
      },
      "text/plain": [
       "FigureCanvasNbAgg()"
      ]
     },
     "metadata": {},
     "output_type": "display_data"
    },
    {
     "data": {
      "text/plain": [
       "<ggplot: (-9223363254568214805)>"
      ]
     },
     "execution_count": 19,
     "metadata": {},
     "output_type": "execute_result"
    }
   ],
   "source": [
    "(ggplot(raw_large_grid_df.groupby(['eyetracker','posx','posy'],as_index=False).mean(),aes(x=\"posx\",y=\"posy\",size=\"rms\"))+geom_point()+facet_wrap(\"~eyetracker\"))+coord_fixed()"
   ]
  },
  {
   "cell_type": "markdown",
   "metadata": {},
   "source": [
    "#### Engbert vs. HMM\n",
    "This can be thought of a precursor to compare different pupillabs detection algorithms e.g. (3D vs 2D)"
   ]
  },
  {
   "cell_type": "code",
   "execution_count": 20,
   "metadata": {},
   "outputs": [
    {
     "name": "stdout",
     "output_type": "stream",
     "text": [
      "warning: removing DC offset of time-points (to semi align eyetrackers t=0)\n",
      "loading subject VP1 with et el\n",
      "loading subject VP1 with et pl\n",
      "loading subject VP2 with et el\n",
      "loading subject VP2 with et pl\n",
      "loading subject VP3 with et el\n",
      "loading subject VP3 with et pl\n",
      "loading subject VP4 with et el\n",
      "loading subject VP4 with et pl\n",
      "loading subject VP11 with et el\n",
      "loading subject VP11 with et pl\n",
      "loading subject VP12 with et el\n",
      "loading subject VP12 with et pl\n",
      "loading subject VP14 with et el\n",
      "loading subject VP14 with et pl\n",
      "loading subject VP15 with et el\n",
      "loading subject VP15 with et pl\n",
      "loading subject VP19 with et el\n",
      "loading subject VP19 with et pl\n",
      "loading subject VP20 with et el\n",
      "loading subject VP20 with et pl\n",
      "loading subject VP22 with et el\n",
      "loading subject VP22 with et pl\n",
      "loading subject VP23 with et el\n",
      "loading subject VP23 with et pl\n",
      "loading subject VP24 with et el\n",
      "loading subject VP24 with et pl\n",
      "loading subject VP25 with et el\n",
      "loading subject VP25 with et pl\n",
      "loading subject VP26 with et el\n",
      "loading subject VP26 with et pl\n",
      "loading subject results with et el\n",
      "File b'/net/store/nbp/projects/etcomp/results/preprocessed/el_cleaned_samples.csv' does not exist\n",
      "warning subject results et el not found\n",
      "loading subject results with et pl\n",
      "File b'/net/store/nbp/projects/etcomp/results/preprocessed/pl_cleaned_samples.csv' does not exist\n",
      "warning subject results et pl not found\n",
      "fixing subject VP1\n",
      "fixing subject VP2\n",
      "fixing subject VP3\n",
      "fixing subject VP4\n",
      "fixing subject VP11\n",
      "fixing subject VP12\n",
      "fixing subject VP14\n",
      "fixing subject VP15\n",
      "fixing subject VP19\n",
      "fixing subject VP20\n",
      "fixing subject VP22\n",
      "fixing subject VP23\n",
      "fixing subject VP24\n",
      "fixing subject VP25\n",
      "fixing subject VP26\n",
      "2018-08-21 12:25:09 - functions.et_condition_df                                         - DEBUG    - Data already loaded, just applying transformations\n",
      "2018-08-21 12:25:10 - functions.et_condition_df                                         - CRITICAL - Eyetracker: el    Subject: VP1 \n",
      "2018-08-21 12:25:10 - functions.et_condition_df                                         - CRITICAL - Eyetracker: pl    Subject: VP1 \n",
      "2018-08-21 12:25:11 - functions.et_condition_df                                         - CRITICAL - Eyetracker: el    Subject: VP2 \n",
      "2018-08-21 12:25:12 - functions.et_condition_df                                         - CRITICAL - Eyetracker: pl    Subject: VP2 \n",
      "2018-08-21 12:25:13 - functions.et_condition_df                                         - CRITICAL - Eyetracker: el    Subject: VP3 \n",
      "2018-08-21 12:25:14 - functions.et_condition_df                                         - CRITICAL - Eyetracker: pl    Subject: VP3 \n",
      "2018-08-21 12:25:15 - functions.et_condition_df                                         - CRITICAL - Eyetracker: el    Subject: VP4 \n",
      "2018-08-21 12:25:16 - functions.et_condition_df                                         - CRITICAL - Eyetracker: pl    Subject: VP4 \n",
      "2018-08-21 12:25:16 - functions.et_condition_df                                         - CRITICAL - Eyetracker: el    Subject: VP11 \n",
      "2018-08-21 12:25:17 - functions.et_condition_df                                         - CRITICAL - Eyetracker: pl    Subject: VP11 \n",
      "2018-08-21 12:25:18 - functions.et_condition_df                                         - CRITICAL - Eyetracker: el    Subject: VP12 \n",
      "2018-08-21 12:25:19 - functions.et_condition_df                                         - CRITICAL - Eyetracker: pl    Subject: VP12 \n",
      "2018-08-21 12:25:20 - functions.et_condition_df                                         - CRITICAL - Eyetracker: el    Subject: VP14 \n",
      "2018-08-21 12:25:21 - functions.et_condition_df                                         - CRITICAL - Eyetracker: pl    Subject: VP14 \n",
      "2018-08-21 12:25:22 - functions.et_condition_df                                         - CRITICAL - Eyetracker: el    Subject: VP15 \n",
      "2018-08-21 12:25:22 - functions.et_condition_df                                         - CRITICAL - Eyetracker: pl    Subject: VP15 \n",
      "2018-08-21 12:25:23 - functions.et_condition_df                                         - CRITICAL - Eyetracker: el    Subject: VP19 \n",
      "2018-08-21 12:25:24 - functions.et_condition_df                                         - CRITICAL - Eyetracker: pl    Subject: VP19 \n",
      "2018-08-21 12:25:25 - functions.et_condition_df                                         - CRITICAL - Eyetracker: el    Subject: VP20 \n",
      "2018-08-21 12:25:26 - functions.et_condition_df                                         - CRITICAL - Eyetracker: pl    Subject: VP20 \n",
      "2018-08-21 12:25:27 - functions.et_condition_df                                         - CRITICAL - Eyetracker: el    Subject: VP22 \n",
      "2018-08-21 12:25:28 - functions.et_condition_df                                         - CRITICAL - Eyetracker: pl    Subject: VP22 \n",
      "2018-08-21 12:25:28 - functions.et_condition_df                                         - CRITICAL - Eyetracker: el    Subject: VP23 \n",
      "2018-08-21 12:25:29 - functions.et_condition_df                                         - CRITICAL - Eyetracker: pl    Subject: VP23 \n",
      "2018-08-21 12:25:30 - functions.et_condition_df                                         - CRITICAL - Eyetracker: el    Subject: VP24 \n",
      "2018-08-21 12:25:31 - functions.et_condition_df                                         - CRITICAL - Eyetracker: pl    Subject: VP24 \n",
      "2018-08-21 12:25:32 - functions.et_condition_df                                         - CRITICAL - Eyetracker: el    Subject: VP25 \n",
      "2018-08-21 12:25:33 - functions.et_condition_df                                         - CRITICAL - Eyetracker: pl    Subject: VP25 \n",
      "2018-08-21 12:25:33 - functions.et_condition_df                                         - CRITICAL - Eyetracker: el    Subject: VP26 \n",
      "2018-08-21 12:25:34 - functions.et_condition_df                                         - CRITICAL - Eyetracker: pl    Subject: VP26 \n"
     ]
    }
   ],
   "source": [
    "(etsamples_engbert,etmsgs_engbert,etevents_engbert) = be_load.load_data(algorithm='')\n",
    "raw_large_grid_df_engbert = condition_df.get_condition_df(data=(etsamples_engbert,etmsgs_engbert,etevents_engbert),condition='LARGE_GRID')"
   ]
  },
  {
   "cell_type": "code",
   "execution_count": 21,
   "metadata": {},
   "outputs": [
    {
     "data": {
      "text/html": [
       "<div>\n",
       "<style scoped>\n",
       "    .dataframe tbody tr th:only-of-type {\n",
       "        vertical-align: middle;\n",
       "    }\n",
       "\n",
       "    .dataframe tbody tr th {\n",
       "        vertical-align: top;\n",
       "    }\n",
       "\n",
       "    .dataframe thead th {\n",
       "        text-align: right;\n",
       "    }\n",
       "</style>\n",
       "<table border=\"1\" class=\"dataframe\">\n",
       "  <thead>\n",
       "    <tr style=\"text-align: right;\">\n",
       "      <th></th>\n",
       "      <th>mean</th>\n",
       "      <th>median</th>\n",
       "      <th>horizontal_mean</th>\n",
       "      <th>vertical_mean</th>\n",
       "      <th>subject_min_accuracy</th>\n",
       "      <th>subject_max_accuracy</th>\n",
       "      <th>mean_rms</th>\n",
       "      <th>algorithm</th>\n",
       "    </tr>\n",
       "  </thead>\n",
       "  <tbody>\n",
       "    <tr>\n",
       "      <th>EyeLink</th>\n",
       "      <td>1.25722</td>\n",
       "      <td>1.00374</td>\n",
       "      <td>0.90134</td>\n",
       "      <td>0.928133</td>\n",
       "      <td>0.621138</td>\n",
       "      <td>3.32787</td>\n",
       "      <td>0.105255</td>\n",
       "      <td>hmm_nosmooth</td>\n",
       "    </tr>\n",
       "    <tr>\n",
       "      <th>Pupil Labs</th>\n",
       "      <td>1.62341</td>\n",
       "      <td>1.32028</td>\n",
       "      <td>1.14565</td>\n",
       "      <td>1.29937</td>\n",
       "      <td>0.914179</td>\n",
       "      <td>4.06802</td>\n",
       "      <td>0.079189</td>\n",
       "      <td>hmm_nosmooth</td>\n",
       "    </tr>\n",
       "    <tr>\n",
       "      <th>EyeLink</th>\n",
       "      <td>1.15595</td>\n",
       "      <td>0.966056</td>\n",
       "      <td>0.872415</td>\n",
       "      <td>0.92759</td>\n",
       "      <td>0.602418</td>\n",
       "      <td>3.22539</td>\n",
       "      <td>0.0482282</td>\n",
       "      <td>engbert</td>\n",
       "    </tr>\n",
       "    <tr>\n",
       "      <th>Pupil Labs</th>\n",
       "      <td>1.69143</td>\n",
       "      <td>1.34125</td>\n",
       "      <td>1.14853</td>\n",
       "      <td>1.41251</td>\n",
       "      <td>0.958829</td>\n",
       "      <td>4.27488</td>\n",
       "      <td>0.237145</td>\n",
       "      <td>engbert</td>\n",
       "    </tr>\n",
       "  </tbody>\n",
       "</table>\n",
       "</div>"
      ],
      "text/plain": [
       "               mean    median horizontal_mean vertical_mean  \\\n",
       "EyeLink     1.25722   1.00374         0.90134      0.928133   \n",
       "Pupil Labs  1.62341   1.32028         1.14565       1.29937   \n",
       "EyeLink     1.15595  0.966056        0.872415       0.92759   \n",
       "Pupil Labs  1.69143   1.34125         1.14853       1.41251   \n",
       "\n",
       "           subject_min_accuracy subject_max_accuracy   mean_rms     algorithm  \n",
       "EyeLink                0.621138              3.32787   0.105255  hmm_nosmooth  \n",
       "Pupil Labs             0.914179              4.06802   0.079189  hmm_nosmooth  \n",
       "EyeLink                0.602418              3.22539  0.0482282       engbert  \n",
       "Pupil Labs             0.958829              4.27488   0.237145       engbert  "
      ]
     },
     "execution_count": 21,
     "metadata": {},
     "output_type": "execute_result"
    }
   ],
   "source": [
    "GRID_accuracy_table = pd.concat(\n",
    "    [LARGE_GRID.make_table_accuracy(raw_large_grid_df).assign(        algorithm='hmm_nosmooth'),\n",
    "     LARGE_GRID.make_table_accuracy(raw_large_grid_df_engbert).assign(algorithm='engbert'     )])\n",
    "GRID_accuracy_table"
   ]
  },
  {
   "cell_type": "markdown",
   "metadata": {},
   "source": [
    "## Statistical Model Tests (Beta)"
   ]
  },
  {
   "cell_type": "code",
   "execution_count": 22,
   "metadata": {},
   "outputs": [
    {
     "name": "stderr",
     "output_type": "stream",
     "text": [
      "/net/store/nbp/users/behinger/projects/etcomp/local/etcompvenv/lib/python3.5/importlib/_bootstrap.py:222: RuntimeWarning: numpy.dtype size changed, may indicate binary incompatibility. Expected 96, got 88\n",
      "  return f(*args, **kwds)\n",
      "/net/store/nbp/users/behinger/projects/etcomp/local/etcompvenv/lib/python3.5/site-packages/rpy2/robjects/pandas2ri.py:57: UserWarning: Error while trying to convert the column \"block\". Fall back to string conversion. The error is: Converting pandas \"Category\" series to R factor is only possible when categories are strings.\n",
      "  (name, str(e)))\n"
     ]
    },
    {
     "name": "stdout",
     "output_type": "stream",
     "text": [
      "Formula: accuracy~1+et+(1+et|subject/block)\n",
      "\n",
      "Family: gaussian\t Inference: parametric\n",
      "\n",
      "Number of observations: 8877\t Groups: {'subject': 15.0, 'block:subject': 90.0}\n",
      "\n",
      "Log-likelihood: -23972.025 \t AIC: 47944.049\n",
      "\n",
      "Random effects:\n",
      "\n",
      "                       Name     Var    Std\n",
      "block:subject   (Intercept)   2.632  1.622\n",
      "block:subject  etPupil Labs   0.124  0.352\n",
      "subject         (Intercept)   0.043  0.207\n",
      "subject        etPupil Labs   0.113  0.336\n",
      "Residual                     12.524  3.539\n",
      "\n",
      "                       IV1           IV2   Corr\n",
      "block:subject  (Intercept)  etPupil Labs  0.416\n",
      "subject        (Intercept)  etPupil Labs -0.822\n",
      "\n",
      "Fixed effects:\n",
      "\n"
     ]
    },
    {
     "data": {
      "text/html": [
       "<div>\n",
       "<style scoped>\n",
       "    .dataframe tbody tr th:only-of-type {\n",
       "        vertical-align: middle;\n",
       "    }\n",
       "\n",
       "    .dataframe tbody tr th {\n",
       "        vertical-align: top;\n",
       "    }\n",
       "\n",
       "    .dataframe thead th {\n",
       "        text-align: right;\n",
       "    }\n",
       "</style>\n",
       "<table border=\"1\" class=\"dataframe\">\n",
       "  <thead>\n",
       "    <tr style=\"text-align: right;\">\n",
       "      <th></th>\n",
       "      <th>Estimate</th>\n",
       "      <th>2.5_ci</th>\n",
       "      <th>97.5_ci</th>\n",
       "      <th>SE</th>\n",
       "      <th>DF</th>\n",
       "      <th>T-stat</th>\n",
       "      <th>P-val</th>\n",
       "      <th>Sig</th>\n",
       "    </tr>\n",
       "  </thead>\n",
       "  <tbody>\n",
       "    <tr>\n",
       "      <th>(Intercept)</th>\n",
       "      <td>1.256</td>\n",
       "      <td>0.890</td>\n",
       "      <td>1.623</td>\n",
       "      <td>0.187</td>\n",
       "      <td>13.998</td>\n",
       "      <td>6.722</td>\n",
       "      <td>0.000</td>\n",
       "      <td>***</td>\n",
       "    </tr>\n",
       "    <tr>\n",
       "      <th>etPupil Labs</th>\n",
       "      <td>0.378</td>\n",
       "      <td>0.142</td>\n",
       "      <td>0.615</td>\n",
       "      <td>0.121</td>\n",
       "      <td>14.018</td>\n",
       "      <td>3.137</td>\n",
       "      <td>0.007</td>\n",
       "      <td>**</td>\n",
       "    </tr>\n",
       "  </tbody>\n",
       "</table>\n",
       "</div>"
      ],
      "text/plain": [
       "              Estimate  2.5_ci  97.5_ci     SE      DF  T-stat  P-val  Sig\n",
       "(Intercept)      1.256   0.890    1.623  0.187  13.998   6.722  0.000  ***\n",
       "etPupil Labs     0.378   0.142    0.615  0.121  14.018   3.137  0.007   **"
      ]
     },
     "execution_count": 22,
     "metadata": {},
     "output_type": "execute_result"
    }
   ],
   "source": [
    "from pymer4.models import Lmer\n",
    "mres = Lmer(\"accuracy~1+et+(1+et|subject/block)\",data=raw_large_grid_df)\n",
    "mres.fit()"
   ]
  },
  {
   "cell_type": "code",
   "execution_count": 23,
   "metadata": {},
   "outputs": [
    {
     "data": {
      "application/vnd.jupyter.widget-view+json": {
       "model_id": "7c440070f3634293b7c707af6276d966",
       "version_major": 2,
       "version_minor": 0
      },
      "text/plain": [
       "FigureCanvasNbAgg()"
      ]
     },
     "metadata": {},
     "output_type": "display_data"
    },
    {
     "data": {
      "text/plain": [
       "<ggplot: (8782286695414)>"
      ]
     },
     "execution_count": 23,
     "metadata": {},
     "output_type": "execute_result"
    }
   ],
   "source": [
    "ggplot(mres.data.assign(idx=list(range(mres.data.shape[0]))),aes(x=\"idx\",y=\"residuals\",color='subject',shape=\"et\"))+geom_point()"
   ]
  },
  {
   "cell_type": "code",
   "execution_count": 24,
   "metadata": {},
   "outputs": [
    {
     "name": "stderr",
     "output_type": "stream",
     "text": [
      "/net/store/nbp/users/behinger/projects/etcomp/local/etcompvenv/lib/python3.5/site-packages/rpy2/robjects/pandas2ri.py:57: UserWarning: Error while trying to convert the column \"block\". Fall back to string conversion. The error is: Converting pandas \"Category\" series to R factor is only possible when categories are strings.\n",
      "  (name, str(e)))\n"
     ]
    }
   ],
   "source": [
    "%load_ext rpy2.ipython\n",
    "%Rpush raw_large_grid_df"
   ]
  },
  {
   "cell_type": "code",
   "execution_count": 25,
   "metadata": {},
   "outputs": [
    {
     "data": {
      "text/plain": [
       "Linear mixed model fit by REML. t-tests use Satterthwaite's method [\n",
       "lmerModLmerTest]\n",
       "Formula: accuracy ~ 1 + et + (1 + et | subject/block)\n",
       "   Data: raw_large_grid_df\n",
       "\n",
       "REML criterion at convergence: 47944\n",
       "\n",
       "Scaled residuals: \n",
       "   Min     1Q Median     3Q    Max \n",
       "-4.187 -0.172 -0.056  0.077 46.613 \n",
       "\n",
       "Random effects:\n",
       " Groups        Name        Variance Std.Dev. Corr \n",
       " block:subject (Intercept)  2.90081 1.7032        \n",
       "               et1          0.12414 0.3523   0.50 \n",
       " subject       (Intercept)  0.01395 0.1181        \n",
       "               et1          0.11263 0.3356   -0.02\n",
       " Residual                  12.52388 3.5389        \n",
       "Number of obs: 8877, groups:  block:subject, 90; subject, 15\n",
       "\n",
       "Fixed effects:\n",
       "            Estimate Std. Error      df t value Pr(>|t|)    \n",
       "(Intercept)   1.4456     0.1859 14.0080   7.775  1.9e-06 ***\n",
       "et1           0.3782     0.1206 14.0190   3.137  0.00727 ** \n",
       "---\n",
       "Signif. codes:  0 ‘***’ 0.001 ‘**’ 0.01 ‘*’ 0.05 ‘.’ 0.1 ‘ ’ 1\n",
       "\n",
       "Correlation of Fixed Effects:\n",
       "    (Intr)\n",
       "et1 0.146 \n"
      ]
     },
     "metadata": {},
     "output_type": "display_data"
    }
   ],
   "source": [
    "%%R\n",
    "library(lme4)\n",
    "raw_large_grid_df$et = factor(raw_large_grid_df$et)\n",
    "contrasts(raw_large_grid_df$et)=c(-0.5,0.5)\n",
    "mres <- lmer(accuracy ~ 1+et +  ( 1 + et | subject/block ) ,data = raw_large_grid_df)\n",
    "summary(mres)"
   ]
  },
  {
   "cell_type": "code",
   "execution_count": 26,
   "metadata": {},
   "outputs": [
    {
     "data": {
      "text/plain": [
       "Robust linear mixed model fit by DAStau \n",
       "Formula: accuracy ~ 1 + et + (1 + et | subject/block) \n",
       "   Data: raw_large_grid_df \n",
       "\n",
       "Scaled residuals: \n",
       "    Min      1Q  Median      3Q     Max \n",
       "-14.706  -0.643  -0.083   0.619 265.844 \n",
       "\n",
       "Random effects:\n",
       " Groups        Name        Variance  Std.Dev. Corr\n",
       " block:subject (Intercept) 5.847e-02 0.24181      \n",
       "               et1         1.384e-01 0.37208  0.62\n",
       " subject       (Intercept) 5.822e-05 0.00763      \n",
       "               et1         1.954e-02 0.13980  1.00\n",
       " Residual                  3.936e-01 0.62734      \n",
       "Number of obs: 8877, groups: block:subject, 90; subject, 15\n",
       "\n",
       "Fixed effects:\n",
       "            Estimate Std. Error t value\n",
       "(Intercept)  0.98514    0.02730   36.09\n",
       "et1          0.35238    0.05678    6.21\n",
       "\n",
       "Correlation of Fixed Effects:\n",
       "    (Intr)\n",
       "et1 0.480 \n",
       "\n",
       "Robustness weights for the residuals: \n",
       " 7107 weights are ~= 1. The remaining 1770 ones are summarized as\n",
       "   Min. 1st Qu.  Median    Mean 3rd Qu.    Max. \n",
       "0.00506 0.47300 0.73500 0.66000 0.91000 0.99900 \n",
       "\n",
       "Robustness weights for the random effects: \n",
       " 144 weights are ~= 1. The remaining 66 ones are summarized as\n",
       "   Min. 1st Qu.  Median    Mean 3rd Qu.    Max. \n",
       " 0.0459  0.5010  0.7560  0.6620  0.8840  0.9960 \n",
       "\n",
       "Rho functions used for fitting:\n",
       "  Residuals:\n",
       "    eff: smoothed Huber (k = 1.345, s = 10) \n",
       "    sig: smoothed Huber, Proposal II (k = 1.345, s = 10) \n",
       "  Random Effects, variance component 1 (block:subject):\n",
       "    eff: smoothed Huber (k = 1.345, s = 10) \n",
       "    vcp: smoothed Huber (k = 1.345, s = 10) \n",
       "  Random Effects, variance component 2 (subject):\n",
       "    eff: smoothed Huber (k = 1.345, s = 10) \n",
       "    vcp: smoothed Huber (k = 1.345, s = 10) \n"
      ]
     },
     "metadata": {},
     "output_type": "display_data"
    }
   ],
   "source": [
    "%%R\n",
    "library(robustlmm)\n",
    "rmres <- rlmer(accuracy ~ 1+et +  ( 1 + et | subject/block ) ,data = raw_large_grid_df,verbose=0)\n",
    "summary(rmres)"
   ]
  },
  {
   "cell_type": "code",
   "execution_count": 27,
   "metadata": {},
   "outputs": [
    {
     "data": {
      "text/plain": [
       "Robust linear mixed model fit by DAStau \n",
       "Formula: accuracy ~ 1 + et + (1 + et | subject/block) \n",
       "   Data: raw_large_grid_df \n",
       "\n",
       "Scaled residuals: \n",
       "    Min      1Q  Median      3Q     Max \n",
       "-14.706  -0.643  -0.083   0.619 265.844 \n",
       "\n",
       "Random effects:\n",
       " Groups        Name        Variance  Std.Dev. Corr\n",
       " block:subject (Intercept) 5.847e-02 0.24181      \n",
       "               et1         1.384e-01 0.37208  0.62\n",
       " subject       (Intercept) 5.822e-05 0.00763      \n",
       "               et1         1.954e-02 0.13980  1.00\n",
       " Residual                  3.936e-01 0.62734      \n",
       "Number of obs: 8877, groups: block:subject, 90; subject, 15\n",
       "\n",
       "Fixed effects:\n",
       "            Estimate Std. Error t value\n",
       "(Intercept)  0.98514    0.02730   36.09\n",
       "et1          0.35238    0.05678    6.21\n",
       "\n",
       "Correlation of Fixed Effects:\n",
       "    (Intr)\n",
       "et1 0.480 \n",
       "\n",
       "Robustness weights for the residuals: \n",
       " 7107 weights are ~= 1. The remaining 1770 ones are summarized as\n",
       "   Min. 1st Qu.  Median    Mean 3rd Qu.    Max. \n",
       "0.00506 0.47300 0.73500 0.66000 0.91000 0.99900 \n",
       "\n",
       "Robustness weights for the random effects: \n",
       " 144 weights are ~= 1. The remaining 66 ones are summarized as\n",
       "   Min. 1st Qu.  Median    Mean 3rd Qu.    Max. \n",
       " 0.0459  0.5010  0.7560  0.6620  0.8840  0.9960 \n",
       "\n",
       "Rho functions used for fitting:\n",
       "  Residuals:\n",
       "    eff: smoothed Huber (k = 1.345, s = 10) \n",
       "    sig: smoothed Huber, Proposal II (k = 1.345, s = 10) \n",
       "  Random Effects, variance component 1 (block:subject):\n",
       "    eff: smoothed Huber (k = 1.345, s = 10) \n",
       "    vcp: smoothed Huber (k = 1.345, s = 10) \n",
       "  Random Effects, variance component 2 (subject):\n",
       "    eff: smoothed Huber (k = 1.345, s = 10) \n",
       "    vcp: smoothed Huber (k = 1.345, s = 10) \n"
      ]
     },
     "metadata": {},
     "output_type": "display_data"
    }
   ],
   "source": [
    "%%R\n",
    "summary(rmres)"
   ]
  },
  {
   "cell_type": "code",
   "execution_count": 28,
   "metadata": {},
   "outputs": [
    {
     "data": {
      "text/plain": [
       "NULL\n"
      ]
     },
     "metadata": {},
     "output_type": "display_data"
    }
   ],
   "source": [
    "%%R\n",
    "#plot(rmres)"
   ]
  },
  {
   "cell_type": "markdown",
   "metadata": {},
   "source": [
    "## Supplementary"
   ]
  },
  {
   "cell_type": "code",
   "execution_count": 29,
   "metadata": {},
   "outputs": [
    {
     "data": {
      "application/vnd.jupyter.widget-view+json": {
       "model_id": "f166f7e8137444dcbbb2d45dcb2aa78f",
       "version_major": 2,
       "version_minor": 0
      },
      "text/plain": [
       "FigureCanvasNbAgg()"
      ]
     },
     "metadata": {},
     "output_type": "display_data"
    }
   ],
   "source": [
    "#test = raw_large_grid_df.query(\"subject in ['VP1', 'VP3']\")\n",
    "LARGE_GRID.plot_accuracy(raw_large_grid_df, option='dodge')"
   ]
  },
  {
   "cell_type": "code",
   "execution_count": 30,
   "metadata": {},
   "outputs": [
    {
     "data": {
      "application/vnd.jupyter.widget-view+json": {
       "model_id": "c929c7bf987444a48da2cbe7f09728a0",
       "version_major": 2,
       "version_minor": 0
      },
      "text/plain": [
       "FigureCanvasNbAgg()"
      ]
     },
     "metadata": {},
     "output_type": "display_data"
    },
    {
     "data": {
      "application/vnd.jupyter.widget-view+json": {
       "model_id": "391273b9d43943afa86d6c24c8f7c40e",
       "version_major": 2,
       "version_minor": 0
      },
      "text/plain": [
       "FigureCanvasNbAgg()"
      ]
     },
     "metadata": {},
     "output_type": "display_data"
    }
   ],
   "source": [
    "# investigate on the position and properties of detected fixations\n",
    "LARGE_GRID.display_fixations(raw_large_grid_df, option='fixations')"
   ]
  },
  {
   "cell_type": "markdown",
   "metadata": {},
   "source": [
    "# Blinks"
   ]
  },
  {
   "cell_type": "markdown",
   "metadata": {},
   "source": [
    "## Load Data"
   ]
  },
  {
   "cell_type": "code",
   "execution_count": 31,
   "metadata": {},
   "outputs": [
    {
     "name": "stdout",
     "output_type": "stream",
     "text": [
      "2018-08-21 12:58:35 - functions.et_condition_df                                         - DEBUG    - Data already loaded, just applying transformations\n",
      "2018-08-21 12:58:36 - functions.et_condition_df                                         - CRITICAL - Eyetracker: el    Subject: VP1 \n"
     ]
    },
    {
     "name": "stderr",
     "output_type": "stream",
     "text": [
      "/net/store/nbp/users/behinger/projects/etcomp/local/etcompvenv/lib/python3.5/site-packages/pandas/core/indexing.py:362: SettingWithCopyWarning: \n",
      "A value is trying to be set on a copy of a slice from a DataFrame.\n",
      "Try using .loc[row_indexer,col_indexer] = value instead\n",
      "\n",
      "See the caveats in the documentation: http://pandas.pydata.org/pandas-docs/stable/indexing.html#indexing-view-versus-copy\n",
      "  self.obj[key] = _infer_fill_value(value)\n",
      "/net/store/nbp/users/behinger/projects/etcomp/local/etcompvenv/lib/python3.5/site-packages/pandas/core/indexing.py:543: SettingWithCopyWarning: \n",
      "A value is trying to be set on a copy of a slice from a DataFrame.\n",
      "Try using .loc[row_indexer,col_indexer] = value instead\n",
      "\n",
      "See the caveats in the documentation: http://pandas.pydata.org/pandas-docs/stable/indexing.html#indexing-view-versus-copy\n",
      "  self.obj[item] = s\n"
     ]
    },
    {
     "name": "stdout",
     "output_type": "stream",
     "text": [
      "2018-08-21 12:58:39 - functions.et_condition_df                                         - CRITICAL - Eyetracker: pl    Subject: VP1 \n",
      "2018-08-21 12:58:42 - functions.et_condition_df                                         - CRITICAL - Eyetracker: el    Subject: VP2 \n",
      "2018-08-21 12:58:44 - functions.et_condition_df                                         - CRITICAL - Eyetracker: pl    Subject: VP2 \n",
      "2018-08-21 12:58:47 - functions.et_condition_df                                         - CRITICAL - Eyetracker: el    Subject: VP3 \n",
      "2018-08-21 12:58:50 - functions.et_condition_df                                         - CRITICAL - Eyetracker: pl    Subject: VP3 \n",
      "2018-08-21 12:58:53 - functions.et_condition_df                                         - CRITICAL - Eyetracker: el    Subject: VP4 \n",
      "2018-08-21 12:58:56 - functions.et_condition_df                                         - CRITICAL - Eyetracker: pl    Subject: VP4 \n",
      "2018-08-21 12:58:59 - functions.et_condition_df                                         - CRITICAL - Eyetracker: el    Subject: VP11 \n",
      "2018-08-21 12:59:02 - functions.et_condition_df                                         - CRITICAL - Eyetracker: pl    Subject: VP11 \n",
      "2018-08-21 12:59:05 - functions.et_condition_df                                         - CRITICAL - Eyetracker: el    Subject: VP12 \n",
      "2018-08-21 12:59:08 - functions.et_condition_df                                         - CRITICAL - Eyetracker: pl    Subject: VP12 \n",
      "2018-08-21 12:59:10 - functions.et_condition_df                                         - CRITICAL - Eyetracker: el    Subject: VP14 \n",
      "2018-08-21 12:59:13 - functions.et_condition_df                                         - CRITICAL - Eyetracker: pl    Subject: VP14 \n",
      "2018-08-21 12:59:16 - functions.et_condition_df                                         - CRITICAL - Eyetracker: el    Subject: VP15 \n",
      "2018-08-21 12:59:19 - functions.et_condition_df                                         - CRITICAL - Eyetracker: pl    Subject: VP15 \n",
      "2018-08-21 12:59:22 - functions.et_condition_df                                         - CRITICAL - Eyetracker: el    Subject: VP19 \n",
      "2018-08-21 12:59:25 - functions.et_condition_df                                         - CRITICAL - Eyetracker: pl    Subject: VP19 \n",
      "2018-08-21 12:59:28 - functions.et_condition_df                                         - CRITICAL - Eyetracker: el    Subject: VP20 \n",
      "2018-08-21 12:59:31 - functions.et_condition_df                                         - CRITICAL - Eyetracker: pl    Subject: VP20 \n",
      "2018-08-21 12:59:34 - functions.et_condition_df                                         - CRITICAL - Eyetracker: el    Subject: VP22 \n",
      "2018-08-21 12:59:37 - functions.et_condition_df                                         - CRITICAL - Eyetracker: pl    Subject: VP22 \n",
      "2018-08-21 12:59:40 - functions.et_condition_df                                         - CRITICAL - Eyetracker: el    Subject: VP23 \n",
      "2018-08-21 12:59:42 - functions.et_condition_df                                         - CRITICAL - Eyetracker: pl    Subject: VP23 \n",
      "2018-08-21 12:59:45 - functions.et_condition_df                                         - CRITICAL - Eyetracker: el    Subject: VP24 \n",
      "2018-08-21 12:59:48 - functions.et_condition_df                                         - CRITICAL - Eyetracker: pl    Subject: VP24 \n",
      "2018-08-21 12:59:51 - functions.et_condition_df                                         - CRITICAL - Eyetracker: el    Subject: VP25 \n",
      "2018-08-21 12:59:54 - functions.et_condition_df                                         - CRITICAL - Eyetracker: pl    Subject: VP25 \n",
      "2018-08-21 12:59:57 - functions.et_condition_df                                         - CRITICAL - Eyetracker: el    Subject: VP26 \n",
      "2018-08-21 13:00:00 - functions.et_condition_df                                         - CRITICAL - Eyetracker: pl    Subject: VP26 \n"
     ]
    }
   ],
   "source": [
    "#%% Do Blink Analysis\n",
    "blink= condition_df.get_condition_df(data=(etsamples,etmsgs,etevents),condition=\"BLINK\")"
   ]
  },
  {
   "cell_type": "markdown",
   "metadata": {},
   "source": [
    "## Results"
   ]
  },
  {
   "cell_type": "markdown",
   "metadata": {},
   "source": [
    "#### Number of Blinks"
   ]
  },
  {
   "cell_type": "code",
   "execution_count": 32,
   "metadata": {},
   "outputs": [
    {
     "name": "stderr",
     "output_type": "stream",
     "text": [
      "/net/store/nbp/users/behinger/projects/etcomp/local/etcompvenv/lib/python3.5/site-packages/plotnine/layer.py:363: UserWarning: stat_summary : Removed 1 rows containing non-finite values.\n",
      "  data = self.stat.compute_layer(data, params, layout)\n",
      "/net/store/nbp/users/behinger/projects/etcomp/local/etcompvenv/lib/python3.5/site-packages/numpy/core/_methods.py:32: RuntimeWarning: invalid value encountered in reduce\n",
      "  return umr_minimum(a, axis, None, out, keepdims, initial)\n",
      "/net/store/nbp/users/behinger/projects/etcomp/local/etcompvenv/lib/python3.5/site-packages/numpy/core/_methods.py:28: RuntimeWarning: invalid value encountered in reduce\n",
      "  return umr_maximum(a, axis, None, out, keepdims, initial)\n"
     ]
    },
    {
     "data": {
      "application/vnd.jupyter.widget-view+json": {
       "model_id": "55220d413a4043d0afa131706685b20b",
       "version_major": 2,
       "version_minor": 0
      },
      "text/plain": [
       "FigureCanvasNbAgg()"
      ]
     },
     "metadata": {},
     "output_type": "display_data"
    },
    {
     "name": "stderr",
     "output_type": "stream",
     "text": [
      "/net/store/nbp/users/behinger/projects/etcomp/local/etcompvenv/lib/python3.5/site-packages/plotnine/layer.py:452: UserWarning: geom_jitter : Removed 1 rows containing missing values.\n",
      "  self.data = self.geom.handle_na(self.data)\n"
     ]
    }
   ],
   "source": [
    "BLINK.plot_count(blink)"
   ]
  },
  {
   "cell_type": "markdown",
   "metadata": {},
   "source": [
    "#### Duration of Blinks"
   ]
  },
  {
   "cell_type": "code",
   "execution_count": 33,
   "metadata": {},
   "outputs": [
    {
     "data": {
      "application/vnd.jupyter.widget-view+json": {
       "model_id": "8401ab84fbad406d9c48b92563f9d3e1",
       "version_major": 2,
       "version_minor": 0
      },
      "text/plain": [
       "FigureCanvasNbAgg()"
      ]
     },
     "metadata": {},
     "output_type": "display_data"
    }
   ],
   "source": [
    "BLINK.plot_duration(blink)"
   ]
  },
  {
   "cell_type": "markdown",
   "metadata": {},
   "source": [
    "#### Subject-wise number + duration"
   ]
  },
  {
   "cell_type": "code",
   "execution_count": 34,
   "metadata": {},
   "outputs": [
    {
     "data": {
      "application/vnd.jupyter.widget-view+json": {
       "model_id": "f5bd58832a2f4de8a1e10543a9fd7ddf",
       "version_major": 2,
       "version_minor": 0
      },
      "text/plain": [
       "FigureCanvasNbAgg()"
      ]
     },
     "metadata": {},
     "output_type": "display_data"
    },
    {
     "name": "stderr",
     "output_type": "stream",
     "text": [
      "/net/store/nbp/users/behinger/projects/etcomp/local/etcompvenv/lib/python3.5/site-packages/plotnine/layer.py:452: UserWarning: geom_jitter : Removed 1 rows containing missing values.\n",
      "  self.data = self.geom.handle_na(self.data)\n"
     ]
    }
   ],
   "source": [
    "BLINK.plot_count(blink,option=\"facet_subjects\")"
   ]
  },
  {
   "cell_type": "code",
   "execution_count": 35,
   "metadata": {},
   "outputs": [
    {
     "data": {
      "application/vnd.jupyter.widget-view+json": {
       "model_id": "3a35eb4f769348f1a9e53fd2893e21b5",
       "version_major": 2,
       "version_minor": 0
      },
      "text/plain": [
       "FigureCanvasNbAgg()"
      ]
     },
     "metadata": {},
     "output_type": "display_data"
    }
   ],
   "source": [
    "BLINK.plot_duration(blink,option=\"facet_subjects\")"
   ]
  },
  {
   "cell_type": "markdown",
   "metadata": {},
   "source": [
    "# Smooth Pursuit"
   ]
  },
  {
   "cell_type": "markdown",
   "metadata": {},
   "source": [
    "## Load Smooth Data"
   ]
  },
  {
   "cell_type": "code",
   "execution_count": 36,
   "metadata": {},
   "outputs": [],
   "source": [
    "# this loads the bayesian model results\n",
    "cfg = {'redo':False} # should be specified in the beginning of the notebook\n",
    "if cfg['redo']:\n",
    "    smoothresult = SMOOTH.fit_bayesian_model(etsamples,etmsgs,etevents)\n",
    "    SMOOTH.save_smooth(smoothresult)\n",
    "else:\n",
    "    smoothresult = SMOOTH.load_smooth()"
   ]
  },
  {
   "cell_type": "code",
   "execution_count": 37,
   "metadata": {},
   "outputs": [
    {
     "name": "stdout",
     "output_type": "stream",
     "text": [
      "2018-08-21 13:00:07 - functions.et_condition_df                                         - DEBUG    - Data already loaded, just applying transformations\n",
      "2018-08-21 13:00:08 - functions.et_condition_df                                         - CRITICAL - Eyetracker: el    Subject: VP1 \n",
      "2018-08-21 13:00:09 - functions.et_condition_df                                         - CRITICAL - Eyetracker: pl    Subject: VP1 \n",
      "2018-08-21 13:00:09 - functions.et_condition_df                                         - CRITICAL - Eyetracker: el    Subject: VP2 \n",
      "2018-08-21 13:00:10 - functions.et_condition_df                                         - CRITICAL - Eyetracker: pl    Subject: VP2 \n",
      "2018-08-21 13:00:11 - functions.et_condition_df                                         - CRITICAL - Eyetracker: el    Subject: VP3 \n",
      "2018-08-21 13:00:12 - functions.et_condition_df                                         - CRITICAL - Eyetracker: pl    Subject: VP3 \n",
      "2018-08-21 13:00:12 - functions.et_condition_df                                         - CRITICAL - Eyetracker: el    Subject: VP4 \n",
      "2018-08-21 13:00:13 - functions.et_condition_df                                         - CRITICAL - Eyetracker: pl    Subject: VP4 \n",
      "2018-08-21 13:00:14 - functions.et_condition_df                                         - CRITICAL - Eyetracker: el    Subject: VP11 \n",
      "2018-08-21 13:00:15 - functions.et_condition_df                                         - CRITICAL - Eyetracker: pl    Subject: VP11 \n",
      "2018-08-21 13:00:15 - functions.et_condition_df                                         - CRITICAL - Eyetracker: el    Subject: VP12 \n",
      "2018-08-21 13:00:16 - functions.et_condition_df                                         - CRITICAL - Eyetracker: pl    Subject: VP12 \n",
      "2018-08-21 13:00:17 - functions.et_condition_df                                         - CRITICAL - Eyetracker: el    Subject: VP14 \n",
      "2018-08-21 13:00:18 - functions.et_condition_df                                         - CRITICAL - Eyetracker: pl    Subject: VP14 \n",
      "2018-08-21 13:00:19 - functions.et_condition_df                                         - CRITICAL - Eyetracker: el    Subject: VP15 \n",
      "2018-08-21 13:00:19 - functions.et_condition_df                                         - CRITICAL - Eyetracker: pl    Subject: VP15 \n",
      "2018-08-21 13:00:20 - functions.et_condition_df                                         - CRITICAL - Eyetracker: el    Subject: VP19 \n",
      "2018-08-21 13:00:21 - functions.et_condition_df                                         - CRITICAL - Eyetracker: pl    Subject: VP19 \n",
      "2018-08-21 13:00:22 - functions.et_condition_df                                         - CRITICAL - Eyetracker: el    Subject: VP20 \n",
      "2018-08-21 13:00:23 - functions.et_condition_df                                         - CRITICAL - Eyetracker: pl    Subject: VP20 \n",
      "2018-08-21 13:00:24 - functions.et_condition_df                                         - CRITICAL - Eyetracker: el    Subject: VP22 \n",
      "2018-08-21 13:00:25 - functions.et_condition_df                                         - CRITICAL - Eyetracker: pl    Subject: VP22 \n",
      "2018-08-21 13:00:25 - functions.et_condition_df                                         - CRITICAL - Eyetracker: el    Subject: VP23 \n",
      "2018-08-21 13:00:26 - functions.et_condition_df                                         - CRITICAL - Eyetracker: pl    Subject: VP23 \n",
      "2018-08-21 13:00:27 - functions.et_condition_df                                         - CRITICAL - Eyetracker: el    Subject: VP24 \n",
      "2018-08-21 13:00:28 - functions.et_condition_df                                         - CRITICAL - Eyetracker: pl    Subject: VP24 \n",
      "2018-08-21 13:00:29 - functions.et_condition_df                                         - CRITICAL - Eyetracker: el    Subject: VP25 \n",
      "2018-08-21 13:00:30 - functions.et_condition_df                                         - CRITICAL - Eyetracker: pl    Subject: VP25 \n",
      "2018-08-21 13:00:31 - functions.et_condition_df                                         - CRITICAL - Eyetracker: el    Subject: VP26 \n",
      "2018-08-21 13:00:32 - functions.et_condition_df                                         - CRITICAL - Eyetracker: pl    Subject: VP26 \n"
     ]
    }
   ],
   "source": [
    "# this is the data per subject\n",
    "smooth = condition_df.get_condition_df(data=(etsamples,etmsgs,etevents),condition=\"SMOOTHPURSUIT\")"
   ]
  },
  {
   "cell_type": "markdown",
   "metadata": {},
   "source": [
    "## Methods"
   ]
  },
  {
   "cell_type": "markdown",
   "metadata": {},
   "source": [
    "#### Single Trial Modelfit"
   ]
  },
  {
   "cell_type": "code",
   "execution_count": 38,
   "metadata": {},
   "outputs": [
    {
     "name": "stdout",
     "output_type": "stream",
     "text": [
      "2018-08-21 13:00:34 - pystan                                                            - DEBUG    - Successfully parsed Stan model 'anon_model_8875299d4f0849455d5b6cf28abae5ce'.\n",
      "2018-08-21 13:00:34 - pystan                                                            - INFO     - COMPILING THE C++ CODE FOR MODEL anon_model_8875299d4f0849455d5b6cf28abae5ce NOW.\n"
     ]
    }
   ],
   "source": [
    "smooth_stanmodel = SMOOTH.compileModel() # to facilitate plotting "
   ]
  },
  {
   "cell_type": "code",
   "execution_count": 39,
   "metadata": {},
   "outputs": [],
   "source": [
    "plt.rcParams['figure.figsize'] = [15, 10]"
   ]
  },
  {
   "cell_type": "code",
   "execution_count": 40,
   "metadata": {},
   "outputs": [
    {
     "data": {
      "application/vnd.jupyter.widget-view+json": {
       "model_id": "41e0f7a6b2e240d58d7bae7a808d00a2",
       "version_major": 2,
       "version_minor": 0
      },
      "text/plain": [
       "FigureCanvasNbAgg()"
      ]
     },
     "metadata": {},
     "output_type": "display_data"
    },
    {
     "name": "stdout",
     "output_type": "stream",
     "text": [
      "msg 0 from 1\n"
     ]
    },
    {
     "name": "stderr",
     "output_type": "stream",
     "text": [
      "/net/store/nbp/users/behinger/projects/etcomp/local/etcompvenv/lib/python3.5/site-packages/pystan/misc.py:399: FutureWarning: Conversion of the second argument of issubdtype from `float` to `np.floating` is deprecated. In future, it will be treated as `np.float64 == np.dtype(float).type`.\n",
      "  elif np.issubdtype(np.asarray(v).dtype, float):\n"
     ]
    },
    {
     "name": "stdout",
     "output_type": "stream",
     "text": [
      "msg 0 from 1\n"
     ]
    }
   ],
   "source": [
    "plt.figure()\n",
    "fitA = SMOOTH.plot_single_trial(etsamples,etmsgs,None,'VP3','el',10,4,smooth_stanmodel) # trial 1, block 1\n",
    "fitB = SMOOTH.plot_single_trial(etsamples,etmsgs,None,'VP3','pl',10,4,smooth_stanmodel) # trial 1, block 1"
   ]
  },
  {
   "cell_type": "markdown",
   "metadata": {},
   "source": [
    "Main Results follow. First latency, then estimated velocity"
   ]
  },
  {
   "cell_type": "markdown",
   "metadata": {},
   "source": [
    "## Results"
   ]
  },
  {
   "cell_type": "markdown",
   "metadata": {},
   "source": [
    "#### Initial Latency"
   ]
  },
  {
   "cell_type": "code",
   "execution_count": 41,
   "metadata": {},
   "outputs": [
    {
     "data": {
      "application/vnd.jupyter.widget-view+json": {
       "model_id": "c487f78aec5a44318db94e5c7085e296",
       "version_major": 2,
       "version_minor": 0
      },
      "text/plain": [
       "FigureCanvasNbAgg()"
      ]
     },
     "metadata": {},
     "output_type": "display_data"
    }
   ],
   "source": [
    "SMOOTH.plot_init_latency(smoothresult,option=\"\")"
   ]
  },
  {
   "cell_type": "code",
   "execution_count": 42,
   "metadata": {},
   "outputs": [
    {
     "data": {
      "application/vnd.jupyter.widget-view+json": {
       "model_id": "fae93811db0c4588b731c3984c7fb2b2",
       "version_major": 2,
       "version_minor": 0
      },
      "text/plain": [
       "FigureCanvasNbAgg()"
      ]
     },
     "metadata": {},
     "output_type": "display_data"
    }
   ],
   "source": [
    "SMOOTH.plot_init_latency(smoothresult,option=\"difference\")"
   ]
  },
  {
   "cell_type": "markdown",
   "metadata": {},
   "source": [
    "#### Catchup Saccade Amplitudes"
   ]
  },
  {
   "cell_type": "code",
   "execution_count": 43,
   "metadata": {},
   "outputs": [
    {
     "name": "stderr",
     "output_type": "stream",
     "text": [
      "/net/store/nbp/users/behinger/projects/etcomp/local/etcompvenv/lib/python3.5/site-packages/matplotlib/pyplot.py:522: RuntimeWarning: More than 20 figures have been opened. Figures created through the pyplot interface (`matplotlib.pyplot.figure`) are retained until explicitly closed and may consume too much memory. (To control this warning, see the rcParam `figure.max_open_warning`).\n",
      "  max_open_warning, RuntimeWarning)\n"
     ]
    },
    {
     "data": {
      "application/vnd.jupyter.widget-view+json": {
       "model_id": "b14cc2df945345d3a147b3654f9a246d",
       "version_major": 2,
       "version_minor": 0
      },
      "text/plain": [
       "FigureCanvasNbAgg()"
      ]
     },
     "metadata": {},
     "output_type": "display_data"
    },
    {
     "data": {
      "text/plain": [
       "<ggplot: (-9223363254670042631)>"
      ]
     },
     "execution_count": 43,
     "metadata": {},
     "output_type": "execute_result"
    }
   ],
   "source": [
    "SMOOTH.plot_catchup_amplitudes(smooth)+expand_limits(y = 0)"
   ]
  },
  {
   "cell_type": "markdown",
   "metadata": {},
   "source": [
    "# Microsaccades"
   ]
  },
  {
   "cell_type": "markdown",
   "metadata": {},
   "source": [
    "## Detect Microsaccades"
   ]
  },
  {
   "cell_type": "code",
   "execution_count": 44,
   "metadata": {},
   "outputs": [
    {
     "name": "stdout",
     "output_type": "stream",
     "text": [
      "2018-08-21 13:01:42 - MICROSACC                                                         - INFO     - subject==@subject&eyetracker==@eyetracker\n"
     ]
    },
    {
     "name": "stderr",
     "output_type": "stream",
     "text": [
      "/net/store/nbp/users/behinger/projects/etcomp/code/functions/et_helper.py:126: SettingWithCopyWarning: \n",
      "A value is trying to be set on a copy of a slice from a DataFrame\n",
      "\n",
      "See the caveats in the documentation: http://pandas.pydata.org/pandas-docs/stable/indexing.html#indexing-view-versus-copy\n",
      "  eventstart.loc[eventstart < mintime] = mintime\n",
      "/net/store/nbp/users/behinger/projects/etcomp/local/etcompvenv/lib/python3.5/site-packages/pandas/core/indexing.py:189: SettingWithCopyWarning: \n",
      "A value is trying to be set on a copy of a slice from a DataFrame\n",
      "\n",
      "See the caveats in the documentation: http://pandas.pydata.org/pandas-docs/stable/indexing.html#indexing-view-versus-copy\n",
      "  self._setitem_with_indexer(indexer, value)\n",
      "/net/store/nbp/users/behinger/projects/etcomp/code/functions/et_helper.py:127: SettingWithCopyWarning: \n",
      "A value is trying to be set on a copy of a slice from a DataFrame\n",
      "\n",
      "See the caveats in the documentation: http://pandas.pydata.org/pandas-docs/stable/indexing.html#indexing-view-versus-copy\n",
      "  eventstart.loc[eventstart > maxtime] = maxtime\n",
      "/net/store/nbp/users/behinger/projects/etcomp/code/functions/et_helper.py:128: SettingWithCopyWarning: \n",
      "A value is trying to be set on a copy of a slice from a DataFrame\n",
      "\n",
      "See the caveats in the documentation: http://pandas.pydata.org/pandas-docs/stable/indexing.html#indexing-view-versus-copy\n",
      "  eventend.loc[eventend  < mintime] = mintime\n",
      "/net/store/nbp/users/behinger/projects/etcomp/code/functions/et_helper.py:129: SettingWithCopyWarning: \n",
      "A value is trying to be set on a copy of a slice from a DataFrame\n",
      "\n",
      "See the caveats in the documentation: http://pandas.pydata.org/pandas-docs/stable/indexing.html#indexing-view-versus-copy\n",
      "  eventend.loc[eventend  > maxtime] = maxtime\n",
      "/net/store/nbp/users/behinger/projects/etcomp/local/etcompvenv/lib/python3.5/site-packages/pandas/core/indexing.py:362: SettingWithCopyWarning: \n",
      "A value is trying to be set on a copy of a slice from a DataFrame.\n",
      "Try using .loc[row_indexer,col_indexer] = value instead\n",
      "\n",
      "See the caveats in the documentation: http://pandas.pydata.org/pandas-docs/stable/indexing.html#indexing-view-versus-copy\n",
      "  self.obj[key] = _infer_fill_value(value)\n",
      "/net/store/nbp/users/behinger/projects/etcomp/local/etcompvenv/lib/python3.5/site-packages/pandas/core/indexing.py:543: SettingWithCopyWarning: \n",
      "A value is trying to be set on a copy of a slice from a DataFrame.\n",
      "Try using .loc[row_indexer,col_indexer] = value instead\n",
      "\n",
      "See the caveats in the documentation: http://pandas.pydata.org/pandas-docs/stable/indexing.html#indexing-view-versus-copy\n",
      "  self.obj[item] = s\n"
     ]
    },
    {
     "name": "stdout",
     "output_type": "stream",
     "text": [
      "2018-08-21 13:01:46 - functions.detect_saccades                                         - DEBUG    - eyetracker: el\n",
      "2018-08-21 13:01:46 - functions.detect_saccades                                         - DEBUG    - removing bad-samples for saccade detection\n",
      "2018-08-21 13:01:46 - functions.detect_saccades                                         - DEBUG    - Start.... Detecting Saccades\n",
      "2018-08-21 13:01:46 - functions.detect_saccades                                         - WARNING  - Std of velocity data [0.0229 0.0193]\n",
      "2018-08-21 13:01:47 - functions.detect_saccades                                         - WARNING  - Mean overthreshold values: 0.0199\n",
      "2018-08-21 13:01:47 - functions.detect_saccades                                         - WARNING  - Number of saccades detected: (110, 2)\n",
      "0\n",
      "2018-08-21 13:01:47 - functions.detect_saccades                                         - DEBUG    - Done... Detecting Saccades\n",
      "2018-08-21 13:01:47 - MICROSACC                                                         - INFO     - Removed 7 saccades larger than amplitude 2°\n",
      "2018-08-21 13:01:47 - functions.et_condition_df                                         - DEBUG    - Data already loaded, just applying transformations\n",
      "2018-08-21 13:01:47 - functions.et_condition_df                                         - CRITICAL - Eyetracker: el    Subject: VP1 \n",
      "2018-08-21 13:01:47 - MICROSACC                                                         - INFO     - subject==@subject&eyetracker==@eyetracker\n",
      "2018-08-21 13:01:52 - functions.detect_saccades                                         - DEBUG    - eyetracker: pl\n",
      "2018-08-21 13:01:52 - functions.detect_saccades                                         - DEBUG    - removing bad-samples for saccade detection\n",
      "2018-08-21 13:01:52 - functions.detect_saccades                                         - DEBUG    - Start.... Interpolating Samples\n",
      "2018-08-21 13:01:53 - functions.detect_saccades                                         - DEBUG    - Done.... Interpolating Samples\n",
      "2018-08-21 13:01:53 - functions.detect_saccades                                         - DEBUG    - Start.... Detecting Saccades\n",
      "2018-08-21 13:01:53 - functions.detect_saccades                                         - WARNING  - Std of velocity data [0.001 0.001]\n",
      "2018-08-21 13:01:58 - functions.detect_saccades                                         - WARNING  - Mean overthreshold values: 0.0333\n",
      "2018-08-21 13:01:58 - functions.detect_saccades                                         - WARNING  - Number of saccades detected: (705, 2)\n",
      "0\n"
     ]
    },
    {
     "name": "stderr",
     "output_type": "stream",
     "text": [
      "/net/store/nbp/users/behinger/projects/etcomp/local/etcompvenv/lib/python3.5/site-packages/numpy/core/fromnumeric.py:83: RuntimeWarning: invalid value encountered in reduce\n",
      "  return ufunc.reduce(obj, axis, dtype, out, **passkwargs)\n"
     ]
    },
    {
     "name": "stdout",
     "output_type": "stream",
     "text": [
      "2018-08-21 13:01:59 - functions.detect_saccades                                         - DEBUG    - Done... Detecting Saccades\n",
      "2018-08-21 13:01:59 - MICROSACC                                                         - INFO     - Removed 0 saccades larger than amplitude 2°\n",
      "2018-08-21 13:01:59 - functions.et_condition_df                                         - DEBUG    - Data already loaded, just applying transformations\n",
      "2018-08-21 13:01:59 - functions.et_condition_df                                         - CRITICAL - Eyetracker: pl    Subject: VP1 \n",
      "2018-08-21 13:02:00 - MICROSACC                                                         - INFO     - subject==@subject&eyetracker==@eyetracker\n",
      "2018-08-21 13:02:04 - functions.detect_saccades                                         - DEBUG    - eyetracker: el\n",
      "2018-08-21 13:02:04 - functions.detect_saccades                                         - DEBUG    - removing bad-samples for saccade detection\n",
      "2018-08-21 13:02:04 - functions.detect_saccades                                         - DEBUG    - Start.... Detecting Saccades\n",
      "2018-08-21 13:02:04 - functions.detect_saccades                                         - WARNING  - Std of velocity data [0.0152 0.0171]\n",
      "2018-08-21 13:02:05 - functions.detect_saccades                                         - WARNING  - Mean overthreshold values: 0.0125\n",
      "2018-08-21 13:02:05 - functions.detect_saccades                                         - WARNING  - Number of saccades detected: (65, 2)\n",
      "0\n",
      "2018-08-21 13:02:05 - functions.detect_saccades                                         - DEBUG    - Done... Detecting Saccades\n",
      "2018-08-21 13:02:05 - MICROSACC                                                         - INFO     - Removed 0 saccades larger than amplitude 2°\n",
      "2018-08-21 13:02:05 - functions.et_condition_df                                         - DEBUG    - Data already loaded, just applying transformations\n",
      "2018-08-21 13:02:05 - functions.et_condition_df                                         - CRITICAL - Eyetracker: el    Subject: VP2 \n",
      "2018-08-21 13:02:05 - MICROSACC                                                         - INFO     - subject==@subject&eyetracker==@eyetracker\n",
      "2018-08-21 13:02:09 - functions.detect_saccades                                         - DEBUG    - eyetracker: pl\n",
      "2018-08-21 13:02:09 - functions.detect_saccades                                         - DEBUG    - removing bad-samples for saccade detection\n",
      "2018-08-21 13:02:09 - functions.detect_saccades                                         - DEBUG    - Start.... Interpolating Samples\n",
      "2018-08-21 13:02:11 - functions.detect_saccades                                         - DEBUG    - Done.... Interpolating Samples\n",
      "2018-08-21 13:02:11 - functions.detect_saccades                                         - DEBUG    - Start.... Detecting Saccades\n",
      "2018-08-21 13:02:11 - functions.detect_saccades                                         - WARNING  - Std of velocity data [0.0009 0.0009]\n",
      "2018-08-21 13:02:16 - functions.detect_saccades                                         - WARNING  - Mean overthreshold values: 0.0388\n",
      "2018-08-21 13:02:16 - functions.detect_saccades                                         - WARNING  - Number of saccades detected: (731, 2)\n",
      "0\n",
      "2018-08-21 13:02:17 - functions.detect_saccades                                         - DEBUG    - Done... Detecting Saccades\n",
      "2018-08-21 13:02:17 - MICROSACC                                                         - INFO     - Removed 2 saccades larger than amplitude 2°\n",
      "2018-08-21 13:02:17 - functions.et_condition_df                                         - DEBUG    - Data already loaded, just applying transformations\n",
      "2018-08-21 13:02:17 - functions.et_condition_df                                         - CRITICAL - Eyetracker: pl    Subject: VP2 \n",
      "2018-08-21 13:02:17 - MICROSACC                                                         - INFO     - subject==@subject&eyetracker==@eyetracker\n",
      "2018-08-21 13:02:22 - functions.detect_saccades                                         - DEBUG    - eyetracker: el\n",
      "2018-08-21 13:02:22 - functions.detect_saccades                                         - DEBUG    - removing bad-samples for saccade detection\n",
      "2018-08-21 13:02:22 - functions.detect_saccades                                         - DEBUG    - Start.... Detecting Saccades\n",
      "2018-08-21 13:02:22 - functions.detect_saccades                                         - WARNING  - Std of velocity data [0.0103 0.0096]\n",
      "2018-08-21 13:02:22 - functions.detect_saccades                                         - WARNING  - Mean overthreshold values: 0.0133\n",
      "2018-08-21 13:02:22 - functions.detect_saccades                                         - WARNING  - Number of saccades detected: (76, 2)\n",
      "0\n",
      "2018-08-21 13:02:22 - functions.detect_saccades                                         - DEBUG    - Done... Detecting Saccades\n",
      "2018-08-21 13:02:22 - MICROSACC                                                         - INFO     - Removed 1 saccades larger than amplitude 2°\n",
      "2018-08-21 13:02:22 - functions.et_condition_df                                         - DEBUG    - Data already loaded, just applying transformations\n",
      "2018-08-21 13:02:22 - functions.et_condition_df                                         - CRITICAL - Eyetracker: el    Subject: VP3 \n",
      "2018-08-21 13:02:22 - MICROSACC                                                         - INFO     - subject==@subject&eyetracker==@eyetracker\n",
      "2018-08-21 13:02:27 - functions.detect_saccades                                         - DEBUG    - eyetracker: pl\n",
      "2018-08-21 13:02:27 - functions.detect_saccades                                         - DEBUG    - removing bad-samples for saccade detection\n",
      "2018-08-21 13:02:27 - functions.detect_saccades                                         - DEBUG    - Start.... Interpolating Samples\n",
      "2018-08-21 13:02:29 - functions.detect_saccades                                         - DEBUG    - Done.... Interpolating Samples\n",
      "2018-08-21 13:02:29 - functions.detect_saccades                                         - DEBUG    - Start.... Detecting Saccades\n",
      "2018-08-21 13:02:29 - functions.detect_saccades                                         - WARNING  - Std of velocity data [0.0011 0.0008]\n",
      "2018-08-21 13:02:34 - functions.detect_saccades                                         - WARNING  - Mean overthreshold values: 0.0324\n",
      "2018-08-21 13:02:34 - functions.detect_saccades                                         - WARNING  - Number of saccades detected: (632, 2)\n",
      "0\n",
      "2018-08-21 13:02:35 - functions.detect_saccades                                         - DEBUG    - Done... Detecting Saccades\n",
      "2018-08-21 13:02:35 - MICROSACC                                                         - INFO     - Removed 1 saccades larger than amplitude 2°\n",
      "2018-08-21 13:02:35 - functions.et_condition_df                                         - DEBUG    - Data already loaded, just applying transformations\n",
      "2018-08-21 13:02:35 - functions.et_condition_df                                         - CRITICAL - Eyetracker: pl    Subject: VP3 \n",
      "2018-08-21 13:02:36 - MICROSACC                                                         - INFO     - subject==@subject&eyetracker==@eyetracker\n",
      "2018-08-21 13:02:40 - functions.detect_saccades                                         - DEBUG    - eyetracker: el\n",
      "2018-08-21 13:02:40 - functions.detect_saccades                                         - DEBUG    - removing bad-samples for saccade detection\n",
      "2018-08-21 13:02:40 - functions.detect_saccades                                         - DEBUG    - Start.... Detecting Saccades\n",
      "2018-08-21 13:02:40 - functions.detect_saccades                                         - WARNING  - Std of velocity data [0.0147 0.0125]\n",
      "2018-08-21 13:02:41 - functions.detect_saccades                                         - WARNING  - Mean overthreshold values: 0.032\n",
      "2018-08-21 13:02:41 - functions.detect_saccades                                         - WARNING  - Number of saccades detected: (222, 2)\n",
      "0\n",
      "2018-08-21 13:02:41 - functions.detect_saccades                                         - DEBUG    - Done... Detecting Saccades\n",
      "2018-08-21 13:02:41 - MICROSACC                                                         - INFO     - Removed 1 saccades larger than amplitude 2°\n",
      "2018-08-21 13:02:41 - functions.et_condition_df                                         - DEBUG    - Data already loaded, just applying transformations\n",
      "2018-08-21 13:02:41 - functions.et_condition_df                                         - CRITICAL - Eyetracker: el    Subject: VP4 \n",
      "2018-08-21 13:02:41 - MICROSACC                                                         - INFO     - subject==@subject&eyetracker==@eyetracker\n",
      "2018-08-21 13:02:45 - functions.detect_saccades                                         - DEBUG    - eyetracker: pl\n",
      "2018-08-21 13:02:45 - functions.detect_saccades                                         - DEBUG    - removing bad-samples for saccade detection\n",
      "2018-08-21 13:02:45 - functions.detect_saccades                                         - DEBUG    - Start.... Interpolating Samples\n",
      "2018-08-21 13:02:47 - functions.detect_saccades                                         - DEBUG    - Done.... Interpolating Samples\n",
      "2018-08-21 13:02:47 - functions.detect_saccades                                         - DEBUG    - Start.... Detecting Saccades\n",
      "2018-08-21 13:02:47 - functions.detect_saccades                                         - WARNING  - Std of velocity data [0.0015 0.0011]\n",
      "2018-08-21 13:02:51 - functions.detect_saccades                                         - WARNING  - Mean overthreshold values: 0.0402\n",
      "2018-08-21 13:02:52 - functions.detect_saccades                                         - WARNING  - Number of saccades detected: (1308, 2)\n",
      "0\n",
      "1000\n",
      "2018-08-21 13:02:54 - functions.detect_saccades                                         - DEBUG    - Done... Detecting Saccades\n",
      "2018-08-21 13:02:54 - MICROSACC                                                         - INFO     - Removed 4 saccades larger than amplitude 2°\n",
      "2018-08-21 13:02:54 - functions.et_condition_df                                         - DEBUG    - Data already loaded, just applying transformations\n",
      "2018-08-21 13:02:54 - functions.et_condition_df                                         - CRITICAL - Eyetracker: pl    Subject: VP4 \n",
      "2018-08-21 13:02:54 - MICROSACC                                                         - INFO     - subject==@subject&eyetracker==@eyetracker\n",
      "2018-08-21 13:02:58 - functions.detect_saccades                                         - DEBUG    - eyetracker: el\n",
      "2018-08-21 13:02:58 - functions.detect_saccades                                         - DEBUG    - removing bad-samples for saccade detection\n",
      "2018-08-21 13:02:58 - functions.detect_saccades                                         - DEBUG    - Start.... Detecting Saccades\n",
      "2018-08-21 13:02:58 - functions.detect_saccades                                         - WARNING  - Std of velocity data [0.0108 0.01  ]\n",
      "2018-08-21 13:02:59 - functions.detect_saccades                                         - WARNING  - Mean overthreshold values: 0.0222\n",
      "2018-08-21 13:02:59 - functions.detect_saccades                                         - WARNING  - Number of saccades detected: (152, 2)\n",
      "0\n",
      "2018-08-21 13:02:59 - functions.detect_saccades                                         - DEBUG    - Done... Detecting Saccades\n",
      "2018-08-21 13:02:59 - MICROSACC                                                         - INFO     - Removed 5 saccades larger than amplitude 2°\n",
      "2018-08-21 13:02:59 - functions.et_condition_df                                         - DEBUG    - Data already loaded, just applying transformations\n",
      "2018-08-21 13:02:59 - functions.et_condition_df                                         - CRITICAL - Eyetracker: el    Subject: VP11 \n",
      "2018-08-21 13:02:59 - MICROSACC                                                         - INFO     - subject==@subject&eyetracker==@eyetracker\n",
      "2018-08-21 13:03:03 - functions.detect_saccades                                         - DEBUG    - eyetracker: pl\n",
      "2018-08-21 13:03:03 - functions.detect_saccades                                         - DEBUG    - removing bad-samples for saccade detection\n",
      "2018-08-21 13:03:03 - functions.detect_saccades                                         - DEBUG    - Start.... Interpolating Samples\n",
      "2018-08-21 13:03:05 - functions.detect_saccades                                         - DEBUG    - Done.... Interpolating Samples\n",
      "2018-08-21 13:03:05 - functions.detect_saccades                                         - DEBUG    - Start.... Detecting Saccades\n",
      "2018-08-21 13:03:05 - functions.detect_saccades                                         - WARNING  - Std of velocity data [0.0038 0.0041]\n",
      "2018-08-21 13:03:08 - functions.detect_saccades                                         - WARNING  - Mean overthreshold values: 0.0514\n",
      "2018-08-21 13:03:09 - functions.detect_saccades                                         - WARNING  - Number of saccades detected: (1986, 2)\n",
      "0\n",
      "1000\n",
      "2018-08-21 13:03:11 - functions.detect_saccades                                         - DEBUG    - Done... Detecting Saccades\n",
      "2018-08-21 13:03:11 - MICROSACC                                                         - INFO     - Removed 1 saccades larger than amplitude 2°\n",
      "2018-08-21 13:03:11 - functions.et_condition_df                                         - DEBUG    - Data already loaded, just applying transformations\n",
      "2018-08-21 13:03:11 - functions.et_condition_df                                         - CRITICAL - Eyetracker: pl    Subject: VP11 \n",
      "2018-08-21 13:03:11 - MICROSACC                                                         - INFO     - subject==@subject&eyetracker==@eyetracker\n",
      "2018-08-21 13:03:16 - functions.detect_saccades                                         - DEBUG    - eyetracker: el\n",
      "2018-08-21 13:03:16 - functions.detect_saccades                                         - DEBUG    - removing bad-samples for saccade detection\n",
      "2018-08-21 13:03:16 - functions.detect_saccades                                         - DEBUG    - Start.... Detecting Saccades\n",
      "2018-08-21 13:03:16 - functions.detect_saccades                                         - WARNING  - Std of velocity data [0.0102 0.0093]\n",
      "2018-08-21 13:03:16 - functions.detect_saccades                                         - WARNING  - Mean overthreshold values: 0.0319\n",
      "2018-08-21 13:03:16 - functions.detect_saccades                                         - WARNING  - Number of saccades detected: (235, 2)\n",
      "0\n",
      "2018-08-21 13:03:17 - functions.detect_saccades                                         - DEBUG    - Done... Detecting Saccades\n",
      "2018-08-21 13:03:17 - MICROSACC                                                         - INFO     - Removed 3 saccades larger than amplitude 2°\n",
      "2018-08-21 13:03:17 - functions.et_condition_df                                         - DEBUG    - Data already loaded, just applying transformations\n",
      "2018-08-21 13:03:17 - functions.et_condition_df                                         - CRITICAL - Eyetracker: el    Subject: VP12 \n",
      "2018-08-21 13:03:17 - MICROSACC                                                         - INFO     - subject==@subject&eyetracker==@eyetracker\n",
      "2018-08-21 13:03:21 - functions.detect_saccades                                         - DEBUG    - eyetracker: pl\n",
      "2018-08-21 13:03:21 - functions.detect_saccades                                         - DEBUG    - removing bad-samples for saccade detection\n",
      "2018-08-21 13:03:21 - functions.detect_saccades                                         - DEBUG    - Start.... Interpolating Samples\n",
      "2018-08-21 13:03:23 - functions.detect_saccades                                         - DEBUG    - Done.... Interpolating Samples\n",
      "2018-08-21 13:03:23 - functions.detect_saccades                                         - DEBUG    - Start.... Detecting Saccades\n",
      "2018-08-21 13:03:23 - functions.detect_saccades                                         - WARNING  - Std of velocity data [0.0025 0.0014]\n",
      "2018-08-21 13:03:27 - functions.detect_saccades                                         - WARNING  - Mean overthreshold values: 0.0416\n",
      "2018-08-21 13:03:27 - functions.detect_saccades                                         - WARNING  - Number of saccades detected: (1271, 2)\n",
      "0\n",
      "1000\n",
      "2018-08-21 13:03:29 - functions.detect_saccades                                         - DEBUG    - Done... Detecting Saccades\n",
      "2018-08-21 13:03:29 - MICROSACC                                                         - INFO     - Removed 11 saccades larger than amplitude 2°\n",
      "2018-08-21 13:03:29 - functions.et_condition_df                                         - DEBUG    - Data already loaded, just applying transformations\n",
      "2018-08-21 13:03:29 - functions.et_condition_df                                         - CRITICAL - Eyetracker: pl    Subject: VP12 \n",
      "2018-08-21 13:03:29 - MICROSACC                                                         - INFO     - subject==@subject&eyetracker==@eyetracker\n",
      "2018-08-21 13:03:34 - functions.detect_saccades                                         - DEBUG    - eyetracker: el\n",
      "2018-08-21 13:03:34 - functions.detect_saccades                                         - DEBUG    - removing bad-samples for saccade detection\n",
      "2018-08-21 13:03:34 - functions.detect_saccades                                         - DEBUG    - Start.... Detecting Saccades\n",
      "2018-08-21 13:03:34 - functions.detect_saccades                                         - WARNING  - Std of velocity data [0.0152 0.0143]\n",
      "2018-08-21 13:03:35 - functions.detect_saccades                                         - WARNING  - Mean overthreshold values: 0.0307\n",
      "2018-08-21 13:03:35 - functions.detect_saccades                                         - WARNING  - Number of saccades detected: (217, 2)\n",
      "0\n",
      "2018-08-21 13:03:35 - functions.detect_saccades                                         - DEBUG    - Done... Detecting Saccades\n",
      "2018-08-21 13:03:35 - MICROSACC                                                         - INFO     - Removed 6 saccades larger than amplitude 2°\n",
      "2018-08-21 13:03:35 - functions.et_condition_df                                         - DEBUG    - Data already loaded, just applying transformations\n",
      "2018-08-21 13:03:35 - functions.et_condition_df                                         - CRITICAL - Eyetracker: el    Subject: VP14 \n",
      "2018-08-21 13:03:35 - MICROSACC                                                         - INFO     - subject==@subject&eyetracker==@eyetracker\n",
      "2018-08-21 13:03:39 - functions.detect_saccades                                         - DEBUG    - eyetracker: pl\n",
      "2018-08-21 13:03:39 - functions.detect_saccades                                         - DEBUG    - removing bad-samples for saccade detection\n",
      "2018-08-21 13:03:39 - functions.detect_saccades                                         - DEBUG    - Start.... Interpolating Samples\n",
      "2018-08-21 13:03:41 - functions.detect_saccades                                         - DEBUG    - Done.... Interpolating Samples\n",
      "2018-08-21 13:03:41 - functions.detect_saccades                                         - DEBUG    - Start.... Detecting Saccades\n",
      "2018-08-21 13:03:41 - functions.detect_saccades                                         - WARNING  - Std of velocity data [0.0016 0.0015]\n",
      "2018-08-21 13:03:46 - functions.detect_saccades                                         - WARNING  - Mean overthreshold values: 0.0364\n",
      "2018-08-21 13:03:46 - functions.detect_saccades                                         - WARNING  - Number of saccades detected: (1221, 2)\n",
      "0\n",
      "1000\n",
      "2018-08-21 13:03:48 - functions.detect_saccades                                         - DEBUG    - Done... Detecting Saccades\n",
      "2018-08-21 13:03:48 - MICROSACC                                                         - INFO     - Removed 4 saccades larger than amplitude 2°\n",
      "2018-08-21 13:03:48 - functions.et_condition_df                                         - DEBUG    - Data already loaded, just applying transformations\n",
      "2018-08-21 13:03:48 - functions.et_condition_df                                         - CRITICAL - Eyetracker: pl    Subject: VP14 \n",
      "2018-08-21 13:03:48 - MICROSACC                                                         - INFO     - subject==@subject&eyetracker==@eyetracker\n",
      "2018-08-21 13:03:53 - functions.detect_saccades                                         - DEBUG    - eyetracker: el\n",
      "2018-08-21 13:03:53 - functions.detect_saccades                                         - DEBUG    - removing bad-samples for saccade detection\n",
      "2018-08-21 13:03:53 - functions.detect_saccades                                         - DEBUG    - Start.... Detecting Saccades\n",
      "2018-08-21 13:03:53 - functions.detect_saccades                                         - WARNING  - Std of velocity data [0.0112 0.0108]\n",
      "2018-08-21 13:03:53 - functions.detect_saccades                                         - WARNING  - Mean overthreshold values: 0.0205\n",
      "2018-08-21 13:03:53 - functions.detect_saccades                                         - WARNING  - Number of saccades detected: (114, 2)\n",
      "0\n",
      "2018-08-21 13:03:53 - functions.detect_saccades                                         - DEBUG    - Done... Detecting Saccades\n",
      "2018-08-21 13:03:53 - MICROSACC                                                         - INFO     - Removed 0 saccades larger than amplitude 2°\n",
      "2018-08-21 13:03:53 - functions.et_condition_df                                         - DEBUG    - Data already loaded, just applying transformations\n",
      "2018-08-21 13:03:53 - functions.et_condition_df                                         - CRITICAL - Eyetracker: el    Subject: VP15 \n",
      "2018-08-21 13:03:53 - MICROSACC                                                         - INFO     - subject==@subject&eyetracker==@eyetracker\n",
      "2018-08-21 13:03:58 - functions.detect_saccades                                         - DEBUG    - eyetracker: pl\n",
      "2018-08-21 13:03:58 - functions.detect_saccades                                         - DEBUG    - removing bad-samples for saccade detection\n",
      "2018-08-21 13:03:58 - functions.detect_saccades                                         - DEBUG    - Start.... Interpolating Samples\n",
      "2018-08-21 13:04:00 - functions.detect_saccades                                         - DEBUG    - Done.... Interpolating Samples\n",
      "2018-08-21 13:04:00 - functions.detect_saccades                                         - DEBUG    - Start.... Detecting Saccades\n",
      "2018-08-21 13:04:00 - functions.detect_saccades                                         - WARNING  - Std of velocity data [0.0011 0.001 ]\n",
      "2018-08-21 13:04:05 - functions.detect_saccades                                         - WARNING  - Mean overthreshold values: 0.0348\n",
      "2018-08-21 13:04:05 - functions.detect_saccades                                         - WARNING  - Number of saccades detected: (933, 2)\n",
      "0\n",
      "2018-08-21 13:04:06 - functions.detect_saccades                                         - DEBUG    - Done... Detecting Saccades\n",
      "2018-08-21 13:04:06 - MICROSACC                                                         - INFO     - Removed 4 saccades larger than amplitude 2°\n",
      "2018-08-21 13:04:06 - functions.et_condition_df                                         - DEBUG    - Data already loaded, just applying transformations\n",
      "2018-08-21 13:04:06 - functions.et_condition_df                                         - CRITICAL - Eyetracker: pl    Subject: VP15 \n",
      "2018-08-21 13:04:06 - MICROSACC                                                         - INFO     - subject==@subject&eyetracker==@eyetracker\n",
      "2018-08-21 13:04:11 - functions.detect_saccades                                         - DEBUG    - eyetracker: el\n",
      "2018-08-21 13:04:11 - functions.detect_saccades                                         - DEBUG    - removing bad-samples for saccade detection\n",
      "2018-08-21 13:04:11 - functions.detect_saccades                                         - DEBUG    - Start.... Detecting Saccades\n",
      "2018-08-21 13:04:11 - functions.detect_saccades                                         - WARNING  - Std of velocity data [0.009  0.0107]\n",
      "2018-08-21 13:04:12 - functions.detect_saccades                                         - WARNING  - Mean overthreshold values: 0.0169\n",
      "2018-08-21 13:04:12 - functions.detect_saccades                                         - WARNING  - Number of saccades detected: (105, 2)\n",
      "0\n",
      "2018-08-21 13:04:12 - functions.detect_saccades                                         - DEBUG    - Done... Detecting Saccades\n",
      "2018-08-21 13:04:12 - MICROSACC                                                         - INFO     - Removed 0 saccades larger than amplitude 2°\n",
      "2018-08-21 13:04:12 - functions.et_condition_df                                         - DEBUG    - Data already loaded, just applying transformations\n",
      "2018-08-21 13:04:12 - functions.et_condition_df                                         - CRITICAL - Eyetracker: el    Subject: VP19 \n",
      "2018-08-21 13:04:12 - MICROSACC                                                         - INFO     - subject==@subject&eyetracker==@eyetracker\n",
      "2018-08-21 13:04:16 - functions.detect_saccades                                         - DEBUG    - eyetracker: pl\n",
      "2018-08-21 13:04:16 - functions.detect_saccades                                         - DEBUG    - removing bad-samples for saccade detection\n",
      "2018-08-21 13:04:16 - functions.detect_saccades                                         - DEBUG    - Start.... Interpolating Samples\n",
      "2018-08-21 13:04:18 - functions.detect_saccades                                         - DEBUG    - Done.... Interpolating Samples\n",
      "2018-08-21 13:04:18 - functions.detect_saccades                                         - DEBUG    - Start.... Detecting Saccades\n",
      "2018-08-21 13:04:18 - functions.detect_saccades                                         - WARNING  - Std of velocity data [0.0015 0.0009]\n",
      "2018-08-21 13:04:24 - functions.detect_saccades                                         - WARNING  - Mean overthreshold values: 0.0323\n",
      "2018-08-21 13:04:24 - functions.detect_saccades                                         - WARNING  - Number of saccades detected: (643, 2)\n",
      "0\n",
      "2018-08-21 13:04:25 - functions.detect_saccades                                         - DEBUG    - Done... Detecting Saccades\n",
      "2018-08-21 13:04:25 - MICROSACC                                                         - INFO     - Removed 2 saccades larger than amplitude 2°\n",
      "2018-08-21 13:04:25 - functions.et_condition_df                                         - DEBUG    - Data already loaded, just applying transformations\n",
      "2018-08-21 13:04:25 - functions.et_condition_df                                         - CRITICAL - Eyetracker: pl    Subject: VP19 \n",
      "2018-08-21 13:04:25 - MICROSACC                                                         - INFO     - subject==@subject&eyetracker==@eyetracker\n",
      "2018-08-21 13:04:30 - functions.detect_saccades                                         - DEBUG    - eyetracker: el\n",
      "2018-08-21 13:04:30 - functions.detect_saccades                                         - DEBUG    - removing bad-samples for saccade detection\n",
      "2018-08-21 13:04:30 - functions.detect_saccades                                         - DEBUG    - Start.... Detecting Saccades\n",
      "2018-08-21 13:04:30 - functions.detect_saccades                                         - WARNING  - Std of velocity data [0.0114 0.011 ]\n",
      "2018-08-21 13:04:30 - functions.detect_saccades                                         - WARNING  - Mean overthreshold values: 0.0124\n",
      "2018-08-21 13:04:30 - functions.detect_saccades                                         - WARNING  - Number of saccades detected: (84, 2)\n",
      "0\n",
      "2018-08-21 13:04:30 - functions.detect_saccades                                         - DEBUG    - Done... Detecting Saccades\n",
      "2018-08-21 13:04:30 - MICROSACC                                                         - INFO     - Removed 7 saccades larger than amplitude 2°\n",
      "2018-08-21 13:04:30 - functions.et_condition_df                                         - DEBUG    - Data already loaded, just applying transformations\n",
      "2018-08-21 13:04:30 - functions.et_condition_df                                         - CRITICAL - Eyetracker: el    Subject: VP20 \n",
      "2018-08-21 13:04:30 - MICROSACC                                                         - INFO     - subject==@subject&eyetracker==@eyetracker\n",
      "2018-08-21 13:04:35 - functions.detect_saccades                                         - DEBUG    - eyetracker: pl\n",
      "2018-08-21 13:04:35 - functions.detect_saccades                                         - DEBUG    - removing bad-samples for saccade detection\n",
      "2018-08-21 13:04:35 - functions.detect_saccades                                         - DEBUG    - Start.... Interpolating Samples\n",
      "2018-08-21 13:04:37 - functions.detect_saccades                                         - DEBUG    - Done.... Interpolating Samples\n",
      "2018-08-21 13:04:37 - functions.detect_saccades                                         - DEBUG    - Start.... Detecting Saccades\n",
      "2018-08-21 13:04:37 - functions.detect_saccades                                         - WARNING  - Std of velocity data [0.0019 0.001 ]\n",
      "2018-08-21 13:04:42 - functions.detect_saccades                                         - WARNING  - Mean overthreshold values: 0.0362\n",
      "2018-08-21 13:04:42 - functions.detect_saccades                                         - WARNING  - Number of saccades detected: (1044, 2)\n",
      "0\n",
      "1000\n",
      "2018-08-21 13:04:43 - functions.detect_saccades                                         - DEBUG    - Done... Detecting Saccades\n",
      "2018-08-21 13:04:43 - MICROSACC                                                         - INFO     - Removed 1 saccades larger than amplitude 2°\n",
      "2018-08-21 13:04:43 - functions.et_condition_df                                         - DEBUG    - Data already loaded, just applying transformations\n",
      "2018-08-21 13:04:43 - functions.et_condition_df                                         - CRITICAL - Eyetracker: pl    Subject: VP20 \n",
      "2018-08-21 13:04:44 - MICROSACC                                                         - INFO     - subject==@subject&eyetracker==@eyetracker\n",
      "2018-08-21 13:04:48 - functions.detect_saccades                                         - DEBUG    - eyetracker: el\n",
      "2018-08-21 13:04:48 - functions.detect_saccades                                         - DEBUG    - removing bad-samples for saccade detection\n",
      "2018-08-21 13:04:48 - functions.detect_saccades                                         - DEBUG    - Start.... Detecting Saccades\n",
      "2018-08-21 13:04:48 - functions.detect_saccades                                         - WARNING  - Std of velocity data [0.0192 0.0232]\n",
      "2018-08-21 13:04:48 - functions.detect_saccades                                         - WARNING  - Mean overthreshold values: 0.0169\n",
      "2018-08-21 13:04:48 - functions.detect_saccades                                         - WARNING  - Number of saccades detected: (33, 2)\n",
      "0\n",
      "2018-08-21 13:04:48 - functions.detect_saccades                                         - DEBUG    - Done... Detecting Saccades\n",
      "2018-08-21 13:04:48 - MICROSACC                                                         - INFO     - Removed 3 saccades larger than amplitude 2°\n",
      "2018-08-21 13:04:48 - functions.et_condition_df                                         - DEBUG    - Data already loaded, just applying transformations\n",
      "2018-08-21 13:04:48 - functions.et_condition_df                                         - CRITICAL - Eyetracker: el    Subject: VP22 \n",
      "2018-08-21 13:04:48 - MICROSACC                                                         - INFO     - subject==@subject&eyetracker==@eyetracker\n",
      "2018-08-21 13:04:53 - functions.detect_saccades                                         - DEBUG    - eyetracker: pl\n",
      "2018-08-21 13:04:53 - functions.detect_saccades                                         - DEBUG    - removing bad-samples for saccade detection\n",
      "2018-08-21 13:04:53 - functions.detect_saccades                                         - DEBUG    - Start.... Interpolating Samples\n",
      "2018-08-21 13:04:54 - functions.detect_saccades                                         - DEBUG    - Done.... Interpolating Samples\n",
      "2018-08-21 13:04:54 - functions.detect_saccades                                         - DEBUG    - Start.... Detecting Saccades\n",
      "2018-08-21 13:04:54 - functions.detect_saccades                                         - WARNING  - Std of velocity data [0.0023 0.002 ]\n",
      "2018-08-21 13:04:59 - functions.detect_saccades                                         - WARNING  - Mean overthreshold values: 0.0368\n",
      "2018-08-21 13:04:59 - functions.detect_saccades                                         - WARNING  - Number of saccades detected: (1114, 2)\n",
      "0\n",
      "1000\n",
      "2018-08-21 13:05:01 - functions.detect_saccades                                         - DEBUG    - Done... Detecting Saccades\n",
      "2018-08-21 13:05:01 - MICROSACC                                                         - INFO     - Removed 12 saccades larger than amplitude 2°\n",
      "2018-08-21 13:05:01 - functions.et_condition_df                                         - DEBUG    - Data already loaded, just applying transformations\n",
      "2018-08-21 13:05:01 - functions.et_condition_df                                         - CRITICAL - Eyetracker: pl    Subject: VP22 \n",
      "2018-08-21 13:05:01 - MICROSACC                                                         - INFO     - subject==@subject&eyetracker==@eyetracker\n",
      "2018-08-21 13:05:05 - functions.detect_saccades                                         - DEBUG    - eyetracker: el\n",
      "2018-08-21 13:05:05 - functions.detect_saccades                                         - DEBUG    - removing bad-samples for saccade detection\n",
      "2018-08-21 13:05:05 - functions.detect_saccades                                         - DEBUG    - Start.... Detecting Saccades\n",
      "2018-08-21 13:05:05 - functions.detect_saccades                                         - WARNING  - Std of velocity data [0.031  0.0409]\n",
      "2018-08-21 13:05:06 - functions.detect_saccades                                         - WARNING  - Mean overthreshold values: 0.0083\n",
      "2018-08-21 13:05:06 - functions.detect_saccades                                         - WARNING  - Number of saccades detected: (4, 2)\n",
      "0\n",
      "2018-08-21 13:05:06 - functions.detect_saccades                                         - DEBUG    - Done... Detecting Saccades\n",
      "2018-08-21 13:05:06 - MICROSACC                                                         - INFO     - Removed 0 saccades larger than amplitude 2°\n",
      "2018-08-21 13:05:06 - functions.et_condition_df                                         - DEBUG    - Data already loaded, just applying transformations\n",
      "2018-08-21 13:05:06 - functions.et_condition_df                                         - CRITICAL - Eyetracker: el    Subject: VP23 \n",
      "2018-08-21 13:05:06 - MICROSACC                                                         - INFO     - subject==@subject&eyetracker==@eyetracker\n",
      "2018-08-21 13:05:10 - functions.detect_saccades                                         - DEBUG    - eyetracker: pl\n",
      "2018-08-21 13:05:10 - functions.detect_saccades                                         - DEBUG    - removing bad-samples for saccade detection\n",
      "2018-08-21 13:05:10 - functions.detect_saccades                                         - DEBUG    - Start.... Interpolating Samples\n",
      "2018-08-21 13:05:12 - functions.detect_saccades                                         - DEBUG    - Done.... Interpolating Samples\n",
      "2018-08-21 13:05:12 - functions.detect_saccades                                         - DEBUG    - Start.... Detecting Saccades\n",
      "2018-08-21 13:05:12 - functions.detect_saccades                                         - WARNING  - Std of velocity data [0.0019 0.0027]\n",
      "2018-08-21 13:05:16 - functions.detect_saccades                                         - WARNING  - Mean overthreshold values: 0.0374\n",
      "2018-08-21 13:05:16 - functions.detect_saccades                                         - WARNING  - Number of saccades detected: (467, 2)\n",
      "0\n",
      "2018-08-21 13:05:16 - functions.detect_saccades                                         - DEBUG    - Done... Detecting Saccades\n",
      "2018-08-21 13:05:16 - MICROSACC                                                         - INFO     - Removed 0 saccades larger than amplitude 2°\n",
      "2018-08-21 13:05:16 - functions.et_condition_df                                         - DEBUG    - Data already loaded, just applying transformations\n",
      "2018-08-21 13:05:16 - functions.et_condition_df                                         - CRITICAL - Eyetracker: pl    Subject: VP23 \n",
      "2018-08-21 13:05:16 - MICROSACC                                                         - INFO     - subject==@subject&eyetracker==@eyetracker\n",
      "2018-08-21 13:05:21 - functions.detect_saccades                                         - DEBUG    - eyetracker: el\n",
      "2018-08-21 13:05:21 - functions.detect_saccades                                         - DEBUG    - removing bad-samples for saccade detection\n",
      "2018-08-21 13:05:21 - functions.detect_saccades                                         - DEBUG    - Start.... Detecting Saccades\n",
      "2018-08-21 13:05:21 - functions.detect_saccades                                         - WARNING  - Std of velocity data [0.0194 0.0181]\n",
      "2018-08-21 13:05:21 - functions.detect_saccades                                         - WARNING  - Mean overthreshold values: 0.02\n",
      "2018-08-21 13:05:21 - functions.detect_saccades                                         - WARNING  - Number of saccades detected: (37, 2)\n",
      "0\n",
      "2018-08-21 13:05:21 - functions.detect_saccades                                         - DEBUG    - Done... Detecting Saccades\n",
      "2018-08-21 13:05:21 - MICROSACC                                                         - INFO     - Removed 0 saccades larger than amplitude 2°\n",
      "2018-08-21 13:05:21 - functions.et_condition_df                                         - DEBUG    - Data already loaded, just applying transformations\n",
      "2018-08-21 13:05:21 - functions.et_condition_df                                         - CRITICAL - Eyetracker: el    Subject: VP24 \n",
      "2018-08-21 13:05:21 - MICROSACC                                                         - INFO     - subject==@subject&eyetracker==@eyetracker\n",
      "2018-08-21 13:05:26 - functions.detect_saccades                                         - DEBUG    - eyetracker: pl\n",
      "2018-08-21 13:05:26 - functions.detect_saccades                                         - DEBUG    - removing bad-samples for saccade detection\n",
      "2018-08-21 13:05:26 - functions.detect_saccades                                         - DEBUG    - Start.... Interpolating Samples\n",
      "2018-08-21 13:05:28 - functions.detect_saccades                                         - DEBUG    - Done.... Interpolating Samples\n",
      "2018-08-21 13:05:28 - functions.detect_saccades                                         - DEBUG    - Start.... Detecting Saccades\n",
      "2018-08-21 13:05:28 - functions.detect_saccades                                         - WARNING  - Std of velocity data [0.002  0.0024]\n",
      "2018-08-21 13:05:33 - functions.detect_saccades                                         - WARNING  - Mean overthreshold values: 0.0357\n",
      "2018-08-21 13:05:33 - functions.detect_saccades                                         - WARNING  - Number of saccades detected: (1111, 2)\n",
      "0\n",
      "1000\n",
      "2018-08-21 13:05:34 - functions.detect_saccades                                         - DEBUG    - Done... Detecting Saccades\n",
      "2018-08-21 13:05:34 - MICROSACC                                                         - INFO     - Removed 2 saccades larger than amplitude 2°\n",
      "2018-08-21 13:05:34 - functions.et_condition_df                                         - DEBUG    - Data already loaded, just applying transformations\n",
      "2018-08-21 13:05:34 - functions.et_condition_df                                         - CRITICAL - Eyetracker: pl    Subject: VP24 \n",
      "2018-08-21 13:05:34 - MICROSACC                                                         - INFO     - subject==@subject&eyetracker==@eyetracker\n",
      "2018-08-21 13:05:39 - functions.detect_saccades                                         - DEBUG    - eyetracker: el\n",
      "2018-08-21 13:05:39 - functions.detect_saccades                                         - DEBUG    - removing bad-samples for saccade detection\n",
      "2018-08-21 13:05:39 - functions.detect_saccades                                         - DEBUG    - Start.... Detecting Saccades\n",
      "2018-08-21 13:05:39 - functions.detect_saccades                                         - WARNING  - Std of velocity data [0.0351 0.0395]\n",
      "2018-08-21 13:05:39 - functions.detect_saccades                                         - WARNING  - Mean overthreshold values: 0.018\n",
      "2018-08-21 13:05:39 - functions.detect_saccades                                         - WARNING  - Number of saccades detected: (11, 2)\n",
      "0\n",
      "2018-08-21 13:05:39 - functions.detect_saccades                                         - DEBUG    - Done... Detecting Saccades\n",
      "2018-08-21 13:05:39 - MICROSACC                                                         - INFO     - Removed 4 saccades larger than amplitude 2°\n",
      "2018-08-21 13:05:39 - functions.et_condition_df                                         - DEBUG    - Data already loaded, just applying transformations\n",
      "2018-08-21 13:05:39 - functions.et_condition_df                                         - CRITICAL - Eyetracker: el    Subject: VP25 \n",
      "2018-08-21 13:05:39 - MICROSACC                                                         - INFO     - subject==@subject&eyetracker==@eyetracker\n",
      "2018-08-21 13:05:43 - functions.detect_saccades                                         - DEBUG    - eyetracker: pl\n",
      "2018-08-21 13:05:43 - functions.detect_saccades                                         - DEBUG    - removing bad-samples for saccade detection\n",
      "2018-08-21 13:05:43 - functions.detect_saccades                                         - DEBUG    - Start.... Interpolating Samples\n",
      "2018-08-21 13:05:45 - functions.detect_saccades                                         - DEBUG    - Done.... Interpolating Samples\n",
      "2018-08-21 13:05:45 - functions.detect_saccades                                         - DEBUG    - Start.... Detecting Saccades\n",
      "2018-08-21 13:05:45 - functions.detect_saccades                                         - WARNING  - Std of velocity data [0.002  0.0014]\n",
      "2018-08-21 13:05:49 - functions.detect_saccades                                         - WARNING  - Mean overthreshold values: 0.0412\n",
      "2018-08-21 13:05:49 - functions.detect_saccades                                         - WARNING  - Number of saccades detected: (807, 2)\n",
      "0\n",
      "2018-08-21 13:05:50 - functions.detect_saccades                                         - DEBUG    - Done... Detecting Saccades\n",
      "2018-08-21 13:05:50 - MICROSACC                                                         - INFO     - Removed 0 saccades larger than amplitude 2°\n",
      "2018-08-21 13:05:50 - functions.et_condition_df                                         - DEBUG    - Data already loaded, just applying transformations\n",
      "2018-08-21 13:05:50 - functions.et_condition_df                                         - CRITICAL - Eyetracker: pl    Subject: VP25 \n",
      "2018-08-21 13:05:50 - MICROSACC                                                         - INFO     - subject==@subject&eyetracker==@eyetracker\n",
      "2018-08-21 13:05:55 - functions.detect_saccades                                         - DEBUG    - eyetracker: el\n",
      "2018-08-21 13:05:55 - functions.detect_saccades                                         - DEBUG    - removing bad-samples for saccade detection\n",
      "2018-08-21 13:05:55 - functions.detect_saccades                                         - DEBUG    - Start.... Detecting Saccades\n",
      "2018-08-21 13:05:55 - functions.detect_saccades                                         - WARNING  - Std of velocity data [0.0232 0.0202]\n",
      "2018-08-21 13:05:55 - functions.detect_saccades                                         - WARNING  - Mean overthreshold values: 0.0174\n",
      "2018-08-21 13:05:55 - functions.detect_saccades                                         - WARNING  - Number of saccades detected: (15, 2)\n",
      "0\n",
      "2018-08-21 13:05:55 - functions.detect_saccades                                         - DEBUG    - Done... Detecting Saccades\n",
      "2018-08-21 13:05:55 - MICROSACC                                                         - INFO     - Removed 0 saccades larger than amplitude 2°\n",
      "2018-08-21 13:05:55 - functions.et_condition_df                                         - DEBUG    - Data already loaded, just applying transformations\n",
      "2018-08-21 13:05:55 - functions.et_condition_df                                         - CRITICAL - Eyetracker: el    Subject: VP26 \n",
      "2018-08-21 13:05:55 - MICROSACC                                                         - INFO     - subject==@subject&eyetracker==@eyetracker\n",
      "2018-08-21 13:06:00 - functions.detect_saccades                                         - DEBUG    - eyetracker: pl\n",
      "2018-08-21 13:06:00 - functions.detect_saccades                                         - DEBUG    - removing bad-samples for saccade detection\n",
      "2018-08-21 13:06:00 - functions.detect_saccades                                         - DEBUG    - Start.... Interpolating Samples\n",
      "2018-08-21 13:06:01 - functions.detect_saccades                                         - DEBUG    - Done.... Interpolating Samples\n",
      "2018-08-21 13:06:01 - functions.detect_saccades                                         - DEBUG    - Start.... Detecting Saccades\n",
      "2018-08-21 13:06:01 - functions.detect_saccades                                         - WARNING  - Std of velocity data [0.0016 0.0015]\n",
      "2018-08-21 13:06:06 - functions.detect_saccades                                         - WARNING  - Mean overthreshold values: 0.0363\n",
      "2018-08-21 13:06:06 - functions.detect_saccades                                         - WARNING  - Number of saccades detected: (1232, 2)\n",
      "0\n",
      "1000\n",
      "2018-08-21 13:06:08 - functions.detect_saccades                                         - DEBUG    - Done... Detecting Saccades\n",
      "2018-08-21 13:06:08 - MICROSACC                                                         - INFO     - Removed 1 saccades larger than amplitude 2°\n",
      "2018-08-21 13:06:08 - functions.et_condition_df                                         - DEBUG    - Data already loaded, just applying transformations\n",
      "2018-08-21 13:06:08 - functions.et_condition_df                                         - CRITICAL - Eyetracker: pl    Subject: VP26 \n"
     ]
    }
   ],
   "source": [
    "microsaccades = MICROSACC.detect_microsaccades(etsamples=etsamples,etmsgs=etmsgs,etevents=etevents)"
   ]
  },
  {
   "cell_type": "markdown",
   "metadata": {},
   "source": [
    "## Results"
   ]
  },
  {
   "cell_type": "code",
   "execution_count": 45,
   "metadata": {},
   "outputs": [
    {
     "name": "stdout",
     "output_type": "stream",
     "text": [
      "Index(['eyetracker', 'subject', 'count', 'amplitude mean'], dtype='object')\n"
     ]
    },
    {
     "name": "stderr",
     "output_type": "stream",
     "text": [
      "/net/store/nbp/users/behinger/projects/etcomp/local/etcompvenv/lib/python3.5/site-packages/matplotlib/pyplot.py:522: RuntimeWarning: More than 20 figures have been opened. Figures created through the pyplot interface (`matplotlib.pyplot.figure`) are retained until explicitly closed and may consume too much memory. (To control this warning, see the rcParam `figure.max_open_warning`).\n",
      "  max_open_warning, RuntimeWarning)\n"
     ]
    },
    {
     "data": {
      "application/vnd.jupyter.widget-view+json": {
       "model_id": "5ed114508eb54d7faa6ca9f81b937217",
       "version_major": 2,
       "version_minor": 0
      },
      "text/plain": [
       "FigureCanvasNbAgg()"
      ]
     },
     "metadata": {},
     "output_type": "display_data"
    },
    {
     "data": {
      "text/plain": [
       "<ggplot: (8782184658380)>"
      ]
     },
     "execution_count": 45,
     "metadata": {},
     "output_type": "execute_result"
    }
   ],
   "source": [
    "# 6 blocks x 20s\n",
    "MICROSACC.plot_default(microsaccades,subtype=\"count/(6*20)\")+ylab(\"microsaccaderate [1/s]\")"
   ]
  },
  {
   "cell_type": "markdown",
   "metadata": {},
   "source": [
    "It is highly unlikely to have ~7 microsaccades per second. Pupillabs eyetracker does not seem able to find microsaccades without tweaking the algorithm."
   ]
  },
  {
   "cell_type": "code",
   "execution_count": 46,
   "metadata": {},
   "outputs": [
    {
     "name": "stdout",
     "output_type": "stream",
     "text": [
      "Index(['eyetracker', 'subject', 'count', 'amplitude mean'], dtype='object')\n"
     ]
    },
    {
     "name": "stderr",
     "output_type": "stream",
     "text": [
      "/net/store/nbp/users/behinger/projects/etcomp/local/etcompvenv/lib/python3.5/site-packages/matplotlib/pyplot.py:522: RuntimeWarning: More than 20 figures have been opened. Figures created through the pyplot interface (`matplotlib.pyplot.figure`) are retained until explicitly closed and may consume too much memory. (To control this warning, see the rcParam `figure.max_open_warning`).\n",
      "  max_open_warning, RuntimeWarning)\n"
     ]
    },
    {
     "data": {
      "application/vnd.jupyter.widget-view+json": {
       "model_id": "566483921dc64b34827e9122fbc940e2",
       "version_major": 2,
       "version_minor": 0
      },
      "text/plain": [
       "FigureCanvasNbAgg()"
      ]
     },
     "metadata": {},
     "output_type": "display_data"
    },
    {
     "data": {
      "text/plain": [
       "<ggplot: (-9223363254670111123)>"
      ]
     },
     "execution_count": 46,
     "metadata": {},
     "output_type": "execute_result"
    }
   ],
   "source": [
    "MICROSACC.plot_default(microsaccades,subtype=\"amplitude mean\")"
   ]
  },
  {
   "cell_type": "code",
   "execution_count": 47,
   "metadata": {},
   "outputs": [
    {
     "name": "stderr",
     "output_type": "stream",
     "text": [
      "/net/store/nbp/users/behinger/projects/etcomp/local/etcompvenv/lib/python3.5/site-packages/matplotlib/pyplot.py:522: RuntimeWarning: More than 20 figures have been opened. Figures created through the pyplot interface (`matplotlib.pyplot.figure`) are retained until explicitly closed and may consume too much memory. (To control this warning, see the rcParam `figure.max_open_warning`).\n",
      "  max_open_warning, RuntimeWarning)\n"
     ]
    },
    {
     "data": {
      "application/vnd.jupyter.widget-view+json": {
       "model_id": "98d2ac4d3b134a2aa4e18f66e09b680f",
       "version_major": 2,
       "version_minor": 0
      },
      "text/plain": [
       "FigureCanvasNbAgg()"
      ]
     },
     "metadata": {},
     "output_type": "display_data"
    },
    {
     "data": {
      "text/plain": [
       "<ggplot: (8782203601202)>"
      ]
     },
     "execution_count": 47,
     "metadata": {},
     "output_type": "execute_result"
    }
   ],
   "source": [
    "MICROSACC.plot_densities(microsaccades)"
   ]
  },
  {
   "cell_type": "code",
   "execution_count": 48,
   "metadata": {},
   "outputs": [
    {
     "name": "stderr",
     "output_type": "stream",
     "text": [
      "/net/store/nbp/users/behinger/projects/etcomp/local/etcompvenv/lib/python3.5/importlib/_bootstrap.py:222: RuntimeWarning: numpy.dtype size changed, may indicate binary incompatibility. Expected 96, got 88\n",
      "  return f(*args, **kwds)\n",
      "/net/store/nbp/users/behinger/projects/etcomp/local/etcompvenv/lib/python3.5/site-packages/matplotlib/pyplot.py:522: RuntimeWarning: More than 20 figures have been opened. Figures created through the pyplot interface (`matplotlib.pyplot.figure`) are retained until explicitly closed and may consume too much memory. (To control this warning, see the rcParam `figure.max_open_warning`).\n",
      "  max_open_warning, RuntimeWarning)\n"
     ]
    },
    {
     "data": {
      "application/vnd.jupyter.widget-view+json": {
       "model_id": "164d5a8fecd04eb59e1d8e965ae60792",
       "version_major": 2,
       "version_minor": 0
      },
      "text/plain": [
       "FigureCanvasNbAgg()"
      ]
     },
     "metadata": {},
     "output_type": "display_data"
    },
    {
     "data": {
      "text/plain": [
       "<ggplot: (-9223363254651173046)>"
      ]
     },
     "execution_count": 48,
     "metadata": {},
     "output_type": "execute_result"
    }
   ],
   "source": [
    "MICROSACC.plot_mainsequence(microsaccades)+coord_cartesian(xlim=(-3,1))"
   ]
  },
  {
   "cell_type": "markdown",
   "metadata": {},
   "source": [
    "# Pupil Dilation"
   ]
  },
  {
   "cell_type": "markdown",
   "metadata": {},
   "source": [
    "## Processing"
   ]
  },
  {
   "cell_type": "code",
   "execution_count": 49,
   "metadata": {},
   "outputs": [
    {
     "name": "stdout",
     "output_type": "stream",
     "text": [
      "subject:VP1, et:pl\n",
      "msg 0 from 48\n",
      "subject:VP1, et:el\n",
      "msg 0 from 48\n",
      "subject:VP2, et:pl\n",
      "msg 0 from 48\n",
      "subject:VP2, et:el\n",
      "msg 0 from 48\n",
      "trial has no baseline\n",
      "trial has no baseline\n",
      "trial has no baseline\n",
      "subject:VP3, et:pl\n",
      "msg 0 from 48\n",
      "subject:VP3, et:el\n",
      "msg 0 from 48\n",
      "subject:VP4, et:pl\n",
      "msg 0 from 48\n",
      "subject:VP4, et:el\n",
      "msg 0 from 48\n",
      "subject:VP11, et:pl\n",
      "msg 0 from 48\n",
      "subject:VP11, et:el\n",
      "msg 0 from 48\n",
      "subject:VP12, et:pl\n",
      "msg 0 from 48\n",
      "subject:VP12, et:el\n",
      "msg 0 from 48\n",
      "subject:VP14, et:pl\n",
      "msg 0 from 48\n",
      "subject:VP14, et:el\n",
      "msg 0 from 48\n",
      "subject:VP15, et:pl\n",
      "msg 0 from 48\n",
      "subject:VP15, et:el\n",
      "msg 0 from 48\n",
      "subject:VP19, et:pl\n",
      "msg 0 from 48\n",
      "subject:VP19, et:el\n",
      "msg 0 from 48\n",
      "subject:VP20, et:pl\n",
      "msg 0 from 48\n",
      "subject:VP20, et:el\n",
      "msg 0 from 48\n",
      "subject:VP22, et:pl\n",
      "msg 0 from 48\n",
      "subject:VP22, et:el\n",
      "msg 0 from 48\n",
      "subject:VP23, et:pl\n",
      "msg 0 from 48\n",
      "2018-08-21 13:07:35 - functions.et_make_df                                              - WARNING  - warning, no sample found for msg 8\n",
      "2018-08-21 13:07:35 - functions.et_make_df                                              - WARNING  - warning, no sample found for msg 9\n",
      "2018-08-21 13:07:35 - functions.et_make_df                                              - WARNING  - warning, no sample found for msg 10\n",
      "2018-08-21 13:07:35 - functions.et_make_df                                              - WARNING  - warning, no sample found for msg 11\n",
      "2018-08-21 13:07:35 - functions.et_make_df                                              - WARNING  - warning, no sample found for msg 12\n",
      "2018-08-21 13:07:35 - functions.et_make_df                                              - WARNING  - warning, no sample found for msg 13\n",
      "2018-08-21 13:07:35 - functions.et_make_df                                              - WARNING  - warning, no sample found for msg 14\n",
      "trial has no baseline\n",
      "subject:VP23, et:el\n",
      "msg 0 from 48\n",
      "subject:VP24, et:pl\n",
      "msg 0 from 48\n",
      "subject:VP24, et:el\n",
      "msg 0 from 48\n",
      "subject:VP25, et:pl\n",
      "msg 0 from 48\n",
      "subject:VP25, et:el\n",
      "msg 0 from 48\n",
      "trial has no baseline\n",
      "trial has no baseline\n",
      "trial has no baseline\n",
      "trial has no baseline\n",
      "trial has no baseline\n",
      "subject:VP26, et:pl\n",
      "msg 0 from 48\n",
      "subject:VP26, et:el\n",
      "msg 0 from 48\n"
     ]
    }
   ],
   "source": [
    "all_lum = LUM.process_lum(etsamples,etmsgs)\n",
    "all_lum_binned = LUM.bin_lum(all_lum)"
   ]
  },
  {
   "cell_type": "markdown",
   "metadata": {},
   "source": [
    "## Results"
   ]
  },
  {
   "cell_type": "code",
   "execution_count": 50,
   "metadata": {},
   "outputs": [
    {
     "name": "stderr",
     "output_type": "stream",
     "text": [
      "/net/store/nbp/users/behinger/projects/etcomp/local/etcompvenv/lib/python3.5/site-packages/plotnine/layer.py:363: UserWarning: stat_summary : Removed 5520 rows containing non-finite values.\n",
      "  data = self.stat.compute_layer(data, params, layout)\n",
      "/net/store/nbp/users/behinger/projects/etcomp/local/etcompvenv/lib/python3.5/site-packages/matplotlib/pyplot.py:522: RuntimeWarning: More than 20 figures have been opened. Figures created through the pyplot interface (`matplotlib.pyplot.figure`) are retained until explicitly closed and may consume too much memory. (To control this warning, see the rcParam `figure.max_open_warning`).\n",
      "  max_open_warning, RuntimeWarning)\n"
     ]
    },
    {
     "data": {
      "application/vnd.jupyter.widget-view+json": {
       "model_id": "bbf28455945b4511a92b5f89243a0417",
       "version_major": 2,
       "version_minor": 0
      },
      "text/plain": [
       "FigureCanvasNbAgg()"
      ]
     },
     "metadata": {},
     "output_type": "display_data"
    },
    {
     "name": "stderr",
     "output_type": "stream",
     "text": [
      "/net/store/nbp/users/behinger/projects/etcomp/local/etcompvenv/lib/python3.5/site-packages/plotnine/layer.py:452: UserWarning: geom_vline : Removed 1 rows containing missing values.\n",
      "  self.data = self.geom.handle_na(self.data)\n"
     ]
    },
    {
     "data": {
      "text/plain": [
       "<ggplot: (-9223363254567863906)>"
      ]
     },
     "execution_count": 50,
     "metadata": {},
     "output_type": "execute_result"
    }
   ],
   "source": [
    "LUM.plot_time_all(all_lum_binned)"
   ]
  },
  {
   "cell_type": "code",
   "execution_count": 51,
   "metadata": {},
   "outputs": [
    {
     "name": "stderr",
     "output_type": "stream",
     "text": [
      "/net/store/nbp/users/behinger/projects/etcomp/local/etcompvenv/lib/python3.5/site-packages/matplotlib/pyplot.py:522: RuntimeWarning: More than 20 figures have been opened. Figures created through the pyplot interface (`matplotlib.pyplot.figure`) are retained until explicitly closed and may consume too much memory. (To control this warning, see the rcParam `figure.max_open_warning`).\n",
      "  max_open_warning, RuntimeWarning)\n"
     ]
    },
    {
     "data": {
      "application/vnd.jupyter.widget-view+json": {
       "model_id": "4b48b099ff964c9595fda42894e1a7ea",
       "version_major": 2,
       "version_minor": 0
      },
      "text/plain": [
       "FigureCanvasNbAgg()"
      ]
     },
     "metadata": {},
     "output_type": "display_data"
    },
    {
     "name": "stderr",
     "output_type": "stream",
     "text": [
      "/net/store/nbp/users/behinger/projects/etcomp/local/etcompvenv/lib/python3.5/site-packages/plotnine/geoms/geom_path.py:75: UserWarning: geom_path: Removed 46 rows containing missing values.\n",
      "  warn(msg.format(n1-n2))\n",
      "/net/store/nbp/users/behinger/projects/etcomp/local/etcompvenv/lib/python3.5/site-packages/plotnine/layer.py:452: UserWarning: geom_vline : Removed 1 rows containing missing values.\n",
      "  self.data = self.geom.handle_na(self.data)\n",
      "/net/store/nbp/users/behinger/projects/etcomp/local/etcompvenv/lib/python3.5/site-packages/plotnine/guides/guides.py:200: UserWarning: Cannot generate legend for the 'shape' aesthetic. Make sure you have mapped a variable to it\n",
      "  \"variable to it\".format(output))\n"
     ]
    },
    {
     "data": {
      "text/plain": [
       "<ggplot: (8782180151153)>"
      ]
     },
     "execution_count": 51,
     "metadata": {},
     "output_type": "execute_result"
    }
   ],
   "source": [
    "LUM.plot_time_diff(all_lum_binned,subject=\"VP3\")"
   ]
  },
  {
   "cell_type": "code",
   "execution_count": 52,
   "metadata": {},
   "outputs": [
    {
     "name": "stderr",
     "output_type": "stream",
     "text": [
      "/net/store/nbp/users/behinger/projects/etcomp/local/etcompvenv/lib/python3.5/site-packages/plotnine/layer.py:363: UserWarning: stat_summary : Removed 2 rows containing non-finite values.\n",
      "  data = self.stat.compute_layer(data, params, layout)\n",
      "/net/store/nbp/users/behinger/projects/etcomp/local/etcompvenv/lib/python3.5/site-packages/matplotlib/pyplot.py:522: RuntimeWarning: More than 20 figures have been opened. Figures created through the pyplot interface (`matplotlib.pyplot.figure`) are retained until explicitly closed and may consume too much memory. (To control this warning, see the rcParam `figure.max_open_warning`).\n",
      "  max_open_warning, RuntimeWarning)\n"
     ]
    },
    {
     "data": {
      "application/vnd.jupyter.widget-view+json": {
       "model_id": "2dd202a7465f42cb90222ce805ab364f",
       "version_major": 2,
       "version_minor": 0
      },
      "text/plain": [
       "FigureCanvasNbAgg()"
      ]
     },
     "metadata": {},
     "output_type": "display_data"
    },
    {
     "name": "stderr",
     "output_type": "stream",
     "text": [
      "/net/store/nbp/users/behinger/projects/etcomp/local/etcompvenv/lib/python3.5/site-packages/plotnine/layer.py:452: UserWarning: geom_point : Removed 2 rows containing missing values.\n",
      "  self.data = self.geom.handle_na(self.data)\n"
     ]
    },
    {
     "data": {
      "text/plain": [
       "<ggplot: (-9223363254674974818)>"
      ]
     },
     "execution_count": 52,
     "metadata": {},
     "output_type": "execute_result"
    }
   ],
   "source": [
    "LUM.plot_mean(all_lum)"
   ]
  },
  {
   "cell_type": "code",
   "execution_count": 53,
   "metadata": {},
   "outputs": [
    {
     "name": "stderr",
     "output_type": "stream",
     "text": [
      "/net/store/nbp/users/behinger/projects/etcomp/local/etcompvenv/lib/python3.5/site-packages/plotnine/layer.py:363: UserWarning: stat_summary : Removed 10 rows containing non-finite values.\n",
      "  data = self.stat.compute_layer(data, params, layout)\n",
      "/net/store/nbp/users/behinger/projects/etcomp/local/etcompvenv/lib/python3.5/site-packages/matplotlib/pyplot.py:522: RuntimeWarning: More than 20 figures have been opened. Figures created through the pyplot interface (`matplotlib.pyplot.figure`) are retained until explicitly closed and may consume too much memory. (To control this warning, see the rcParam `figure.max_open_warning`).\n",
      "  max_open_warning, RuntimeWarning)\n"
     ]
    },
    {
     "data": {
      "application/vnd.jupyter.widget-view+json": {
       "model_id": "89befb16831e48f594bb14bfe1bdf4f5",
       "version_major": 2,
       "version_minor": 0
      },
      "text/plain": [
       "FigureCanvasNbAgg()"
      ]
     },
     "metadata": {},
     "output_type": "display_data"
    },
    {
     "data": {
      "text/plain": [
       "<ggplot: (8782179805402)>"
      ]
     },
     "execution_count": 53,
     "metadata": {},
     "output_type": "execute_result"
    }
   ],
   "source": [
    "LUM.plot_diff(all_lum)"
   ]
  },
  {
   "cell_type": "code",
   "execution_count": null,
   "metadata": {},
   "outputs": [],
   "source": [
    "(ggplot(all_lum,aes(x=\"td\",y=\"gx\",color=\"subject\"))+stat_summary(geom=\"line\"))"
   ]
  },
  {
   "cell_type": "code",
   "execution_count": null,
   "metadata": {},
   "outputs": [],
   "source": [
    "(ggplot(all_lum.query(\"subject=='VP3'\"),aes(x=\"td\",y=\"gx\",color=\"subject\"))+stat_summary(geom=\"line\"))"
   ]
  },
  {
   "cell_type": "code",
   "execution_count": 53,
   "metadata": {},
   "outputs": [
    {
     "ename": "NameError",
     "evalue": "name 'all_lum' is not defined",
     "output_type": "error",
     "traceback": [
      "\u001b[0;31m---------------------------------------------------------------------------\u001b[0m",
      "\u001b[0;31mNameError\u001b[0m                                 Traceback (most recent call last)",
      "\u001b[0;32m<ipython-input-53-e9feee575cfa>\u001b[0m in \u001b[0;36m<module>\u001b[0;34m()\u001b[0m\n\u001b[0;32m----> 1\u001b[0;31m \u001b[0mall_lum\u001b[0m\u001b[0;34m.\u001b[0m\u001b[0miloc\u001b[0m\u001b[0;34m[\u001b[0m\u001b[0;36m0\u001b[0m\u001b[0;34m:\u001b[0m\u001b[0;36m1\u001b[0m\u001b[0;34m]\u001b[0m\u001b[0;34m\u001b[0m\u001b[0m\n\u001b[0m",
      "\u001b[0;31mNameError\u001b[0m: name 'all_lum' is not defined"
     ]
    }
   ],
   "source": [
    "all_lum.iloc[0:1]"
   ]
  },
  {
   "cell_type": "code",
   "execution_count": null,
   "metadata": {},
   "outputs": [],
   "source": [
    "#all_lum.loc[:,'plot_grouping'] = all_lum.block.map(str) + all_lum.lum.map(str)\n",
    "(ggplot(all_lum_binned.query(\"lum>0&subject=='VP3'\"),aes(x=\"td\",y=\"gy\"))+geom_smooth(method='loess'))+facet_wrap(\"~eyetracker\")+xlim(-1,4)"
   ]
  },
  {
   "cell_type": "code",
   "execution_count": null,
   "metadata": {},
   "outputs": [
    {
     "name": "stdout",
     "output_type": "stream",
     "text": [
      "working on et:el, subject:VP3\n",
      "2018-08-29 14:28:02 - functions.detect_saccades                                         - DEBUG    - Start.... Interpolating Samples\n"
     ]
    }
   ],
   "source": [
    "from functions.detect_saccades import interpolate_gaze\n",
    "def wrapper_interpolate(x,fs=120):\n",
    "    print(\"working on et:%s, subject:%s\"%(x.iloc[0]['eyetracker'],x.iloc[0]['subject']))\n",
    "    tmp = interpolate_gaze(x,fs=fs)\n",
    "    tmp.loc[:,\"eyetracker\"] = x.iloc[0]['eyetracker']\n",
    "    tmp.loc[:,\"subject\"] = x.iloc[0]['subject']\n",
    "    return(tmp)\n",
    "etsamples_100hz = etsamples.query(\"subject=='VP3'\").groupby([\"eyetracker\",\"subject\"],as_index=False).apply(lambda x:wrapper_interpolate(x,fs=100))"
   ]
  },
  {
   "cell_type": "code",
   "execution_count": 132,
   "metadata": {},
   "outputs": [
    {
     "data": {
      "text/plain": [
       "Index(['gy', 'gx', 'smpl_time', 'pa', 'gx_vel', 'gy_vel', 'type', 'confidence',\n",
       "       'outside', 'zero_pa', 'neg_time', 'blink_id', 'algorithm', 'eyetracker',\n",
       "       'subject'],\n",
       "      dtype='object')"
      ]
     },
     "execution_count": 132,
     "metadata": {},
     "output_type": "execute_result"
    }
   ],
   "source": [
    "etsamples.columns"
   ]
  },
  {
   "cell_type": "code",
   "execution_count": 131,
   "metadata": {},
   "outputs": [
    {
     "data": {
      "text/html": [
       "<div>\n",
       "<style scoped>\n",
       "    .dataframe tbody tr th:only-of-type {\n",
       "        vertical-align: middle;\n",
       "    }\n",
       "\n",
       "    .dataframe tbody tr th {\n",
       "        vertical-align: top;\n",
       "    }\n",
       "\n",
       "    .dataframe thead th {\n",
       "        text-align: right;\n",
       "    }\n",
       "</style>\n",
       "<table border=\"1\" class=\"dataframe\">\n",
       "  <thead>\n",
       "    <tr style=\"text-align: right;\">\n",
       "      <th></th>\n",
       "      <th></th>\n",
       "      <th>smpl_time</th>\n",
       "      <th>gx</th>\n",
       "      <th>gy</th>\n",
       "      <th>is_blink</th>\n",
       "      <th>eyetracker</th>\n",
       "      <th>subject</th>\n",
       "    </tr>\n",
       "  </thead>\n",
       "  <tbody>\n",
       "    <tr>\n",
       "      <th>0</th>\n",
       "      <th>0</th>\n",
       "      <td>25.0</td>\n",
       "      <td>NaN</td>\n",
       "      <td>NaN</td>\n",
       "      <td>0</td>\n",
       "      <td>el</td>\n",
       "      <td>VP3</td>\n",
       "    </tr>\n",
       "  </tbody>\n",
       "</table>\n",
       "</div>"
      ],
      "text/plain": [
       "     smpl_time  gx  gy  is_blink eyetracker subject\n",
       "0 0       25.0 NaN NaN         0         el     VP3"
      ]
     },
     "execution_count": 131,
     "metadata": {},
     "output_type": "execute_result"
    }
   ],
   "source": [
    "#etsamples_100hz = etsamples_100hz.reset_index()\n",
    "#etsamples_100hz.loc[:,\"eyetracker\"] = etsamples_100hz.level_0\n",
    "etsamples_100hz.iloc[0:1]"
   ]
  },
  {
   "cell_type": "code",
   "execution_count": 98,
   "metadata": {},
   "outputs": [],
   "source": [
    "etsamples_100hz = etsamples_100hz.query(\"smpl_time>%.2f\"%(max(etsamples_100hz.groupby([\"eyetracker\"]).smpl_time.agg(min))))"
   ]
  },
  {
   "cell_type": "code",
   "execution_count": 129,
   "metadata": {},
   "outputs": [
    {
     "ename": "AttributeError",
     "evalue": "'DataFrame' object has no attribute 'pa_norm'",
     "output_type": "error",
     "traceback": [
      "\u001b[0;31m---------------------------------------------------------------------------\u001b[0m",
      "\u001b[0;31mAttributeError\u001b[0m                            Traceback (most recent call last)",
      "\u001b[0;32m<ipython-input-129-4236d27694db>\u001b[0m in \u001b[0;36m<module>\u001b[0;34m()\u001b[0m\n\u001b[0;32m----> 1\u001b[0;31m \u001b[0metsamples_100hz\u001b[0m\u001b[0;34m.\u001b[0m\u001b[0mloc\u001b[0m\u001b[0;34m[\u001b[0m\u001b[0metsamples_100hz\u001b[0m\u001b[0;34m.\u001b[0m\u001b[0meyetracker\u001b[0m\u001b[0;34m==\u001b[0m\u001b[0;34m'el'\u001b[0m\u001b[0;34m,\u001b[0m\u001b[0;34m'pa_diff'\u001b[0m\u001b[0;34m]\u001b[0m\u001b[0;34m=\u001b[0m\u001b[0metsamples_100hz\u001b[0m\u001b[0;34m.\u001b[0m\u001b[0mquery\u001b[0m\u001b[0;34m(\u001b[0m\u001b[0;34m\"eyetracker=='el'\"\u001b[0m\u001b[0;34m)\u001b[0m\u001b[0;34m.\u001b[0m\u001b[0mpa_norm\u001b[0m\u001b[0;34m.\u001b[0m\u001b[0mvalues\u001b[0m\u001b[0;34m-\u001b[0m\u001b[0metsamples_100hz\u001b[0m\u001b[0;34m.\u001b[0m\u001b[0mquery\u001b[0m\u001b[0;34m(\u001b[0m\u001b[0;34m\"eyetracker=='pl'\"\u001b[0m\u001b[0;34m)\u001b[0m\u001b[0;34m.\u001b[0m\u001b[0mpa_norm\u001b[0m\u001b[0;34m.\u001b[0m\u001b[0mvalues\u001b[0m\u001b[0;34m\u001b[0m\u001b[0m\n\u001b[0m",
      "\u001b[0;32m/net/store/nbp/users/behinger/projects/etcomp/local/etcompvenv/lib/python3.5/site-packages/pandas/core/generic.py\u001b[0m in \u001b[0;36m__getattr__\u001b[0;34m(self, name)\u001b[0m\n\u001b[1;32m   4374\u001b[0m             \u001b[0;32mif\u001b[0m \u001b[0mself\u001b[0m\u001b[0;34m.\u001b[0m\u001b[0m_info_axis\u001b[0m\u001b[0;34m.\u001b[0m\u001b[0m_can_hold_identifiers_and_holds_name\u001b[0m\u001b[0;34m(\u001b[0m\u001b[0mname\u001b[0m\u001b[0;34m)\u001b[0m\u001b[0;34m:\u001b[0m\u001b[0;34m\u001b[0m\u001b[0m\n\u001b[1;32m   4375\u001b[0m                 \u001b[0;32mreturn\u001b[0m \u001b[0mself\u001b[0m\u001b[0;34m[\u001b[0m\u001b[0mname\u001b[0m\u001b[0;34m]\u001b[0m\u001b[0;34m\u001b[0m\u001b[0m\n\u001b[0;32m-> 4376\u001b[0;31m             \u001b[0;32mreturn\u001b[0m \u001b[0mobject\u001b[0m\u001b[0;34m.\u001b[0m\u001b[0m__getattribute__\u001b[0m\u001b[0;34m(\u001b[0m\u001b[0mself\u001b[0m\u001b[0;34m,\u001b[0m \u001b[0mname\u001b[0m\u001b[0;34m)\u001b[0m\u001b[0;34m\u001b[0m\u001b[0m\n\u001b[0m\u001b[1;32m   4377\u001b[0m \u001b[0;34m\u001b[0m\u001b[0m\n\u001b[1;32m   4378\u001b[0m     \u001b[0;32mdef\u001b[0m \u001b[0m__setattr__\u001b[0m\u001b[0;34m(\u001b[0m\u001b[0mself\u001b[0m\u001b[0;34m,\u001b[0m \u001b[0mname\u001b[0m\u001b[0;34m,\u001b[0m \u001b[0mvalue\u001b[0m\u001b[0;34m)\u001b[0m\u001b[0;34m:\u001b[0m\u001b[0;34m\u001b[0m\u001b[0m\n",
      "\u001b[0;31mAttributeError\u001b[0m: 'DataFrame' object has no attribute 'pa_norm'"
     ]
    }
   ],
   "source": [
    "etsamples_100hz.loc[etsamples_100hz.eyetracker=='el','pa_diff']=etsamples_100hz.query(\"eyetracker=='el'\").pa_norm.values-etsamples_100hz.query(\"eyetracker=='pl'\").pa_norm.values"
   ]
  },
  {
   "cell_type": "code",
   "execution_count": 126,
   "metadata": {},
   "outputs": [
    {
     "data": {
      "text/plain": [
       "level_0             0\n",
       "level_1          1001\n",
       "smpl_time     35.0124\n",
       "gx           -4.48623\n",
       "gy           -1.42565\n",
       "pa            417.761\n",
       "is_blink            0\n",
       "eyetracker         el\n",
       "subject           VP3\n",
       "pa_diff       -4071.5\n",
       "Name: 1000, dtype: object"
      ]
     },
     "execution_count": 126,
     "metadata": {},
     "output_type": "execute_result"
    }
   ],
   "source": [
    "etsamples_100hz.iloc[1000]"
   ]
  },
  {
   "cell_type": "code",
   "execution_count": 128,
   "metadata": {},
   "outputs": [
    {
     "name": "stderr",
     "output_type": "stream",
     "text": [
      "/net/store/nbp/users/behinger/projects/etcomp/local/etcompvenv/lib/python3.5/site-packages/matplotlib/pyplot.py:522: RuntimeWarning: More than 20 figures have been opened. Figures created through the pyplot interface (`matplotlib.pyplot.figure`) are retained until explicitly closed and may consume too much memory. (To control this warning, see the rcParam `figure.max_open_warning`).\n",
      "  max_open_warning, RuntimeWarning)\n"
     ]
    },
    {
     "data": {
      "application/vnd.jupyter.widget-view+json": {
       "model_id": "890e62f02d594fcfb4041907682d8e32",
       "version_major": 2,
       "version_minor": 0
      },
      "text/plain": [
       "FigureCanvasNbAgg()"
      ]
     },
     "metadata": {},
     "output_type": "display_data"
    },
    {
     "name": "stderr",
     "output_type": "stream",
     "text": [
      "/net/store/nbp/users/behinger/projects/etcomp/local/etcompvenv/lib/python3.5/site-packages/plotnine/layer.py:452: UserWarning: geom_point : Removed 83 rows containing missing values.\n",
      "  self.data = self.geom.handle_na(self.data)\n"
     ]
    },
    {
     "data": {
      "text/plain": [
       "<ggplot: (8729978013574)>"
      ]
     },
     "execution_count": 128,
     "metadata": {},
     "output_type": "execute_result"
    }
   ],
   "source": [
    "ggplot(etsamples_100hz.loc[1:35000].query(\"eyetracker=='el'\"),aes(x=\"pa\",y=\"pa_diff\"))+geom_point()"
   ]
  },
  {
   "cell_type": "markdown",
   "metadata": {},
   "source": [
    "# Freeviewing"
   ]
  },
  {
   "cell_type": "markdown",
   "metadata": {},
   "source": [
    "## Load Data"
   ]
  },
  {
   "cell_type": "code",
   "execution_count": null,
   "metadata": {},
   "outputs": [],
   "source": [
    "# Freeviewing\n",
    "raw_freeview_df, raw_fix_count_df = condition_df.get_condition_df(data=(etsamples_grid,etmsgs_grid,etevents_grid), condition='FREEVIEW')"
   ]
  },
  {
   "cell_type": "code",
   "execution_count": null,
   "metadata": {},
   "outputs": [],
   "source": [
    "(etsamples_engbert,etmsgs_engbert,etevents_engbert) = be_load.load_data(algorithm='')\n",
    "raw_freeview_df, raw_fix_count_df  = condition_df.get_condition_df(data=(etsamples_engbert,etmsgs_engbert,etevents_engbert),condition='FREEVIEW')"
   ]
  },
  {
   "cell_type": "markdown",
   "metadata": {},
   "source": [
    "## Results"
   ]
  },
  {
   "cell_type": "code",
   "execution_count": null,
   "metadata": {},
   "outputs": [],
   "source": [
    "# plot the fixations as a heatmap\n",
    "# TODO annotation how many fixations from how many pictures are used for each eyetracker\n",
    "FREEVIEW.plot_heatmap(raw_freeview_df,raw_fix_count_df)"
   ]
  },
  {
   "cell_type": "code",
   "execution_count": null,
   "metadata": {},
   "outputs": [],
   "source": [
    "# plot fixation counts\n",
    "FREEVIEW.plot_number_of_fixations(raw_fix_count_df, option=None)"
   ]
  },
  {
   "cell_type": "code",
   "execution_count": null,
   "metadata": {},
   "outputs": [],
   "source": [
    "FREEVIEW.plot_number_of_fixations(raw_fix_count_df, option='eyetracker')"
   ]
  },
  {
   "cell_type": "code",
   "execution_count": null,
   "metadata": {},
   "outputs": [],
   "source": [
    "FREEVIEW.plot_number_of_fixations(raw_fix_count_df, option='facet_subjects')"
   ]
  },
  {
   "cell_type": "code",
   "execution_count": null,
   "metadata": {},
   "outputs": [],
   "source": [
    "# plot histogram of the counts\n",
    "FREEVIEW.plot_histogram(raw_fix_count_df)"
   ]
  },
  {
   "cell_type": "code",
   "execution_count": null,
   "metadata": {},
   "outputs": [],
   "source": [
    "# plot fixation durations\n",
    "FREEVIEW.plot_fixation_durations(raw_freeview_df)"
   ]
  },
  {
   "cell_type": "code",
   "execution_count": null,
   "metadata": {},
   "outputs": [],
   "source": [
    "FREEVIEW.plot_fixation_durations(raw_freeview_df, option='facet_subjects')"
   ]
  },
  {
   "cell_type": "code",
   "execution_count": null,
   "metadata": {},
   "outputs": [],
   "source": [
    "# TODO plot main sequence\n",
    "FREEVIEW.plot_main_sequence(raw_freeview_df)"
   ]
  },
  {
   "cell_type": "markdown",
   "metadata": {},
   "source": [
    "# Calibration Accuracy"
   ]
  },
  {
   "cell_type": "markdown",
   "metadata": {},
   "source": [
    "## Load Data"
   ]
  },
  {
   "cell_type": "code",
   "execution_count": null,
   "metadata": {},
   "outputs": [],
   "source": [
    "err = pd.DataFrame()\n",
    "\n",
    "for subject in etsamples.subject.unique():\n",
    "    err = pd.concat([err,CALIBRATION.pl_accuracy(subject),CALIBRATION.el_accuracy(subject)],ignore_index=True)\n",
    "err.loc[:,'avg'] = err.avg.astype(float)\n",
    "err.loc[:,'msg_time'] = err.msg_time.astype(float) "
   ]
  },
  {
   "cell_type": "code",
   "execution_count": null,
   "metadata": {},
   "outputs": [],
   "source": [
    "err.subject.unique()"
   ]
  },
  {
   "cell_type": "markdown",
   "metadata": {},
   "source": [
    "## Results"
   ]
  },
  {
   "cell_type": "code",
   "execution_count": null,
   "metadata": {},
   "outputs": [],
   "source": [
    "ggplot(err,aes(x=\"eyetracker\",y=\"avg\"))+geom_jitter()+geom_hline(yintercept=[0.5,1.5])#+facet_wrap(\"~subject\")"
   ]
  },
  {
   "cell_type": "code",
   "execution_count": null,
   "metadata": {},
   "outputs": [],
   "source": []
  },
  {
   "cell_type": "code",
   "execution_count": null,
   "metadata": {},
   "outputs": [],
   "source": []
  },
  {
   "cell_type": "code",
   "execution_count": null,
   "metadata": {},
   "outputs": [],
   "source": []
  },
  {
   "cell_type": "code",
   "execution_count": null,
   "metadata": {},
   "outputs": [],
   "source": []
  },
  {
   "cell_type": "code",
   "execution_count": null,
   "metadata": {},
   "outputs": [],
   "source": []
  },
  {
   "cell_type": "code",
   "execution_count": null,
   "metadata": {},
   "outputs": [],
   "source": []
  }
 ],
 "metadata": {
  "kernelspec": {
   "display_name": "Python 3",
   "language": "python",
   "name": "python3"
  },
  "language_info": {
   "codemirror_mode": {
    "name": "ipython",
    "version": 3
   },
   "file_extension": ".py",
   "mimetype": "text/x-python",
   "name": "python",
   "nbconvert_exporter": "python",
   "pygments_lexer": "ipython3",
   "version": "3.5.2"
  }
 },
 "nbformat": 4,
 "nbformat_minor": 2
}
