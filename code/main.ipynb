{
 "cells": [
  {
   "cell_type": "markdown",
   "metadata": {},
   "source": [
    "# Prelude"
   ]
  },
  {
   "cell_type": "markdown",
   "metadata": {},
   "source": [
    "## Import Packages"
   ]
  },
  {
   "cell_type": "code",
   "execution_count": 1,
   "metadata": {},
   "outputs": [],
   "source": [
    "%load_ext autoreload\n",
    "%autoreload 2\n",
    "%matplotlib inline"
   ]
  },
  {
   "cell_type": "code",
   "execution_count": 2,
   "metadata": {},
   "outputs": [],
   "source": [
    "%config InlineBackend.figure_format = 'svg'"
   ]
  },
  {
   "cell_type": "code",
   "execution_count": 3,
   "metadata": {},
   "outputs": [],
   "source": [
    "import functions.init_logger\n",
    "import logging\n",
    "logger = logging.getLogger()\n",
    "handler = logger.handlers[1]\n",
    "handler.setLevel(logging.CRITICAL)"
   ]
  },
  {
   "cell_type": "code",
   "execution_count": 4,
   "metadata": {},
   "outputs": [
    {
     "data": {
      "text/plain": [
       "<logging.StreamHandler at 0x7f6b088a77f0>"
      ]
     },
     "execution_count": 4,
     "metadata": {},
     "output_type": "execute_result"
    }
   ],
   "source": [
    "handler"
   ]
  },
  {
   "cell_type": "code",
   "execution_count": 5,
   "metadata": {},
   "outputs": [
    {
     "name": "stderr",
     "output_type": "stream",
     "text": [
      "/home/student/b/behinger/.local/lib/python3.5/site-packages/h5py/__init__.py:36: FutureWarning: Conversion of the second argument of issubdtype from `float` to `np.floating` is deprecated. In future, it will be treated as `np.float64 == np.dtype(float).type`.\n",
      "  from ._conv import register_converters as _register_converters\n"
     ]
    }
   ],
   "source": [
    "import functions.add_path\n",
    "import functions.et_condition_df as condition_df\n",
    "\n",
    "import functions.et_helper as et_helper\n",
    "import functions.plotnine_theme\n",
    "import pandas as pd\n",
    "import numpy as np\n",
    "import matplotlib\n",
    "import matplotlib.pyplot as plt\n",
    "# this (for some reason) allows to edit text in illustrator \n",
    "# source: http://jonathansoma.com/lede/data-studio/matplotlib/exporting-from-matplotlib-to-open-in-adobe-illustrator/\n",
    "\n",
    "matplotlib.rcParams['svg.fonttype'] = 'none'\n",
    "matplotlib.rcParams['pdf.fonttype'] = 42\n",
    "matplotlib.rcParams['ps.fonttype'] = 42\n",
    "\n",
    "\n",
    "plt.rcParams['figure.figsize'] = [15, 10]\n",
    "plt.rcParams['figure.subplot.left'] =  0.2\n",
    "from plotnine import *\n",
    "from plotnine.data import *\n",
    "\n",
    "from plotnine.options import figure_size as figsize\n",
    "\n",
    "\n",
    "import be_load"
   ]
  },
  {
   "cell_type": "code",
   "execution_count": 6,
   "metadata": {},
   "outputs": [],
   "source": [
    "# total width of a plot panel (I think it should be inch)\n",
    "total_panel_width = 15"
   ]
  },
  {
   "cell_type": "code",
   "execution_count": 7,
   "metadata": {},
   "outputs": [
    {
     "name": "stdout",
     "output_type": "stream",
     "text": [
      "/net/store/nbp/users/behinger/projects/etcomp/code\n"
     ]
    }
   ],
   "source": [
    "import os\n",
    "print(os.getcwd())\n",
    "if os.getcwd()[-4:] != 'code':\n",
    "    try:\n",
    "        os.chdir('./code')\n",
    "    except:\n",
    "        os.chdir('/net/store/nbp/users/behinger/projects/etcomp/code')\n"
   ]
  },
  {
   "cell_type": "code",
   "execution_count": 8,
   "metadata": {},
   "outputs": [
    {
     "name": "stdout",
     "output_type": "stream",
     "text": [
      "reached exception:pyaudio\n",
      "reached exception:calibration_methods\n",
      "reached exception:glfw.GLFW_PRESS\n",
      "reached exception:glfw.GLFW_KEY_SPACE\n",
      "reached exception:glfw.GLFW_KEY_F\n",
      "reached exception:glfw.glfwSetKeyCallback\n",
      "reached exception:fingertip_calibration\n",
      "reached exception:glfw.GLFW_PRESS\n",
      "reached exception:natural_features_calibration\n",
      "reached exception:calibration_methods\n",
      "reached exception:glfw.GLFW_PRESS\n",
      "reached exception:glfw.GLFW_KEY_SPACE\n",
      "reached exception:glfw.GLFW_KEY_F\n",
      "reached exception:glfw.glfwSetKeyCallback\n",
      "reached exception:fingertip_calibration\n",
      "reached exception:glfw.GLFW_PRESS\n",
      "reached exception:natural_features_calibration\n"
     ]
    }
   ],
   "source": [
    "import BLINK\n",
    "import SMOOTH\n",
    "import LARGE_GRID\n",
    "import LARGE_and_SMALL_GRID\n",
    "import FREEVIEW\n",
    "import LUM\n",
    "import MICROSACC\n",
    "import CALIBRATION"
   ]
  },
  {
   "cell_type": "markdown",
   "metadata": {},
   "source": [
    "## Which algorithm?"
   ]
  },
  {
   "cell_type": "code",
   "execution_count": 9,
   "metadata": {},
   "outputs": [],
   "source": [
    "#algorithm = 'hmmnosmooth_'\n",
    "algorithm = '' # EM-algorithm\n",
    "#algorithm = 'hmm_'"
   ]
  },
  {
   "cell_type": "markdown",
   "metadata": {},
   "source": [
    "## Load Data"
   ]
  },
  {
   "cell_type": "code",
   "execution_count": null,
   "metadata": {},
   "outputs": [
    {
     "name": "stdout",
     "output_type": "stream",
     "text": [
      "File b'/net/store/nbp/projects/etcomp/results/preprocessed/el_cleaned_samples.csv' does not exist\n",
      "2019-01-27 00:07:55 - be_load                                                           - CRITICAL - warning subject results et el not found\n",
      "File b'/net/store/nbp/projects/etcomp/results/preprocessed/pl_cleaned_samples.csv' does not exist\n",
      "2019-01-27 00:07:55 - be_load                                                           - CRITICAL - warning subject results et pl not found\n",
      "File b'/net/store/nbp/projects/etcomp/backup/preprocessed/el_cleaned_samples.csv' does not exist\n",
      "2019-01-27 00:07:55 - be_load                                                           - CRITICAL - warning subject backup et el not found\n",
      "File b'/net/store/nbp/projects/etcomp/backup/preprocessed/pl_cleaned_samples.csv' does not exist\n",
      "2019-01-27 00:07:55 - be_load                                                           - CRITICAL - warning subject backup et pl not found\n",
      "File b'/net/store/nbp/projects/etcomp/conversion.log/preprocessed/el_cleaned_samples.csv' does not exist\n",
      "2019-01-27 00:07:55 - be_load                                                           - CRITICAL - warning subject conversion.log et el not found\n",
      "File b'/net/store/nbp/projects/etcomp/conversion.log/preprocessed/pl_cleaned_samples.csv' does not exist\n",
      "2019-01-27 00:07:55 - be_load                                                           - CRITICAL - warning subject conversion.log et pl not found\n",
      "File b'/net/store/nbp/projects/etcomp/compress_videos.sh/preprocessed/el_cleaned_samples.csv' does not exist\n",
      "2019-01-27 00:07:55 - be_load                                                           - CRITICAL - warning subject compress_videos.sh et el not found\n",
      "File b'/net/store/nbp/projects/etcomp/compress_videos.sh/preprocessed/pl_cleaned_samples.csv' does not exist\n",
      "2019-01-27 00:07:55 - be_load                                                           - CRITICAL - warning subject compress_videos.sh et pl not found\n",
      "slope:1.0001080144, intercept:0.0154277443\n",
      "slope:1.0001088365, intercept:-0.0006045938\n",
      "slope:1.0001094652, intercept:0.0100695956\n",
      "slope:1.0001084202, intercept:0.0049495730\n",
      "slope:1.0001091380, intercept:0.0007877272\n",
      "slope:1.0001095884, intercept:-0.0003106919\n",
      "slope:1.0001095380, intercept:-0.0000707670\n",
      "slope:1.0001091416, intercept:0.0527241449\n",
      "slope:1.0001087412, intercept:-0.0029063672\n",
      "slope:1.0001080893, intercept:0.0057557544\n",
      "slope:1.0001084484, intercept:0.0542136707\n",
      "slope:1.0001089557, intercept:0.0046633605\n"
     ]
    }
   ],
   "source": [
    "(etsamples,etmsgs,etevents) = be_load.load_data(algorithm=algorithm)"
   ]
  },
  {
   "cell_type": "code",
   "execution_count": null,
   "metadata": {},
   "outputs": [],
   "source": [
    "print(etsamples.subject.unique())\n",
    "print(\"There are %i subjects\"%(etsamples.subject.unique().shape))"
   ]
  },
  {
   "cell_type": "code",
   "execution_count": null,
   "metadata": {},
   "outputs": [],
   "source": [
    "(ggplot(etsamples.query(\"(subject=='VP2'&smpl_time>1050&smpl_time<1050+30) | (subject=='VP4'&smpl_time>50 & smpl_time<(50+7))\"),aes(x=\"smpl_time\",y=\"gx\",color=\"type\"))\n",
    " +geom_point()\n",
    " +facet_grid(\"eyetracker~subject\",scales=\"free_x\")\n",
    "+ theme(figure_size=((total_panel_width * (4/5)),(total_panel_width * (1/5)) * (4/3))))"
   ]
  },
  {
   "cell_type": "code",
   "execution_count": null,
   "metadata": {},
   "outputs": [],
   "source": [
    "(ggplot(etsamples.query(\"(subject=='VP2'&smpl_time>1057&smpl_time<1057+7) | (subject=='VP4'&smpl_time>50 & smpl_time<(50+7))\"),aes(x=\"smpl_time\",y=\"gx\",color=\"type\"))\n",
    " +geom_point()\n",
    " +facet_grid(\"eyetracker~subject\",scales=\"free_x\")\n",
    "+ theme(figure_size=((total_panel_width * (4/5)),(total_panel_width * (1/5)) * (4/3))))"
   ]
  },
  {
   "cell_type": "markdown",
   "metadata": {},
   "source": [
    "## Interlude, check delay"
   ]
  },
  {
   "cell_type": "code",
   "execution_count": null,
   "metadata": {},
   "outputs": [],
   "source": [
    "etmsgs_regress = etmsgs[etmsgs.exp_event.notnull()]"
   ]
  },
  {
   "cell_type": "code",
   "execution_count": null,
   "metadata": {},
   "outputs": [],
   "source": [
    "tmp =etmsgs_regress.query('subject==\"VP3\"&condition!=\"Connect\"').loc[:,['msg_time','eyetracker','exp_event','condition']]\n",
    "tmp[\"id2\"] = tmp.groupby(\"eyetracker\").msg_time.rank(method='first')"
   ]
  },
  {
   "cell_type": "code",
   "execution_count": null,
   "metadata": {},
   "outputs": [],
   "source": [
    "tmp = etsamples.query('subject==\"VP2\"')"
   ]
  },
  {
   "cell_type": "code",
   "execution_count": null,
   "metadata": {},
   "outputs": [],
   "source": [
    "from functions.detect_saccades import interpolate_gaze\n",
    "\n",
    "def wrapper_interpolate2(x,fs=500):\n",
    "    #print(\"working on subject:%s\"%(x.iloc[0]['subject']))\n",
    "    \n",
    "    tmp = interpolate_gaze(x,fs=fs)\n",
    "    tmp.loc[tmp.is_blink!=0,['gx','gy']] = 0\n",
    "    #tmp.loc[:,\"eyetracker\"] = x.iloc[0]['eyetracker']\n",
    "    #tmp.loc[:,\"subject\"] = x.iloc[0]['subject']\n",
    "    return(tmp)"
   ]
  },
  {
   "cell_type": "code",
   "execution_count": null,
   "metadata": {},
   "outputs": [],
   "source": [
    "timeselect = '&smpl_time>1500&smpl_time<1550'"
   ]
  },
  {
   "cell_type": "code",
   "execution_count": null,
   "metadata": {},
   "outputs": [],
   "source": [
    "etdat = wrapper_interpolate2(tmp.query('eyetracker==\"el\"'+timeselect)).dropna(axis=0).gx\n",
    "pldat = wrapper_interpolate2(tmp.query('eyetracker==\"pl\"'+timeselect)).dropna(axis=0).gx"
   ]
  },
  {
   "cell_type": "code",
   "execution_count": null,
   "metadata": {},
   "outputs": [],
   "source": [
    "xcorr = np.correlate(etdat,pldat,'full')"
   ]
  },
  {
   "cell_type": "code",
   "execution_count": null,
   "metadata": {},
   "outputs": [],
   "source": [
    "plt.plot(xcorr)"
   ]
  },
  {
   "cell_type": "code",
   "execution_count": null,
   "metadata": {},
   "outputs": [],
   "source": [
    "print('%i,%i'%(len(pldat)+1,np.argmax(xcorr)))"
   ]
  },
  {
   "cell_type": "markdown",
   "metadata": {},
   "source": [
    "## Check durations of grid"
   ]
  },
  {
   "cell_type": "code",
   "execution_count": null,
   "metadata": {},
   "outputs": [],
   "source": [
    "import MISC\n",
    "grid_duration = MISC.grid_duration(etmsgs)"
   ]
  },
  {
   "cell_type": "code",
   "execution_count": null,
   "metadata": {},
   "outputs": [],
   "source": [
    "print('Grids occured at: \\n Small grid before: \\t %.1fs [95%%range: %.1fs - %.1fs] \\n Small grid after:\\t %.1fs [95%%range: %.1fs - %.1fs]'%tuple(grid_duration.loc['el',['grid_time_before','grid_time_after']].values))"
   ]
  },
  {
   "cell_type": "markdown",
   "metadata": {},
   "source": [
    "## Continue loading data"
   ]
  },
  {
   "cell_type": "code",
   "execution_count": null,
   "metadata": {},
   "outputs": [],
   "source": [
    "if algorithm == 'hmm':\n",
    "    # hmm has a very low threshold to detect smooth pursuit. We therefore use for the grid the nosmooth run of hmm\n",
    "    (etsamples_grid,etmsgs_grid,etevents_grid) = be_load.load_data(algorithm='hmmnosmooth_')\n",
    "else:\n",
    "    # in all other cases, the '..._grid' is an alias\n",
    "    etsamples_grid = etsamples\n",
    "    etmsgs_grid = etmsgs\n",
    "    etevents_grid = etevents"
   ]
  },
  {
   "cell_type": "code",
   "execution_count": null,
   "metadata": {},
   "outputs": [],
   "source": [
    "namelist = [\"large_grid\",\"blink\",\"smooth\",\"microsaccade\",\"lum\",\"lum_binned\",\"freeviewing\",\"all_grids\",\"tilt\",\"shake\",\"raw_fix_count_df\"]\n",
    "\n",
    "if 1==0:\n",
    "    raw_large_grid_df = condition_df.get_condition_df(data=(etsamples_grid,etmsgs_grid,etevents_grid),condition='LARGE_GRID')\n",
    "\n",
    "    blink= condition_df.get_condition_df(data=(etsamples,etmsgs,etevents),condition=\"BLINK\")\n",
    "\n",
    "    smooth = condition_df.get_condition_df(data=(etsamples,etmsgs,etevents),condition=\"SMOOTHPURSUIT\")\n",
    "\n",
    "    microsaccades = MICROSACC.detect_microsaccades(etsamples=etsamples,etmsgs=etmsgs,etevents=etevents)\n",
    "    \n",
    "    all_lum = LUM.process_lum(etsamples,etmsgs)\n",
    "    all_lum_binned = LUM.bin_lum(all_lum)\n",
    "\n",
    "    # Freeviewing\n",
    "    raw_freeview_df, raw_fix_count_df = condition_df.get_condition_df(data=(etsamples_grid,etmsgs_grid,etevents_grid), condition='FREEVIEW') # loads the detection where all smooth pursuits are defined as fixations\n",
    "\n",
    "    raw_all_grids_df = condition_df.get_condition_df(data=(etsamples_grid,etmsgs_grid,etevents_grid), condition='LARGE_and_SMALL_GRID')\n",
    "\n",
    "    tilt = condition_df.get_condition_df(data=(etsamples,etmsgs,etevents),condition='TILT')\n",
    "    shake = condition_df.get_condition_df(data=(etsamples,etmsgs,etevents),condition='SHAKE')\n",
    "    datalist = [raw_large_grid_df,blink,smooth,microsaccades,all_lum,all_lum_binned,raw_freeview_df,raw_all_grids_df,tilt,shake,raw_fix_count_df]\n",
    "    [dat.to_csv('/net/store/nbp/projects/etcomp/results/'+name+'.csv') for dat,name in zip(datalist,namelist)]\n",
    "else:\n",
    "    dataname = [\"raw_large_grid_df\",\"blink\",\"smooth\",\"microsaccades\",\"all_lum\",\"all_lum_binned\",\"raw_freeview_df\",\"raw_fix_count_df\",\"raw_all_grids_df\",\"tilt\",\"shake\"]\n",
    "    for ix,name in  enumerate(namelist):\n",
    "        print('loading '+name)\n",
    "        exec(dataname[ix] +\"= pd.read_csv('/net/store/nbp/projects/etcomp/results/'+name+'.csv')\")"
   ]
  },
  {
   "cell_type": "markdown",
   "metadata": {},
   "source": [
    "# Calibration Accuracy"
   ]
  },
  {
   "cell_type": "markdown",
   "metadata": {},
   "source": [
    "## Load Data"
   ]
  },
  {
   "cell_type": "code",
   "execution_count": null,
   "metadata": {},
   "outputs": [],
   "source": [
    "err = pd.DataFrame()\n",
    "\n",
    "for subject in etsamples.subject.unique():\n",
    "    err = pd.concat([err,CALIBRATION.pl_accuracy(subject),CALIBRATION.el_accuracy(subject)],ignore_index=True)\n",
    "err.loc[:,'avg'] = err.avg.astype(float)\n",
    "err.loc[:,'msg_time'] = err.msg_time.astype(float) "
   ]
  },
  {
   "cell_type": "code",
   "execution_count": null,
   "metadata": {},
   "outputs": [],
   "source": [
    "err.head()"
   ]
  },
  {
   "cell_type": "code",
   "execution_count": null,
   "metadata": {},
   "outputs": [],
   "source": [
    "MISC.print_results(err,fields = ['avg'],round_to=2, agg_first_over_blocks=False)"
   ]
  },
  {
   "cell_type": "code",
   "execution_count": null,
   "metadata": {},
   "outputs": [],
   "source": [
    "err.subject.unique()"
   ]
  },
  {
   "cell_type": "markdown",
   "metadata": {},
   "source": [
    "## Results"
   ]
  },
  {
   "cell_type": "markdown",
   "metadata": {},
   "source": [
    "In order to make nice plot panels, we have to set the size of the plots in a consistent manner.\n",
    "\n",
    "In the following cell you can change the total standard with of the panels.\n",
    "\n",
    "All plots will be scaled accordingly."
   ]
  },
  {
   "cell_type": "code",
   "execution_count": null,
   "metadata": {},
   "outputs": [],
   "source": [
    "from functions.et_helper import winmean_cl_boot\n",
    "err.loc[:,'block'] = err.groupby(['subject','eyetracker']).cumcount()\n",
    "err.loc[:,'group'] = err.subject + err.block.astype('str')\n",
    "p_calib = (ggplot(err,aes(x=\"eyetracker\",y=\"avg\"))\n",
    "               + geom_jitter(width=0.2,alpha=0.8, color='lightblue')\n",
    "               #+geom_point(aes(group='group'),position=position_jitter(width=0.1),alpha=0.8,color='lightblue')\n",
    "               #+geom_line(aes(group='group'),position=position_jitter(width=0.1),color='lightblue')\n",
    "               + geom_hline(yintercept=[0.5,1.5], color='grey')\n",
    "               + stat_summary(fun_data=winmean_cl_boot))\n"
   ]
  },
  {
   "cell_type": "code",
   "execution_count": null,
   "metadata": {},
   "outputs": [],
   "source": [
    "p_calib + expand_limits(y=0)+ theme(figure_size=((total_panel_width * (1/5)),(total_panel_width * (1/5)) * (2/3)))"
   ]
  },
  {
   "cell_type": "code",
   "execution_count": null,
   "metadata": {},
   "outputs": [],
   "source": [
    " (ggplot(err,aes(x=\"subject\",y=\"avg\",color='eyetracker'))\n",
    "               + geom_jitter(width=0.1)\n",
    "               #+geom_point(aes(group='group'),position=position_jitter(width=0.1),alpha=0.8,color='lightblue')\n",
    "               #+geom_line(aes(group='group'),position=position_jitter(width=0.1),color='lightblue')\n",
    "               + geom_hline(yintercept=[0.5,1.5], color='grey')\n",
    "               #+ stat_summary(fun_data=winmean_cl_boot)\n",
    " )+expand_limits(y=0)+  theme(figure_size=((total_panel_width * (3/10)),(total_panel_width * (1/5)) * (2/3)))\n"
   ]
  },
  {
   "cell_type": "markdown",
   "metadata": {},
   "source": [
    "# Large Grid"
   ]
  },
  {
   "cell_type": "markdown",
   "metadata": {},
   "source": [
    "## Methods"
   ]
  },
  {
   "cell_type": "markdown",
   "metadata": {},
   "source": [
    "#### Single Trial view"
   ]
  },
  {
   "cell_type": "code",
   "execution_count": null,
   "metadata": {},
   "outputs": [],
   "source": [
    "#%matplotlib ipympl\n",
    "from functions import et_helper\n",
    "et_helper.plot_around_event(etsamples_grid,etmsgs_grid,etevents_grid,raw_large_grid_df.query(\"eyetracker=='pl'&subject=='VP4'&block=='1'\").iloc[5],plusminus=(-2,5))\n"
   ]
  },
  {
   "cell_type": "code",
   "execution_count": null,
   "metadata": {},
   "outputs": [],
   "source": [
    "#%matplotlib ipympl\n",
    "et_helper.plot_around_event(etsamples_grid,etmsgs_grid,etevents_grid,raw_large_grid_df.query(\"eyetracker=='el'&subject=='VP11'&block=='6'\").iloc[9],plusminus=(-2,5))"
   ]
  },
  {
   "cell_type": "code",
   "execution_count": null,
   "metadata": {},
   "outputs": [],
   "source": [
    "%matplotlib inline"
   ]
  },
  {
   "cell_type": "markdown",
   "metadata": {},
   "source": [
    "## Results"
   ]
  },
  {
   "cell_type": "markdown",
   "metadata": {},
   "source": [
    "#### Accuracy Table"
   ]
  },
  {
   "cell_type": "code",
   "execution_count": null,
   "metadata": {},
   "outputs": [],
   "source": [
    "LARGE_GRID.make_table_accuracy_winmean(raw_large_grid_df)"
   ]
  },
  {
   "cell_type": "code",
   "execution_count": null,
   "metadata": {},
   "outputs": [],
   "source": [
    "LARGE_GRID.make_table_accuracy(raw_large_grid_df)"
   ]
  },
  {
   "cell_type": "markdown",
   "metadata": {},
   "source": [
    "## The sampling rates of the eye trackers"
   ]
  },
  {
   "cell_type": "code",
   "execution_count": null,
   "metadata": {},
   "outputs": [],
   "source": [
    "bins = 1/np.linspace(600,50,50)\n",
    "bincentres = [(bins[i]+bins[i+1])/2. for i in range(len(bins)-1)]"
   ]
  },
  {
   "cell_type": "code",
   "execution_count": null,
   "metadata": {},
   "outputs": [],
   "source": [
    "tmp = etsamples.groupby([\"eyetracker\",\"subject\"]).apply(lambda x: pd.DataFrame(data={'bin':bincentres,'n':np.histogram(np.diff(x.smpl_time),bins=bins)[0]}))"
   ]
  },
  {
   "cell_type": "code",
   "execution_count": null,
   "metadata": {},
   "outputs": [],
   "source": [
    "ggplot(tmp.reset_index(),aes(x=\"1/bin\",y=\"n\",color=\"eyetracker\"))+geom_point()"
   ]
  },
  {
   "cell_type": "markdown",
   "metadata": {},
   "source": [
    "### Why the sampling rate of pupil labs is not really 240Hz (2x120Hz)\n",
    "The sampling rates _seem_ fine, but this is due to their fusion algorithm. They simply enforce this sampling frequencies. In order to find \"true\" sampling frequencies, one needs to look at the pupil data which we do for one exemplary subject"
   ]
  },
  {
   "cell_type": "code",
   "execution_count": null,
   "metadata": {},
   "outputs": [],
   "source": [
    "from functions.et_import import raw_pl_data\n"
   ]
  },
  {
   "cell_type": "code",
   "execution_count": null,
   "metadata": {},
   "outputs": [],
   "source": [
    "def fs_get_ts(subject):\n",
    "    tmp_dat = raw_pl_data(subject=subject)\n",
    "    ts_0 = [p['timestamp'] for p in tmp_dat[\"pupil_positions\"] if p[\"id\"]==0]\n",
    "    ts_1 = [p['timestamp'] for p in tmp_dat[\"pupil_positions\"] if p[\"id\"]==1]\n",
    "    ts_both = [p['timestamp'] for p in tmp_dat[\"pupil_positions\"]]\n",
    "    return(ts_0,ts_1,ts_both)\n",
    "def hist_samplingrate(ts,plot=False):\n",
    "    bins = 1/np.linspace(1000,50,100)\n",
    "    bins = np.linspace(0.001,0.01,100)\n",
    "    bincentres = np.array([(bins[i]+bins[i+1])/2. for i in range(len(bins)-1)])\n",
    "    \n",
    "    h = np.histogram(np.diff(np.sort(ts)),bins=bins)\n",
    "    \n",
    "    if plot:\n",
    "        plt.plot(1/bincentres,h[0],'o-')\n",
    "    else:\n",
    "            return(h,bincentres)"
   ]
  },
  {
   "cell_type": "code",
   "execution_count": null,
   "metadata": {},
   "outputs": [],
   "source": [
    "ts_0,ts_1,ts_both = fs_get_ts(\"VP24\")\n",
    "hist_samplingrate(ts_0,plot=True)\n",
    "hist_samplingrate(ts_1,plot=True)\n",
    "hist_samplingrate(ts_both,plot=True)\n",
    "plt.legend(['eye=0','eye=1','both eyes'])"
   ]
  },
  {
   "cell_type": "code",
   "execution_count": null,
   "metadata": {},
   "outputs": [],
   "source": [
    "fs_all_sub = pd.DataFrame()\n",
    "for subject in etmsgs.subject.unique():\n",
    "    print(\"running subject {}\".format(subject))\n",
    "    ts_0,ts_1,ts_both = fs_get_ts(subject)\n",
    "    h,bincentres = hist_samplingrate(ts_both)\n",
    "    fs_all_sub = pd.concat([fs_all_sub,pd.DataFrame({'bins':bincentres,'n':h[0],'subject':subject})])"
   ]
  },
  {
   "cell_type": "code",
   "execution_count": null,
   "metadata": {},
   "outputs": [],
   "source": [
    "ggplot(fs_all_sub,aes(x=\"bins\",y=\"n\",color=\"subject\"))+geom_point()+geom_vline(xintercept=1/240)\n",
    "#+xlim([110,700])"
   ]
  },
  {
   "cell_type": "markdown",
   "metadata": {},
   "source": [
    "Why do we have two \"sampling-rates\" (sampling rate = 1/sample-distance)\n",
    "\n",
    "(not that from the above graph we see that PL single eye cameras capture very consistently at 120Hz)\n",
    "\n",
    "Image the A's and B's come from two cameras.(don't forget to recalibrate/sort your samples, pupil capture does not capture them sorted!!).\n",
    "Pupillab fuses always two consecutive samples to the \"C\" samples. The timestamp is simply C1.ts = (A1.ts + B1.ts)\n",
    "```\n",
    "A1 _ _ _ _ B1 _ _ _ _ A2_ _ _ _ B2 _ _ _ _ A3 _ _ _ _ B3 ...\n",
    "\n",
    "     C1         C2         C3         C4         C5      ...\n",
    "\n",
    "A1 _ B1 _ _ _ _ _ _ _ A2 _ B2 _ _ _ _ _ _ _A3 _ B3 _ _ _  ...\n",
    "\n",
    "  C1         C2          C3        C4        C5         ...\n",
    "```\n",
    "\n",
    "It is very clear that regardless of the actual sampling distance between the eyetrackers, we will always get an equally spaced $\\Delta T_C$. This was in a previous plot visible as the 240Hz sampling rate.\n",
    "\n",
    "But if we now look at the eye-camera wise $\\Delta A/B$, the differences in time between two consecutive samples, in the first example we would get 240Hz, but in the second example we would get a very short intersampledistance (implying short sampling rates) and a very long one (implying very long sampling rates).Thats what we see in the upper plot, the sampling rate at round 140Hz is the large gap, the sampling rate at 550Hz is the short gap.\n",
    "\n",
    "This explains why pupil labs **only seems to have 240Hz binocular but has not**\n"
   ]
  },
  {
   "cell_type": "markdown",
   "metadata": {},
   "source": [
    "### Bad fusion of the eyes"
   ]
  },
  {
   "cell_type": "code",
   "execution_count": null,
   "metadata": {},
   "outputs": [],
   "source": [
    "t0 = etmsgs.query(\"subject=='VP24'&eyetracker=='pl'&condition=='FREEVIEW'&pic_id==15\").msg_time.values-4\n",
    "td = 0.25\n",
    "\n",
    "(\n",
    "ggplot(etsamples.query(\"subject=='VP24'&eyetracker=='pl'&smpl_time<@t0+@td&smpl_time>@t0\"),aes(x=\"smpl_time\",y=\"gx\"))\n",
    "  + geom_point() \n",
    "  + ylab('gaze x-position [°]')\n",
    "  + xlab(\"time [s]\")\n",
    ")"
   ]
  },
  {
   "cell_type": "markdown",
   "metadata": {},
   "source": [
    "from this plot it is very clear, that the pupil lab eyes seem to be fused wrongly. If we take the previous insight into account, it seems as if pupil labs is somehow not correctly fusing the samples. That is, during the saccade arround 444.95 the second sample of each pair should be either more to the left (therefore taking into account that the eye samples are not captured at equal time distances (the A _ B _ _ _ A _ B _ _ _ \"rhythm\")), or they the second of each pair should be higher, thus indicating a successful fusion of the eyetrackers.\n",
    "\n",
    "It is not clear to us why this occurs. pupil labs official response to this problem is \"interpolation is not necessary using 200Hz eyetrackers\". We don't really understand this response and we don't think it is appropriate to solve this problem"
   ]
  },
  {
   "cell_type": "code",
   "execution_count": null,
   "metadata": {},
   "outputs": [],
   "source": [
    "(\n",
    "ggplot(etsamples.query(\"subject=='VP24'&eyetracker=='pl'&smpl_time<@t0+@td&smpl_time>@t0\"),aes(x=\"smpl_time\",y=\"gy\"))\n",
    "  + geom_point() \n",
    "  + ylab('gaze y-position [°]')\n",
    "  + xlab(\"time [s]\")\n",
    ")"
   ]
  },
  {
   "cell_type": "markdown",
   "metadata": {},
   "source": [
    "the y-dimension gaze shows how during the saccade along the x-dimension at ~444.95 the y-position jumps up/down for every other sample. It is unclear to us why this happens but clearly it shows bad fusion between the eye cameras."
   ]
  },
  {
   "cell_type": "markdown",
   "metadata": {},
   "source": [
    "### Written Accuracy Results"
   ]
  },
  {
   "cell_type": "code",
   "execution_count": null,
   "metadata": {},
   "outputs": [],
   "source": [
    "# evaluate only central points\n",
    "MISC.print_results(raw_large_grid_df.query(\"posx<12&posx>-12&posy>-12&posy<12\"),fields = ['duration','accuracy','rms','sd'],round_to=3)"
   ]
  },
  {
   "cell_type": "code",
   "execution_count": null,
   "metadata": {},
   "outputs": [],
   "source": [
    "MISC.print_results(raw_large_grid_df,fields = ['duration','accuracy','rms','sd'],round_to=3)"
   ]
  },
  {
   "cell_type": "markdown",
   "metadata": {},
   "source": [
    "### Duration and Duration diff"
   ]
  },
  {
   "cell_type": "code",
   "execution_count": null,
   "metadata": {},
   "outputs": [],
   "source": [
    "p_grid_dur = (ggplot(raw_large_grid_df,aes(x=\"duration\"))\n",
    "              + geom_density(aes(group='subject'),color='lightblue',alpha=0.8)\n",
    "              + geom_density(color='black',size=1)\n",
    "              + facet_grid(\"~eyetracker\")+xlim([0,5]))"
   ]
  },
  {
   "cell_type": "code",
   "execution_count": null,
   "metadata": {},
   "outputs": [],
   "source": [
    "p_grid_dur + theme(figure_size=((total_panel_width * (2/5)), (total_panel_width * (2/5)) * (2/5)))"
   ]
  },
  {
   "cell_type": "code",
   "execution_count": null,
   "metadata": {},
   "outputs": [],
   "source": [
    "def difference_function(x):\n",
    "    if x.shape[0] == 1:\n",
    "        return np.nan\n",
    "    else:\n",
    "        return np.diff(x)"
   ]
  },
  {
   "cell_type": "code",
   "execution_count": null,
   "metadata": {},
   "outputs": [],
   "source": [
    "\n",
    "diff_large_grid_df = raw_large_grid_df.groupby([\"element\",\"block\",\"subject\"],as_index=False).duration.agg(difference_function)"
   ]
  },
  {
   "cell_type": "code",
   "execution_count": null,
   "metadata": {},
   "outputs": [],
   "source": [
    "from functions import plotnine_theme\n",
    "ggplot(diff_large_grid_df,aes(x=\"duration\"))+ geom_freqpoly(color='black',size=1,binwidth=0.001)+xlim([-0.25,0.25])"
   ]
  },
  {
   "cell_type": "code",
   "execution_count": null,
   "metadata": {},
   "outputs": [],
   "source": []
  },
  {
   "cell_type": "markdown",
   "metadata": {},
   "source": [
    "This bimodal distribution of differences between eyelink and pupillabs eyetracker has it's source in catch-up saccades. They are usually quite small and pupil labs does generally not recognize them. Therefore, in most trials with catch-up saccades, eyelink has a shorter fixation duration compared to pupil labs."
   ]
  },
  {
   "cell_type": "code",
   "execution_count": null,
   "metadata": {},
   "outputs": [],
   "source": [
    "from functions.et_helper import winmean\n",
    "raw_large_grid_df.groupby([\"subject\",\"eyetracker\"],as_index=False).duration.agg(winmean).groupby(\"eyetracker\").agg(winmean)"
   ]
  },
  {
   "cell_type": "markdown",
   "metadata": {},
   "source": [
    "#### Accuracy Plots"
   ]
  },
  {
   "cell_type": "code",
   "execution_count": null,
   "metadata": {},
   "outputs": [],
   "source": [
    "p_grid_acc = LARGE_GRID.plot_accuracy(raw_large_grid_df)\n",
    "p_grid_acc + theme(figure_size=((total_panel_width * (1/5)), (total_panel_width * (1/5)) * (3/2)))"
   ]
  },
  {
   "cell_type": "code",
   "execution_count": null,
   "metadata": {},
   "outputs": [],
   "source": [
    "p_grid_rms = LARGE_GRID.plot_accuracy(raw_large_grid_df,depvar='rms')\n",
    "p_grid_rms + theme(figure_size=((total_panel_width * (1/5)), (total_panel_width * (1/5)) * (3/2)))"
   ]
  },
  {
   "cell_type": "code",
   "execution_count": null,
   "metadata": {},
   "outputs": [],
   "source": [
    "p_grid_sd = LARGE_GRID.plot_accuracy(raw_large_grid_df,depvar='sd')\n",
    "p_grid_sd + theme(figure_size=((total_panel_width * (1/5)), (total_panel_width * (1/5)) * (3/2)))"
   ]
  },
  {
   "cell_type": "markdown",
   "metadata": {},
   "source": [
    "#### Single Subject Grid"
   ]
  },
  {
   "cell_type": "code",
   "execution_count": null,
   "metadata": {},
   "outputs": [],
   "source": [
    "LARGE_GRID.display_fixations(raw_large_grid_df, option='offset',input_subject=\"VP1\",input_block='1')"
   ]
  },
  {
   "cell_type": "markdown",
   "metadata": {},
   "source": [
    "#### Grid element centered plot"
   ]
  },
  {
   "cell_type": "code",
   "execution_count": null,
   "metadata": {},
   "outputs": [],
   "source": [
    "p_grid_fixcenter = LARGE_GRID.display_fixation_centered(raw_large_grid_df)+coord_fixed(xlim=[-2,2],ylim=[-2,2])\n",
    "p_grid_fixcenter + theme(figure_size=((total_panel_width * (2/5)), (total_panel_width * (2/5)) * (1/3)))"
   ]
  },
  {
   "cell_type": "markdown",
   "metadata": {},
   "source": [
    "#### Position vs Accuracy"
   ]
  },
  {
   "cell_type": "code",
   "execution_count": null,
   "metadata": {},
   "outputs": [],
   "source": [
    "from functions.et_helper import winmean\n",
    "p_grid_ac2d=(ggplot(raw_large_grid_df.groupby(['eyetracker','posx','posy'],as_index=False).agg(winmean),aes(x=\"posx\",y=\"posy\",size=\"accuracy\"))\n",
    " +geom_point()\n",
    " +facet_wrap(\"~eyetracker\",ncol=1)\n",
    "+coord_fixed()\n",
    "+scale_size_continuous(breaks=[0.25,0.5,0.75,1]))"
   ]
  },
  {
   "cell_type": "code",
   "execution_count": null,
   "metadata": {},
   "outputs": [],
   "source": [
    "p_grid_ac2d  + theme(figure_size=((total_panel_width * (3/10)), (total_panel_width * (3/10))))"
   ]
  },
  {
   "cell_type": "code",
   "execution_count": null,
   "metadata": {},
   "outputs": [],
   "source": [
    "raw_large_grid_df.loc[:,'posXY'] = raw_large_grid_df.posx.astype('str') +  raw_large_grid_df.posy.astype('str')"
   ]
  },
  {
   "cell_type": "code",
   "execution_count": null,
   "metadata": {},
   "outputs": [],
   "source": [
    "p_grid_tdist=(ggplot(raw_large_grid_df,aes(x=\"mean_gx\",y=\"mean_gy\",group=\"posXY\"))\n",
    " +stat_ellipse(type='t',level=0.95)\n",
    " +facet_wrap(\"~eyetracker\",ncol=1)\n",
    "+coord_fixed())\n",
    "#+scale_size_continuous(range=[0.1,5],breaks=[0.25,0.5,0.75,1,1.25,1.5]))"
   ]
  },
  {
   "cell_type": "code",
   "execution_count": null,
   "metadata": {},
   "outputs": [],
   "source": [
    "p_grid_tdist  + theme(figure_size=((total_panel_width * (3/10)), (total_panel_width * (3/10))))"
   ]
  },
  {
   "cell_type": "code",
   "execution_count": null,
   "metadata": {},
   "outputs": [],
   "source": [
    "p_grid_rms2d=(ggplot(raw_large_grid_df.groupby(['eyetracker','posx','posy'],as_index=False).agg(winmean),aes(x=\"posx\",y=\"posy\",size=\"rms\"))\n",
    " +geom_point()\n",
    " +facet_wrap(\"~eyetracker\",ncol=1)\n",
    " +scale_size_area(breaks=[0.025,0.05,0.075,0.1,0.125])\n",
    "\n",
    " +coord_fixed())"
   ]
  },
  {
   "cell_type": "code",
   "execution_count": null,
   "metadata": {},
   "outputs": [],
   "source": [
    "p_grid_rms2d + theme(figure_size=((total_panel_width * (3/10)), (total_panel_width * (3/10))))"
   ]
  },
  {
   "cell_type": "code",
   "execution_count": null,
   "metadata": {},
   "outputs": [],
   "source": [
    "p_grid_sd2d=(ggplot(raw_large_grid_df.groupby(['eyetracker','posx','posy'],as_index=False).agg(winmean),aes(x=\"posx\",y=\"posy\",size=\"sd\"))\n",
    " +geom_point()\n",
    " +facet_wrap(\"~eyetracker\",ncol=1)\n",
    " +scale_size_area(breaks=[0.15,0.2,0.25,0.3,0.45])\n",
    " +coord_fixed())"
   ]
  },
  {
   "cell_type": "code",
   "execution_count": null,
   "metadata": {},
   "outputs": [],
   "source": [
    "p_grid_sd2d + theme(figure_size=((total_panel_width * (3/10)), (total_panel_width * (3/10))))"
   ]
  },
  {
   "cell_type": "markdown",
   "metadata": {},
   "source": [
    "#### Engbert vs. HMM\n",
    "This can be thought of a precursor to compare different pupillabs detection algorithms e.g. (3D vs 2D)"
   ]
  },
  {
   "cell_type": "markdown",
   "metadata": {},
   "source": [
    "if algorithm == '':\n",
    "    etsamples_engbert = etsamples\n",
    "    etmsgs_engbert = etmsgs\n",
    "    etevents_engbert = etevents\n",
    "    raw_large_grid_df_engbert = raw_large_grid_df\n",
    "    \n",
    "    (etsamples_hmm,etmsgs_hmm,etevents_hmm) = be_load.load_data(algorithm='hmmnosmooth_')\n",
    "    raw_large_grid_df_hmm = condition_df.get_condition_df(data=(etsamples_hmm,etmsgs_hmm,etevents_hmm),condition='LARGE_GRID')\n",
    "else:\n",
    "    etsamples_hmm = etsamples\n",
    "    etmsgs_hmm = etmsgs\n",
    "    etevents_hmm = etevents\n",
    "    raw_large_grid_df_hmm = raw_large_grid_df\n",
    "    \n",
    "    (etsamples_engbert,etmsgs_engbert,etevents_engbert) = be_load.load_data(algorithm='')\n",
    "    raw_large_grid_df_engbert = condition_df.get_condition_df(data=(etsamples_engbert,etmsgs_engbert,etevents_engbert),condition='LARGE_GRID')"
   ]
  },
  {
   "cell_type": "markdown",
   "metadata": {},
   "source": [
    "GRID_accuracy_table = pd.concat(\n",
    "    [LARGE_GRID.make_table_accuracy_winmean(raw_large_grid_df_hmm).assign(    algorithm='hmm_nosmooth'),\n",
    "     LARGE_GRID.make_table_accuracy_winmean(raw_large_grid_df_engbert).assign(algorithm='engbert'     )])\n",
    "GRID_accuracy_table"
   ]
  },
  {
   "cell_type": "markdown",
   "metadata": {},
   "source": [
    "## Statistical Model Tests (Beta)"
   ]
  },
  {
   "cell_type": "code",
   "execution_count": null,
   "metadata": {},
   "outputs": [],
   "source": [
    "%load_ext rpy2.ipython\n",
    "%Rpush raw_large_grid_df"
   ]
  },
  {
   "cell_type": "code",
   "execution_count": null,
   "metadata": {},
   "outputs": [],
   "source": [
    "%%R\n",
    "library(lme4)\n",
    "raw_large_grid_df$et = factor(raw_large_grid_df$et)\n",
    "contrasts(raw_large_grid_df$et)=c(-0.5,0.5)\n",
    "mres <- lmer(accuracy ~ 1+et +  ( 1 + et | subject/block ) ,data = raw_large_grid_df)\n",
    "summary(mres)"
   ]
  },
  {
   "cell_type": "code",
   "execution_count": null,
   "metadata": {},
   "outputs": [],
   "source": [
    "%%R\n",
    "#this cell takes very long to run!\n",
    "\n",
    "#library(robustlmm)\n",
    "#rmres <- rlmer(accuracy ~ 1+et +  ( 1 + et | subject/block ) ,data = raw_large_grid_df,verbose=0)\n",
    "#summary(rmres)"
   ]
  },
  {
   "cell_type": "markdown",
   "metadata": {},
   "source": [
    "## Supplementary"
   ]
  },
  {
   "cell_type": "code",
   "execution_count": null,
   "metadata": {},
   "outputs": [],
   "source": [
    "# investigate on the position and properties of detected fixations\n",
    "LARGE_GRID.display_fixations(raw_large_grid_df, option='fixations')"
   ]
  },
  {
   "cell_type": "markdown",
   "metadata": {},
   "source": [
    "# Blinks"
   ]
  },
  {
   "cell_type": "code",
   "execution_count": null,
   "metadata": {},
   "outputs": [],
   "source": [
    "blink.duration = blink.end_time - blink.start_time\n",
    "\n",
    "blink.query(\"duration==0\").shape # number of blinks removed because they have duration 0"
   ]
  },
  {
   "cell_type": "code",
   "execution_count": null,
   "metadata": {},
   "outputs": [],
   "source": [
    "blink = blink.query(\"duration>0\") # this removes the eyelin wrong blinks, they are in there since importing the data"
   ]
  },
  {
   "cell_type": "markdown",
   "metadata": {},
   "source": [
    "## Results"
   ]
  },
  {
   "cell_type": "markdown",
   "metadata": {},
   "source": [
    "#### Number of Blinks"
   ]
  },
  {
   "cell_type": "code",
   "execution_count": null,
   "metadata": {},
   "outputs": [],
   "source": [
    "p_blink_count = BLINK.plot_count(blink)"
   ]
  },
  {
   "cell_type": "code",
   "execution_count": null,
   "metadata": {},
   "outputs": [],
   "source": [
    "p_blink_count + theme(figure_size=((total_panel_width * (1/5)), (total_panel_width * (1/5)  * (11/13))))"
   ]
  },
  {
   "cell_type": "markdown",
   "metadata": {},
   "source": [
    "#### Duration of Blinks"
   ]
  },
  {
   "cell_type": "code",
   "execution_count": null,
   "metadata": {},
   "outputs": [],
   "source": [
    "p_blink_dur = BLINK.plot_duration(blink)"
   ]
  },
  {
   "cell_type": "code",
   "execution_count": null,
   "metadata": {},
   "outputs": [],
   "source": [
    "p_blink_dur + theme(figure_size=((total_panel_width * (1/5)), (total_panel_width * (1/5)  * (11/13))))"
   ]
  },
  {
   "cell_type": "markdown",
   "metadata": {},
   "source": [
    "# Smooth Pursuit"
   ]
  },
  {
   "cell_type": "markdown",
   "metadata": {},
   "source": [
    "## Load Smooth Data"
   ]
  },
  {
   "cell_type": "code",
   "execution_count": null,
   "metadata": {},
   "outputs": [],
   "source": [
    "# this loads the bayesian model results\n",
    "cfg = {'redo':False} # should be specified in the beginning of the notebook\n",
    "if cfg['redo']:\n",
    "    smoothresult = SMOOTH.fit_bayesian_model(etsamples,etmsgs,etevents)\n",
    "    SMOOTH.save_smooth(smoothresult)\n",
    "else:\n",
    "    smoothresult = SMOOTH.load_smooth()"
   ]
  },
  {
   "cell_type": "markdown",
   "metadata": {},
   "source": [
    "## Methods"
   ]
  },
  {
   "cell_type": "markdown",
   "metadata": {},
   "source": [
    "The model: Changepoint $\\tau$ with  $pos  = \\beta_{const}$ if $t<\\tau$ and $pos = \\beta_{const} + time * \\beta_{velocity}$ if $t>=\\tau$"
   ]
  },
  {
   "cell_type": "markdown",
   "metadata": {},
   "source": [
    "#### Single Trial Modelfit"
   ]
  },
  {
   "cell_type": "code",
   "execution_count": null,
   "metadata": {},
   "outputs": [],
   "source": [
    "smooth_stanmodel = SMOOTH.compileModel() # to facilitate plotting "
   ]
  },
  {
   "cell_type": "code",
   "execution_count": null,
   "metadata": {},
   "outputs": [],
   "source": [
    "#%matplotlib ipympl\n",
    "plt.rcParams['figure.figsize'] = [(total_panel_width * (2/5)), (total_panel_width * (2/5)) * (3/4)]\n",
    "plt.figure()"
   ]
  },
  {
   "cell_type": "code",
   "execution_count": null,
   "metadata": {},
   "outputs": [],
   "source": [
    "fitA = SMOOTH.plot_single_trial(etsamples,etmsgs,None,'VP23','el',10,3,smooth_stanmodel)\n",
    "fitB = SMOOTH.plot_single_trial(etsamples,etmsgs,None,'VP23','pl',10,3,smooth_stanmodel)"
   ]
  },
  {
   "cell_type": "code",
   "execution_count": null,
   "metadata": {},
   "outputs": [],
   "source": [
    "fitB = SMOOTH.plot_single_trial(etsamples,etmsgs,None,'VP3','el',15,5,smooth_stanmodel)"
   ]
  },
  {
   "cell_type": "markdown",
   "metadata": {},
   "source": [
    "Main Results follow. First latency, then estimated velocity"
   ]
  },
  {
   "cell_type": "markdown",
   "metadata": {},
   "source": [
    "## Results"
   ]
  },
  {
   "cell_type": "markdown",
   "metadata": {},
   "source": [
    "#### Initial Latency"
   ]
  },
  {
   "cell_type": "code",
   "execution_count": null,
   "metadata": {},
   "outputs": [],
   "source": [
    "import SMOOTH\n",
    "\n",
    "p_smooth_tau = SMOOTH.plot_modelresults(smoothresult,field=\"taumean\",option=\"\")\n",
    "p_smooth_tau + theme(figure_size=((total_panel_width * (1/5)), (total_panel_width * (1/5)) * (3/2)))"
   ]
  },
  {
   "cell_type": "markdown",
   "metadata": {},
   "source": [
    "#### Velocity"
   ]
  },
  {
   "cell_type": "code",
   "execution_count": null,
   "metadata": {},
   "outputs": [],
   "source": [
    "p_smooth_vel = SMOOTH.plot_modelresults(smoothresult,field=\"velomean\",option=\"\")\n",
    "p_smooth_vel + theme(figure_size=((total_panel_width * (1/5)), (total_panel_width * (1/5)) * (3/2)))"
   ]
  },
  {
   "cell_type": "code",
   "execution_count": null,
   "metadata": {},
   "outputs": [],
   "source": [
    "tmp = smoothresult.dropna(subset = ['velomean', 'taumean']).drop([\"level_2\",'0','summary'],axis=1)"
   ]
  },
  {
   "cell_type": "code",
   "execution_count": null,
   "metadata": {},
   "outputs": [],
   "source": [
    "MISC.print_results(tmp, fields = ['taumean'], agg_first_over_blocks=True,round_to=3)"
   ]
  },
  {
   "cell_type": "code",
   "execution_count": null,
   "metadata": {},
   "outputs": [],
   "source": [
    "MISC.print_results(tmp, fields = ['velomean'], agg_first_over_blocks=True,round_to=1)"
   ]
  },
  {
   "cell_type": "markdown",
   "metadata": {},
   "source": [
    "#### Catchup Saccade Amplitudes"
   ]
  },
  {
   "cell_type": "code",
   "execution_count": null,
   "metadata": {},
   "outputs": [],
   "source": [
    "p_smooth_catchup = SMOOTH.plot_catchup_amplitudes(smooth)+expand_limits(y = 0)\n",
    "p_smooth_catchup + theme(figure_size=((total_panel_width * (1/5)), (total_panel_width * (1/5)) * (3/2)))"
   ]
  },
  {
   "cell_type": "code",
   "execution_count": null,
   "metadata": {},
   "outputs": [],
   "source": [
    "exec('smooth' +\"= pd.read_csv('/net/store/nbp/projects/etcomp/results/smooth.csv')\")"
   ]
  },
  {
   "cell_type": "code",
   "execution_count": null,
   "metadata": {},
   "outputs": [],
   "source": [
    "smooth_saccade = smooth.query(\"type=='saccade'       & condition=='SMOOTH' & exp_event=='trialstart'\") \n",
    "smooth_saccade = smooth_saccade.groupby([\"subject\",\"et\",\"block\",'trial',\"angle\",\"vel\"],as_index=False).agg({'amplitude':sum,'duration':sum})\n",
    "smooth_saccade_agg = smooth_saccade.groupby([\"subject\",\"et\",\"block\",\"angle\",\"vel\"],as_index=False).agg({'amplitude':et_helper.winmean,'duration':et_helper.winmean})\n",
    "smooth_saccade_agg_agg = smooth_saccade_agg.groupby([\"subject\",\"et\",\"angle\",\"vel\"],as_index=False).agg({'amplitude':et_helper.winmean,'duration':et_helper.winmean})\n",
    "    "
   ]
  },
  {
   "cell_type": "code",
   "execution_count": null,
   "metadata": {},
   "outputs": [],
   "source": [
    "ggplot(smooth_saccade_agg_agg,aes(x=\"vel\",y=\"amplitude\"))+stat_summary()+facet_wrap(\"et\")"
   ]
  },
  {
   "cell_type": "code",
   "execution_count": null,
   "metadata": {},
   "outputs": [],
   "source": [
    "ggplot(smooth_saccade_agg_agg,aes(x=\"angle\",y=\"amplitude\",color=\"vel\",group=\"vel\"))+stat_smooth(se=False)+facet_wrap(\"et\")"
   ]
  },
  {
   "cell_type": "code",
   "execution_count": null,
   "metadata": {},
   "outputs": [],
   "source": [
    "ggplot(smooth_saccade_agg_agg,aes(x=\"angle\",y=\"duration\",color=\"vel\",group=\"vel\"))+stat_smooth(se=False)+facet_wrap(\"et\")"
   ]
  },
  {
   "cell_type": "markdown",
   "metadata": {},
   "source": [
    "# Microsaccades"
   ]
  },
  {
   "cell_type": "markdown",
   "metadata": {},
   "source": [
    "## Results"
   ]
  },
  {
   "cell_type": "code",
   "execution_count": null,
   "metadata": {},
   "outputs": [],
   "source": [
    "ggplot(microsaccades,aes(x='amplitude'))+geom_freqpoly()"
   ]
  },
  {
   "cell_type": "code",
   "execution_count": null,
   "metadata": {},
   "outputs": [],
   "source": [
    "# 6 blocks x 20s\n",
    "p_microsacc_rate = MICROSACC.plot_default(microsaccades,subtype=\"count/(6*20)\")+ylab(\"microsaccaderate [1/s]\")\n",
    "p_microsacc_rate + theme(figure_size=((total_panel_width * (1/5)), (total_panel_width * (1/5)) * (3/2)))"
   ]
  },
  {
   "cell_type": "code",
   "execution_count": null,
   "metadata": {},
   "outputs": [],
   "source": [
    "p_microsacc_amp = MICROSACC.plot_default(microsaccades,subtype=\"amplitude winmean\")"
   ]
  },
  {
   "cell_type": "code",
   "execution_count": null,
   "metadata": {},
   "outputs": [],
   "source": [
    "p_microsacc_amp +expand_limits(y=0)+ theme(figure_size=((total_panel_width * (1/5)), (total_panel_width * (1/5)) * (3/2)))"
   ]
  },
  {
   "cell_type": "code",
   "execution_count": null,
   "metadata": {},
   "outputs": [],
   "source": [
    "MICROSACC.plot_densities(microsaccades)"
   ]
  },
  {
   "cell_type": "code",
   "execution_count": null,
   "metadata": {},
   "outputs": [],
   "source": [
    " MICROSACC.plot_mainsequence(microsaccades)+ylim((0,150))+xlim((-1.5,0.5))+ theme(figure_size=((total_panel_width * (1/5)), (total_panel_width * (1/5)) * (8/4)))\n"
   ]
  },
  {
   "cell_type": "markdown",
   "metadata": {},
   "source": [
    "# Pupil Dilation"
   ]
  },
  {
   "cell_type": "markdown",
   "metadata": {},
   "source": [
    "## Results"
   ]
  },
  {
   "cell_type": "code",
   "execution_count": null,
   "metadata": {},
   "outputs": [],
   "source": [
    "p_lum_time = LUM.plot_time_all(all_lum_binned)"
   ]
  },
  {
   "cell_type": "code",
   "execution_count": null,
   "metadata": {},
   "outputs": [],
   "source": [
    "p_lum_time + theme(figure_size=((total_panel_width * (1/3)), (total_panel_width * (1/3)) * (5/6)))"
   ]
  },
  {
   "cell_type": "markdown",
   "metadata": {},
   "source": []
  },
  {
   "cell_type": "code",
   "execution_count": null,
   "metadata": {},
   "outputs": [],
   "source": [
    "p_lum_all =LUM.plot_mean(all_lum)"
   ]
  },
  {
   "cell_type": "code",
   "execution_count": null,
   "metadata": {},
   "outputs": [],
   "source": [
    "p_lum_all + theme(figure_size=((total_panel_width * (1/3)), (total_panel_width * (1/3)) * (5/6)))"
   ]
  },
  {
   "cell_type": "code",
   "execution_count": null,
   "metadata": {},
   "outputs": [],
   "source": [
    "mean_lum = LUM.calc_mean(all_lum)\n",
    "diff_lum = mean_lum.query(\"lum>0\").groupby([\"lum\",\"block\",\"subject\"],as_index=False).pa_norm.agg(np.diff)\n",
    "diff_lum.loc[:,'pa_norm'] = pd.to_numeric(diff_lum.loc[:,'pa_norm'])\n",
    "sublist = diff_lum.query(\"lum>210\").groupby(\"subject\").agg(\"mean\").sort_values(by=\"pa_norm\").index\n",
    "\n",
    "subject_cat = pd.api.types.CategoricalDtype(categories=sublist, ordered=True)\n",
    "\n",
    "# Cast the existing categories into the new category. Due to a bug in pandas\n",
    "# we need to do this via a string.\n",
    "diff_lum.loc[:,'subject'] = diff_lum['subject'].astype(str).astype(subject_cat)"
   ]
  },
  {
   "cell_type": "code",
   "execution_count": null,
   "metadata": {},
   "outputs": [],
   "source": [
    "diff_piv = diff_lum.pivot_table(index=[\"subject\",\"block\"],values=\"pa_norm\",columns=\"lum\")"
   ]
  },
  {
   "cell_type": "code",
   "execution_count": null,
   "metadata": {},
   "outputs": [],
   "source": [
    "diff_piv.columns"
   ]
  },
  {
   "cell_type": "code",
   "execution_count": null,
   "metadata": {},
   "outputs": [],
   "source": [
    "diff_piv = diff_piv.reset_index().melt(id_vars=[\"block\",\"subject\",64.0],value_vars=[128.0,192.0,255.0])"
   ]
  },
  {
   "cell_type": "code",
   "execution_count": null,
   "metadata": {},
   "outputs": [],
   "source": [
    "diff_piv.columns = diff_piv.columns.astype(str)"
   ]
  },
  {
   "cell_type": "code",
   "execution_count": null,
   "metadata": {},
   "outputs": [],
   "source": []
  },
  {
   "cell_type": "code",
   "execution_count": null,
   "metadata": {},
   "outputs": [],
   "source": [
    "p_lum_individ2 = (ggplot(diff_piv.groupby(['subject','lum'],as_index=False).agg(winmean),aes(x=\"64.0\",y=\"value\",group=\"lum\",color=\"subject\",alpha='lum'))\n",
    " +geom_abline(intercept=0,slope=1,color='gray')\n",
    " +stat_summary()\n",
    " +scale_alpha_continuous(breaks=[128,192,255],range=[0.5,1])\n",
    " + coord_fixed(xlim=[-0.1,0.1],ylim=[-0.1,0.1]))"
   ]
  },
  {
   "cell_type": "code",
   "execution_count": null,
   "metadata": {},
   "outputs": [],
   "source": [
    "p_lum_individ2 + theme(figure_size=((total_panel_width * (1/3)), (total_panel_width * (1/3)) * (5/6)))"
   ]
  },
  {
   "cell_type": "code",
   "execution_count": null,
   "metadata": {},
   "outputs": [],
   "source": [
    "p_lum_individ = (ggplot(diff_lum,aes(x=\"lum\",y=\"pa_norm\",color=\"subject\",group=\"subject\"))\n",
    " +stat_summary(fun_y=winmean,geom=\"point\")\n",
    " +stat_summary(fun_y=winmean,geom=\"line\",linetype='dashed')\n",
    " +xlab('luminance [%max]')\n",
    " +stat_summary(aes(group=1),fun_data=winmean_cl_boot,size=1,color='grey',position=position_nudge(x=5))\n",
    " +stat_summary(aes(group=1),fun_y=winmean,geom='line',size=1,color='grey',position=position_nudge(x=5))\n",
    " +ylab(\"normed pupil size difference EL-PL\"))"
   ]
  },
  {
   "cell_type": "code",
   "execution_count": null,
   "metadata": {},
   "outputs": [],
   "source": [
    "p_lum_individ + theme(figure_size=((total_panel_width * (1/3)), (total_panel_width * (1/3)) * (5/6)))"
   ]
  },
  {
   "cell_type": "code",
   "execution_count": null,
   "metadata": {},
   "outputs": [],
   "source": [
    "from functions.et_helper import winmean_cl_boot\n",
    "ggplot(diff_lum,aes(x=\"factor(round(lum/255*100))\",y=\"pa_norm\",color=\"subject\",group=\"subject\"))+stat_summary(fun_data=winmean_cl_boot,position=position_dodge(width=0.4))+xlab('luminance [%max]')+ylab(\"pupil size EL-PL\")  + theme(figure_size=((total_panel_width * (1/3)), (total_panel_width * (1/3)) * (5/6)))"
   ]
  },
  {
   "cell_type": "code",
   "execution_count": null,
   "metadata": {},
   "outputs": [],
   "source": [
    "#etsamples_100hz = etsamples_100hz.query(\"smpl_time>%.2f\"%(max(etsamples_100hz.groupby([\"eyetracker\"]).smpl_time.agg(min))))"
   ]
  },
  {
   "cell_type": "code",
   "execution_count": null,
   "metadata": {},
   "outputs": [],
   "source": [
    "# currently not working\n",
    "#etsamples_100hz.loc[etsamples_100hz.eyetracker=='el','pa_diff']=etsamples_100hz.query(\"eyetracker=='el'\").pa.values-etsamples_100hz.query(\"eyetracker=='pl'\").pa.values"
   ]
  },
  {
   "cell_type": "code",
   "execution_count": null,
   "metadata": {},
   "outputs": [],
   "source": [
    "#currently not working\n",
    "#ggplot(etsamples_100hz.loc[1:35000].query(\"eyetracker=='el'\"),aes(x=\"pa\",y=\"pa_diff\"))+geom_point()"
   ]
  },
  {
   "cell_type": "markdown",
   "metadata": {},
   "source": [
    "# Freeviewing"
   ]
  },
  {
   "cell_type": "markdown",
   "metadata": {},
   "source": [
    "## Results"
   ]
  },
  {
   "cell_type": "code",
   "execution_count": null,
   "metadata": {},
   "outputs": [],
   "source": [
    "# plot the fixations as a heatmap\n",
    "# TODO annotation how many fixations from how many pictures are used for each eyetracker\n",
    "#%matplotlib ipympl\n",
    "plt.rcParams['figure.figsize'] = [(total_panel_width * (2/5)), (total_panel_width * (2/5)) * (3/4)]\n",
    "p_free_heatmap = FREEVIEW.plot_heatmap(raw_freeview_df,raw_fix_count_df, only_horizontal_heatmap=True)"
   ]
  },
  {
   "cell_type": "code",
   "execution_count": null,
   "metadata": {},
   "outputs": [],
   "source": [
    "# plot fixation counts\n",
    "p_free_nfix = FREEVIEW.plot_number_of_fixations(raw_fix_count_df, option=None)"
   ]
  },
  {
   "cell_type": "code",
   "execution_count": null,
   "metadata": {},
   "outputs": [],
   "source": [
    "p_free_nfix + theme(figure_size=((total_panel_width * (1/5)), (total_panel_width * (1/5)) * (3/2)))"
   ]
  },
  {
   "cell_type": "code",
   "execution_count": null,
   "metadata": {},
   "outputs": [],
   "source": [
    "import MISC"
   ]
  },
  {
   "cell_type": "code",
   "execution_count": null,
   "metadata": {},
   "outputs": [],
   "source": [
    "raw_fix_count_df.columns\n"
   ]
  },
  {
   "cell_type": "code",
   "execution_count": null,
   "metadata": {},
   "outputs": [],
   "source": [
    "MISC.print_results(raw_fix_count_df, fields = ['fix_counts'], agg_first_over_blocks=False,round_to=1)"
   ]
  },
  {
   "cell_type": "code",
   "execution_count": null,
   "metadata": {},
   "outputs": [],
   "source": []
  },
  {
   "cell_type": "code",
   "execution_count": null,
   "metadata": {},
   "outputs": [],
   "source": [
    "FREEVIEW.plot_scanpath(etsamples,etmsgs,subject='VP24', pic_id=4)"
   ]
  },
  {
   "cell_type": "code",
   "execution_count": null,
   "metadata": {},
   "outputs": [],
   "source": [
    "plt.figure()\n",
    "FREEVIEW.plot_scanpath(etsamples,etmsgs,subject='VP24', pic_id=15)"
   ]
  },
  {
   "cell_type": "code",
   "execution_count": null,
   "metadata": {},
   "outputs": [],
   "source": [
    "# plot fixation durations\n",
    "p_free_fixdur = FREEVIEW.plot_fixation_durations(raw_freeview_df)\n",
    "p_free_fixdur #25ms bins"
   ]
  },
  {
   "cell_type": "code",
   "execution_count": null,
   "metadata": {},
   "outputs": [],
   "source": [
    "def percentile(n):\n",
    "    def percentile_(x):\n",
    "        return np.percentile(x, n)\n",
    "    percentile_.__name__ = 'percentile_%s' % n\n",
    "    return percentile_\n",
    "raw_freeview_df.groupby([\"eyetracker\",\"subject\"]).agg(\"count\").groupby(\"eyetracker\").agg([\"sum\",\"mean\",percentile(25),percentile(75)])\n",
    "#def print_results(df,fields = ['duration','accuracy','rms','sd'], round_to=2, agg_first_over_blocks=True):"
   ]
  },
  {
   "cell_type": "code",
   "execution_count": null,
   "metadata": {},
   "outputs": [],
   "source": [
    "freeview_data = pd.DataFrame()\n",
    "\n",
    "for sub in etmsgs.subject.unique():\n",
    "    fromTList = etmsgs.query(\"pic_id>-1&eyetracker=='pl'& subject==@sub \").msg_time.values - 6\n",
    "    toTList = fromTList + 6\n",
    "    for fromT,toT in zip(fromTList,toTList):\n",
    "        freeview_data = pd.concat([freeview_data,etevents.query(\"start_time>@fromT & start_time<=@toT   & subject==@sub \")])"
   ]
  },
  {
   "cell_type": "code",
   "execution_count": null,
   "metadata": {},
   "outputs": [],
   "source": [
    "freeview_data[[\"type\",\"eyetracker\",\"subject\",\"duration\"]].groupby([\"type\",\"eyetracker\",\"subject\"]).agg(\"count\").groupby([\"type\",\"eyetracker\"]).agg([\"sum\",\"mean\",percentile(25),percentile(75)])"
   ]
  },
  {
   "cell_type": "code",
   "execution_count": null,
   "metadata": {},
   "outputs": [],
   "source": [
    "MISC.print_results(freeview_data.query(\"type=='saccade'\"), fields = ['amplitude'], agg_first_over_blocks=False,round_to=2)"
   ]
  },
  {
   "cell_type": "code",
   "execution_count": null,
   "metadata": {},
   "outputs": [],
   "source": [
    "ggplot(freeview_data.query(\"type=='saccade'\"),aes(x=\"amplitude\",color=\"eyetracker\"))+geom_freqpoly(binwidth=0.25)"
   ]
  },
  {
   "cell_type": "code",
   "execution_count": null,
   "metadata": {},
   "outputs": [],
   "source": [
    "MISC.print_results(raw_freeview_df, fields = ['duration'], agg_first_over_blocks=True,round_to=3)"
   ]
  },
  {
   "cell_type": "code",
   "execution_count": null,
   "metadata": {},
   "outputs": [],
   "source": [
    "from functions.detect_saccades import interpolate_gaze\n",
    "def wrapper_interpolate(x,fs=120):\n",
    "    #print(\"working on subject:%s\"%(x.iloc[0]['subject']))\n",
    "    \n",
    "    tmp = interpolate_gaze(x,fs=fs)\n",
    "    tmp.loc[tmp.is_blink!=0,['gx','gy']] = np.nan\n",
    "    #tmp.loc[:,\"eyetracker\"] = x.iloc[0]['eyetracker']\n",
    "    #tmp.loc[:,\"subject\"] = x.iloc[0]['subject']\n",
    "    return(tmp)"
   ]
  },
  {
   "cell_type": "code",
   "execution_count": null,
   "metadata": {},
   "outputs": [],
   "source": [
    "subject = 'VP4'\n",
    "elsamples_noclean,elmsgs_noclean,elevents_noclean = et_helper.load_file(subject=subject,cleaned=False,et='el')\n",
    "plsamples_noclean,plmsgs_noclean,plevents_noclean = et_helper.load_file(subject=subject,cleaned=False,et='pl')\n",
    "etsamples_noclean = pd.concat([elsamples_noclean.assign(eyetracker='el',subject=subject),plsamples_noclean.assign(eyetracker='pl',subject=subject)])\n",
    "etmsgs_noclean    = pd.concat([elmsgs_noclean.assign(eyetracker='el',subject=subject),   plmsgs_noclean.assign(eyetracker='pl',subject=subject)])\n",
    "etevents_noclean  = pd.concat([elevents_noclean.assign(eyetracker='el',subject=subject) ,plevents_noclean.assign(eyetracker='pl',subject=subject)])"
   ]
  },
  {
   "cell_type": "code",
   "execution_count": null,
   "metadata": {},
   "outputs": [],
   "source": [
    "etsamples_noclean,etmsgs_noclean,etevents_noclean = be_load.regress_eyetracker(etsamples_noclean,etevents_noclean,etmsgs_noclean,subject=subject)"
   ]
  },
  {
   "cell_type": "code",
   "execution_count": null,
   "metadata": {},
   "outputs": [],
   "source": [
    "freeviewtime = etmsgs_noclean.query(\"trial<4&condition=='FREEVIEW'&block=='3'\")\n",
    "freeviewtime"
   ]
  },
  {
   "cell_type": "code",
   "execution_count": null,
   "metadata": {},
   "outputs": [],
   "source": [
    "etsamples_100hz_el  = wrapper_interpolate(etsamples_noclean.query(\"eyetracker=='el'&smpl_time>@freeviewtime.iloc[0].msg_time&smpl_time<=@freeviewtime.iloc[2].msg_time\"),fs=1000)\n",
    "\n",
    "etsamples_noclean.loc[etsamples_noclean.eyetracker=='pl','smpl_time'] = etsamples_noclean.query(\"eyetracker=='pl'\").smpl_time + 0.01\n",
    "etsamples_100hz_pl  = wrapper_interpolate(etsamples_noclean.query(\"eyetracker=='pl'&smpl_time>@freeviewtime.iloc[3].msg_time&smpl_time<=@freeviewtime.iloc[5].msg_time\"),fs=1000)\n",
    "\n"
   ]
  },
  {
   "cell_type": "code",
   "execution_count": null,
   "metadata": {},
   "outputs": [],
   "source": [
    "etsamples_100hz_diff = etsamples_100hz_el\n",
    "etsamples_100hz_diff.loc[:,'gx'] = etsamples_100hz_el.gx - etsamples_100hz_pl.gx\n",
    "etsamples_100hz_diff.loc[:,'gy'] = etsamples_100hz_el.gy - etsamples_100hz_pl.gy"
   ]
  },
  {
   "cell_type": "code",
   "execution_count": null,
   "metadata": {},
   "outputs": [],
   "source": [
    "# ggplot(etsamples_100hz_diff,aes(x=\"smpl_time\",y=\"gx\"))+geom_point()\n",
    "# This plot takes long time to plot and I therefore disabled it\n",
    "# we still have delay here, the spikes are from saccades. we need to figure this one out"
   ]
  },
  {
   "cell_type": "code",
   "execution_count": null,
   "metadata": {},
   "outputs": [],
   "source": [
    "if 1==0:\n",
    "    # This cell is just there to check whether our alignment is correct. the pupillabs given 10ms look very good.\n",
    "    timesel = 'smpl_time>13222&smpl_time<13222.5' # VP3\n",
    "    timesel = 'smpl_time>7.32&smpl_time<17.35'\n",
    "    timesel = 'smpl_time>17927&smpl_time<17929'\n",
    "    ggplot(pd.concat([etsamples_100hz_el.assign(eyetracker='el'),etsamples_100hz_pl.assign(eyetracker='pl')]).query(timesel),aes(x=\"smpl_time\",y=\"gx\",color=\"eyetracker\"))+geom_point()\n",
    "    #ggplot(pd.concat([etsamples_el.assign(eyetracker='el'),etsamples_pl.assign(eyetracker='pl')]).query(timesel),aes(x=\"smpl_time\",y=\"gx\",color=\"eyetracker\"))+geom_point()"
   ]
  },
  {
   "cell_type": "markdown",
   "metadata": {},
   "source": [
    "# Small Grid"
   ]
  },
  {
   "cell_type": "code",
   "execution_count": null,
   "metadata": {},
   "outputs": [],
   "source": [
    "p_grid_time = LARGE_and_SMALL_GRID.plot_accuracy(raw_all_grids_df, option='final_figure')+expand_limits(y=0)\n",
    "p_grid_time + theme(figure_size=((total_panel_width * (2/5)), (total_panel_width * (2/5)) * (1/3)))"
   ]
  },
  {
   "cell_type": "code",
   "execution_count": null,
   "metadata": {},
   "outputs": [],
   "source": [
    "#LARGE_and_SMALL_GRID.plot_accuracy(raw_all_grids_df, option='subjectvariance')"
   ]
  },
  {
   "cell_type": "code",
   "execution_count": null,
   "metadata": {},
   "outputs": [],
   "source": [
    "all_grids_winmean = raw_all_grids_df.groupby(['condition','subject','et','block'], as_index=False).agg(winmean).groupby(['condition', 'subject','et'], as_index=False).agg(winmean)"
   ]
  },
  {
   "cell_type": "code",
   "execution_count": null,
   "metadata": {},
   "outputs": [],
   "source": []
  },
  {
   "cell_type": "markdown",
   "metadata": {},
   "source": [
    "%%R\n",
    "library(lme4)\n",
    "library(lmerTest)\n",
    "library(dplyr)\n",
    "all_grids_winmean$et = factor(all_grids_winmean$et)\n",
    "all_grids_winmean$condition = factor(all_grids_winmean$condition)\n",
    "#contrasts(all_grids_winmean$et)=c(-0.5,0.5)\n",
    "#all_grids_winmean$et = all_grids_winmean$et == 'EyeLink'\n",
    "\n",
    "mres <- lmer(accuracy ~ 1 + et*condition +  ( 1 | subject) ,data = all_grids_winmean)\n",
    "print(summary(mres))\n",
    "#print(anova(mres))\n",
    "diff_all_grids_winmean = all_grids_winmean %>% group_by(subject,condition) %>% mutate(acc_diff = accuracy[et!='Pupil Labs'] -accuracy[et=='Pupil Labs'])\n",
    "ggplot(diff_all_grids_winmean,aes(x=condition,y=acc_diff,color=interaction(subject),shape=et))+geom_point(position=position_dodge(width=0.5))+stat_summary()"
   ]
  },
  {
   "cell_type": "code",
   "execution_count": null,
   "metadata": {},
   "outputs": [],
   "source": []
  },
  {
   "cell_type": "markdown",
   "metadata": {},
   "source": [
    "# investigate on the position and properties of detected fixations\n",
    "LARGE_and_SMALL_GRID.display_fixations(raw_all_grids_df, option='fixations')"
   ]
  },
  {
   "cell_type": "markdown",
   "metadata": {},
   "source": [
    "# Shake"
   ]
  },
  {
   "cell_type": "code",
   "execution_count": null,
   "metadata": {},
   "outputs": [],
   "source": [
    "from functions.et_helper import winmean,winmean_cl_boot\n",
    "shakevalues = shake.shake_x.unique()\n",
    "def find_min(list,target):\n",
    "    return(list[np.argmin(np.abs(list-target))])\n",
    "closest_grid = [find_min(raw_all_grids_df.query('condition!=\"GRID\"').posx.unique(),x) for x in shakevalues]\n",
    "\n",
    "\n",
    "data = pd.concat([shake,raw_all_grids_df.query(\"condition!='GRID'&posy==0\")])\n",
    "data = data.query(\"~(subject=='VP11' & block=='1')\") # misunderstood instructions\n",
    "data = data.query(\"~(subject=='VP1' & block=='3')\") # one trial in block 3 was not rotated\n",
    "data = data.query(\"~(subject=='VP19' & block=='1')\") # one trial in block 3 was not rotated"
   ]
  },
  {
   "cell_type": "code",
   "execution_count": null,
   "metadata": {},
   "outputs": [],
   "source": [
    "data = data.groupby(['eyetracker','condition','posx','subject'],as_index=False).agg(winmean)"
   ]
  },
  {
   "cell_type": "code",
   "execution_count": null,
   "metadata": {},
   "outputs": [],
   "source": [
    "p_shake_gx=(ggplot(data,aes(x='posx',y='mean_gx-posx',color='condition'))+geom_point(alpha=0.1)+stat_summary(fun_data=winmean_cl_boot)+ facet_wrap(\"eyetracker\"))\n",
    "p_shake_gx + coord_cartesian(ylim=[-2.5,2.5])+ theme(figure_size=((total_panel_width  * (1/4)), (total_panel_width  * (1/2.) * (1/4))))"
   ]
  },
  {
   "cell_type": "code",
   "execution_count": null,
   "metadata": {},
   "outputs": [],
   "source": [
    "p_shake_gy = (ggplot(data,aes(x='posx',y='mean_gy',color='condition'))+ geom_point(alpha=0.1)+stat_summary(fun_data=winmean_cl_boot)+ facet_wrap(\"eyetracker\"))\n",
    "p_shake_gy+ coord_cartesian(ylim=[-2.5,2.5])+ theme(figure_size=((total_panel_width  * (1/4)), (total_panel_width  * (1/2.) * (1/4))))\n"
   ]
  },
  {
   "cell_type": "code",
   "execution_count": null,
   "metadata": {},
   "outputs": [],
   "source": [
    "# specify costumed minimal theme\n",
    "import functions.plotnine_theme as mythemes\n",
    "\n",
    "# save old theme and set the one for fixation plotting\n",
    "#old_theme = theme_get()\n",
    "#theme_set(mythemes.shake_rotate_theme)\n",
    "\n",
    "\n",
    "shake_plot = (ggplot(data.query('condition==\"SHAKE\"'), aes(x='mean_gx-posx',y='mean_gy',shape='eyetracker',group=\"eyetracker\",color='eyetracker',fill='posx'))\n",
    "            + geom_point()\n",
    "            + geom_path()\n",
    "            + facet_wrap(\"subject\",nrow=2)\n",
    "            + coord_fixed(xlim=[-2.5,5],ylim=[-1.5,2.5])\n",
    "            + mythemes.shake_rotate_theme\n",
    "            + scale_fill_gradient(low='#000000',high='#CCCCCC')\n",
    "            + theme(figure_size=((total_panel_width  * (1/2.)), (total_panel_width  * (1/2.) * (1/4)))))\n",
    "\n",
    "shake_plot\n",
    "\n",
    "# restore old theme\n",
    "#theme_set(old_theme)"
   ]
  },
  {
   "cell_type": "markdown",
   "metadata": {},
   "source": [
    "# Rotate"
   ]
  },
  {
   "cell_type": "code",
   "execution_count": null,
   "metadata": {},
   "outputs": [],
   "source": [
    "from functions.et_helper import winmean\n",
    "\n",
    "rotate = etmsgs.query('condition==\"TILT\"') # TILT is a missnomer and should be ROTATE\n",
    "rotate.loc[:,'element'] = rotate.groupby(['subject','eyetracker','block','condition','exp_event']).cumcount()\n",
    "\n",
    "rotate.loc[:,'angle_shift'] = rotate.angle.shift(1)\n",
    "from functions.et_make_df import make_epochs\n",
    "rotate_mean_all = pd.DataFrame()\n",
    "for subject in etmsgs.subject.unique():\n",
    "    if subject =='VP19':\n",
    "        # As evident from the videos, VP 19 did not understand the task instructions. \n",
    "        continue\n",
    "    for et in etmsgs.eyetracker.unique():\n",
    "        \n",
    "        subjectquery = 'subject==@subject & eyetracker==@et'\n",
    "        \n",
    "        try:\n",
    "            rotate_epoch = make_epochs(etsamples.query(subjectquery),rotate.query(subjectquery), td=[-0.5,0])\n",
    "            rotate_mean = rotate_epoch.groupby(['subject','eyetracker','block','angle_shift','element'],as_index=False).agg(winmean)\n",
    "            rotate_mean.loc[:,'eyetracker'] = et\n",
    "            rotate_mean.loc[:,'subject'] = subject\n",
    "            rotate_mean_all = pd.concat([rotate_mean_all,rotate_mean])\n",
    "        except:\n",
    "            print('rotate: could not do sub:%s and et:%s'%(subject,et))"
   ]
  },
  {
   "cell_type": "code",
   "execution_count": null,
   "metadata": {},
   "outputs": [],
   "source": [
    "rotate_mean = rotate_mean.query(\"~(subject=='VP22'&block=='1')\")\n",
    "rotate_mean = rotate_mean.query(\"~(subject=='VP19')\")"
   ]
  },
  {
   "cell_type": "code",
   "execution_count": null,
   "metadata": {},
   "outputs": [],
   "source": [
    "\n",
    "p_rotate_gx =(\n",
    " ggplot(rotate_mean_all.groupby(['angle_shift','subject','eyetracker'],as_index=False).agg(winmean),aes(x='angle_shift',y='gx',group=\"subject\",color=\"subject\"))\n",
    "    +geom_path(linetype='dashed')\n",
    "    +geom_point()\n",
    "    +facet_wrap(\"eyetracker\")\n",
    "    +coord_cartesian(ylim=[-2,2])\n",
    "    + theme(figure_size=((total_panel_width  * (1/4)), (total_panel_width  * (1/2.) * (1/4)))))\n",
    "\n"
   ]
  },
  {
   "cell_type": "code",
   "execution_count": null,
   "metadata": {},
   "outputs": [],
   "source": [
    "p_rotate_gx"
   ]
  },
  {
   "cell_type": "code",
   "execution_count": null,
   "metadata": {},
   "outputs": [],
   "source": [
    "p_rotate_gy = (\n",
    "    ggplot(rotate_mean_all.groupby(['angle_shift','subject','eyetracker'],as_index=False).agg(winmean),aes(x='angle_shift',y='gy',group=\"subject\",color=\"subject\"))\n",
    "    +geom_path(linetype='dashed')\n",
    "    +geom_point()\n",
    "    +facet_wrap(\"eyetracker\")\n",
    "    +coord_cartesian(ylim=[-2,2])\n",
    "    + theme(figure_size=((total_panel_width  * (1/4)), (total_panel_width  * (1/2.) * (1/4)))))"
   ]
  },
  {
   "cell_type": "code",
   "execution_count": null,
   "metadata": {},
   "outputs": [],
   "source": [
    "p_rotate_gy"
   ]
  },
  {
   "cell_type": "code",
   "execution_count": null,
   "metadata": {},
   "outputs": [],
   "source": [
    "import rpy2.ipython\n",
    "%reload_ext rpy2.ipython\n",
    "%R require(ggplot2)\n",
    "%R library(\"ggplot2\")\n",
    "\n",
    "df = rotate_mean_all.groupby(['subject','angle_shift','eyetracker'],as_index=False).agg(winmean)"
   ]
  },
  {
   "cell_type": "code",
   "execution_count": null,
   "metadata": {},
   "outputs": [],
   "source": [
    "p = (ggplot(rotate_mean_all.groupby(['block','subject','angle_shift','eyetracker'],as_index=False).agg(winmean),\n",
    "        aes(x='gx',y='gy',shape='eyetracker',group=\"eyetracker\",color='eyetracker',fill='angle_shift'))\n",
    "    +geom_point()\n",
    "    +geom_path()\n",
    "    +facet_grid(\"block~subject\",scales='free')\n",
    "    +coord_fixed()\n",
    "    +scale_fill_gradient(low='#000000',high='#CCCCCC'))\n",
    "\n",
    "#p"
   ]
  },
  {
   "cell_type": "code",
   "execution_count": null,
   "metadata": {},
   "outputs": [],
   "source": [
    "# specify costumed minimal theme\n",
    "import functions.plotnine_theme as mythemes\n",
    "\n",
    "\n",
    "\n",
    "\n",
    "rotate_plot = (ggplot(df, aes(x='gx',y='gy',shape='eyetracker',group=\"eyetracker\",color='eyetracker',fill='angle_shift'))\n",
    "                + geom_point()\n",
    "                + geom_path()\n",
    "                + facet_wrap(\"subject\",nrow=2)\n",
    "                + coord_fixed(xlim=[-1.5,1.75],ylim=[-1.5,2.5])\n",
    "                + scale_fill_gradient(low='#000000',high='#CCCCCC') \n",
    "                + mythemes.shake_rotate_theme\n",
    "                + theme(figure_size=((total_panel_width * (1/2)), (total_panel_width * (1/2) * (1/4)))))\n",
    "\n",
    "rotate_plot\n"
   ]
  },
  {
   "cell_type": "code",
   "execution_count": null,
   "metadata": {},
   "outputs": [],
   "source": [
    "import statsmodels.api as sm\n",
    "import statsmodels.formula.api as smf\n",
    "def rotate_model(df):\n",
    "    mod = smf.ols(formula='gx ~ angle_shift', data=df)\n",
    "    res= mod.fit()\n",
    "    return(res.params)\n",
    "rotate_res = rotate_mean_all.groupby([\"subject\",\"eyetracker\"]).apply(rotate_model)"
   ]
  },
  {
   "cell_type": "code",
   "execution_count": null,
   "metadata": {},
   "outputs": [],
   "source": [
    "angle_shift = ggplot(rotate_res.reset_index(),aes(x=\"eyetracker\",y=\"angle_shift\")) + geom_line(aes(group='subject'), color='lightblue') + geom_point(color='lightblue')         "
   ]
  },
  {
   "cell_type": "code",
   "execution_count": null,
   "metadata": {},
   "outputs": [],
   "source": [
    "angle_shift  + theme(figure_size=((total_panel_width * (1/5)), (total_panel_width * (1/5)) * (3/2)))"
   ]
  }
 ],
 "metadata": {
  "kernelspec": {
   "display_name": "Python 3",
   "language": "python",
   "name": "python3"
  },
  "language_info": {
   "codemirror_mode": {
    "name": "ipython",
    "version": 3
   },
   "file_extension": ".py",
   "mimetype": "text/x-python",
   "name": "python",
   "nbconvert_exporter": "python",
   "pygments_lexer": "ipython3",
   "version": "3.5.2"
  }
 },
 "nbformat": 4,
 "nbformat_minor": 2
}
